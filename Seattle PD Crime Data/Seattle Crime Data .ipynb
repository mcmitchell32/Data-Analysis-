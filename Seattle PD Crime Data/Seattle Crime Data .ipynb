
{
 "cells": [
  {
   "cell_type": "code",
   "execution_count": 1,
   "id": "21dcfddf",
   "metadata": {},
   "outputs": [],
   "source": [
    "import pandas as pd \n",
    "import numpy as np \n",
    "import seaborn as sns \n",
    "import matplotlib.pyplot as plt \n",
    "%matplotlib inline \n",
    "import os"
   ]
  },
  {
   "cell_type": "code",
   "execution_count": 2,
   "id": "e250ee37",
   "metadata": {},
   "outputs": [],
   "source": [
    "cwd = os.getcwd()\n",
    "# print(cwd)"
   ]
  },
  {
   "cell_type": "code",
   "execution_count": 3,
   "id": "befaa3df",
   "metadata": {},
   "outputs": [
    {
     "data": {
      "text/html": [
       "<div>\n",
       "<style scoped>\n",
       "    .dataframe tbody tr th:only-of-type {\n",
       "        vertical-align: middle;\n",
       "    }\n",
       "\n",
       "    .dataframe tbody tr th {\n",
       "        vertical-align: top;\n",
       "    }\n",
       "\n",
       "    .dataframe thead th {\n",
       "        text-align: right;\n",
       "    }\n",
       "</style>\n",
       "<table border=\"1\" class=\"dataframe\">\n",
       "  <thead>\n",
       "    <tr style=\"text-align: right;\">\n",
       "      <th></th>\n",
       "      <th>Report Number</th>\n",
       "      <th>Offense ID</th>\n",
       "      <th>Offense Start DateTime</th>\n",
       "      <th>Offense End DateTime</th>\n",
       "      <th>Report DateTime</th>\n",
       "      <th>Group A B</th>\n",
       "      <th>Crime Against Category</th>\n",
       "      <th>Offense Parent Group</th>\n",
       "      <th>Offense</th>\n",
       "      <th>Offense Code</th>\n",
       "      <th>Precinct</th>\n",
       "      <th>Sector</th>\n",
       "      <th>Beat</th>\n",
       "      <th>MCPP</th>\n",
       "      <th>100 Block Address</th>\n",
       "      <th>Longitude</th>\n",
       "      <th>Latitude</th>\n",
       "    </tr>\n",
       "  </thead>\n",
       "  <tbody>\n",
       "    <tr>\n",
       "      <th>0</th>\n",
       "      <td>2020-044620</td>\n",
       "      <td>12605873663</td>\n",
       "      <td>02/05/2020 10:10:00 AM</td>\n",
       "      <td>NaN</td>\n",
       "      <td>02/05/2020 11:24:31 AM</td>\n",
       "      <td>A</td>\n",
       "      <td>SOCIETY</td>\n",
       "      <td>DRUG/NARCOTIC OFFENSES</td>\n",
       "      <td>Drug/Narcotic Violations</td>\n",
       "      <td>35A</td>\n",
       "      <td>W</td>\n",
       "      <td>Q</td>\n",
       "      <td>Q1</td>\n",
       "      <td>MAGNOLIA</td>\n",
       "      <td>32XX BLOCK OF 23RD AVE W</td>\n",
       "      <td>-122.385974</td>\n",
       "      <td>47.649387</td>\n",
       "    </tr>\n",
       "    <tr>\n",
       "      <th>1</th>\n",
       "      <td>2020-044452</td>\n",
       "      <td>12605598696</td>\n",
       "      <td>02/03/2020 08:00:00 AM</td>\n",
       "      <td>02/04/2020 08:00:00 AM</td>\n",
       "      <td>02/05/2020 10:06:28 AM</td>\n",
       "      <td>A</td>\n",
       "      <td>PROPERTY</td>\n",
       "      <td>LARCENY-THEFT</td>\n",
       "      <td>Theft of Motor Vehicle Parts or Accessories</td>\n",
       "      <td>23G</td>\n",
       "      <td>N</td>\n",
       "      <td>J</td>\n",
       "      <td>J3</td>\n",
       "      <td>ROOSEVELT/RAVENNA</td>\n",
       "      <td>63XX BLOCK OF 5TH AVE NE</td>\n",
       "      <td>-122.323399</td>\n",
       "      <td>47.675118</td>\n",
       "    </tr>\n",
       "  </tbody>\n",
       "</table>\n",
       "</div>"
      ],
      "text/plain": [
       "  Report Number   Offense ID  Offense Start DateTime    Offense End DateTime  \\\n",
       "0   2020-044620  12605873663  02/05/2020 10:10:00 AM                     NaN   \n",
       "1   2020-044452  12605598696  02/03/2020 08:00:00 AM  02/04/2020 08:00:00 AM   \n",
       "\n",
       "          Report DateTime Group A B Crime Against Category  \\\n",
       "0  02/05/2020 11:24:31 AM         A                SOCIETY   \n",
       "1  02/05/2020 10:06:28 AM         A               PROPERTY   \n",
       "\n",
       "     Offense Parent Group                                      Offense  \\\n",
       "0  DRUG/NARCOTIC OFFENSES                     Drug/Narcotic Violations   \n",
       "1           LARCENY-THEFT  Theft of Motor Vehicle Parts or Accessories   \n",
       "\n",
       "  Offense Code Precinct Sector Beat               MCPP  \\\n",
       "0          35A        W      Q   Q1           MAGNOLIA   \n",
       "1          23G        N      J   J3  ROOSEVELT/RAVENNA   \n",
       "\n",
       "          100 Block Address   Longitude   Latitude  \n",
       "0  32XX BLOCK OF 23RD AVE W -122.385974  47.649387  \n",
       "1  63XX BLOCK OF 5TH AVE NE -122.323399  47.675118  "
      ]
     },
     "execution_count": 3,
     "metadata": {},
     "output_type": "execute_result"
    }
   ],
   "source": [
    "data = pd.read_csv(\"The Seattle Police Department (SPD) Crime Data.csv\")\n",
    "data.head(2)"
   ]
  },
  {
   "cell_type": "code",
   "execution_count": 4,
   "id": "731d61ed",
   "metadata": {},
   "outputs": [
    {
     "data": {
      "text/plain": [
       "(979713, 17)"
      ]
     },
     "execution_count": 4,
     "metadata": {},
     "output_type": "execute_result"
    }
   ],
   "source": [
    "data.shape #almost a millions rows to start with before cleaning and imputation "
   ]
  },
  {
   "cell_type": "code",
   "execution_count": 5,
   "id": "60d0d665",
   "metadata": {},
   "outputs": [
    {
     "name": "stdout",
     "output_type": "stream",
     "text": [
      "<class 'pandas.core.frame.DataFrame'>\n",
      "RangeIndex: 979713 entries, 0 to 979712\n",
      "Data columns (total 17 columns):\n",
      " #   Column                  Non-Null Count   Dtype  \n",
      "---  ------                  --------------   -----  \n",
      " 0   Report Number           979713 non-null  object \n",
      " 1   Offense ID              979713 non-null  int64  \n",
      " 2   Offense Start DateTime  978708 non-null  object \n",
      " 3   Offense End DateTime    543406 non-null  object \n",
      " 4   Report DateTime         979713 non-null  object \n",
      " 5   Group A B               979713 non-null  object \n",
      " 6   Crime Against Category  979713 non-null  object \n",
      " 7   Offense Parent Group    979713 non-null  object \n",
      " 8   Offense                 979713 non-null  object \n",
      " 9   Offense Code            979713 non-null  object \n",
      " 10  Precinct                979709 non-null  object \n",
      " 11  Sector                  979711 non-null  object \n",
      " 12  Beat                    979711 non-null  object \n",
      " 13  MCPP                    979713 non-null  object \n",
      " 14  100 Block Address       940102 non-null  object \n",
      " 15  Longitude               979713 non-null  float64\n",
      " 16  Latitude                979713 non-null  float64\n",
      "dtypes: float64(2), int64(1), object(14)\n",
      "memory usage: 127.1+ MB\n"
     ]
    }
   ],
   "source": [
    "data.info()"
   ]
  },
  {
   "cell_type": "code",
   "execution_count": null,
   "id": "73ae1397",
   "metadata": {},
   "outputs": [],
   "source": [
    "# !pip install pandas_profiling\n",
    "# from pandas_profiling import ProfileReport\n",
    "\n",
    "# profile = ProfileReport(data, title=\"Police Report: Pandas Profiling Report\", explorative=True)\n",
    "# profile\n",
    "# profile.to_widgets()"
   ]
  },
  {
   "cell_type": "code",
   "execution_count": 9,
   "id": "fd72cf78",
   "metadata": {},
   "outputs": [
    {
     "data": {
      "text/plain": [
       "Offense End DateTime      436307\n",
       "100 Block Address          39611\n",
       "Offense Start DateTime      1005\n",
       "Precinct                       4\n",
       "Beat                           2\n",
       "Sector                         2\n",
       "Report Number                  0\n",
       "Longitude                      0\n",
       "MCPP                           0\n",
       "Offense                        0\n",
       "Offense Code                   0\n",
       "Offense ID                     0\n",
       "Offense Parent Group           0\n",
       "Crime Against Category         0\n",
       "Group A B                      0\n",
       "Report DateTime                0\n",
       "Latitude                       0\n",
       "dtype: int64"
      ]
     },
     "execution_count": 9,
     "metadata": {},
     "output_type": "execute_result"
    }
   ],
   "source": [
    "data.isnull().sum().sort_values(ascending=False) "
   ]
  },
  {
   "cell_type": "code",
   "execution_count": 12,
   "id": "97fdcb93",
   "metadata": {},
   "outputs": [
    {
     "data": {
      "text/plain": [
       "44.53"
      ]
     },
     "execution_count": 12,
     "metadata": {},
     "output_type": "execute_result"
    }
   ],
   "source": [
    "round(data[data['Offense End DateTime'].isnull()].shape[0] / data.shape[0] * 100, 2)\n",
    "#nearly 45% of all Offense End DateTime values are NaN"
   ]
  },
  {
   "cell_type": "code",
   "execution_count": null,
   "id": "704cb169",
   "metadata": {},
   "outputs": [],
   "source": [
    "# there are 39611 incidents without an address - remove \n",
    "# same goes for any other missing data, like Start DateTime \n",
    "# there is no way to get an accurate Start DateTime"
   ]
  },
  {
   "cell_type": "code",
   "execution_count": 13,
   "id": "d9c8a34e",
   "metadata": {},
   "outputs": [
    {
     "data": {
      "text/plain": [
       "Report Number             0\n",
       "Offense ID                0\n",
       "Offense Start DateTime    0\n",
       "Report DateTime           0\n",
       "Group A B                 0\n",
       "Crime Against Category    0\n",
       "Offense Parent Group      0\n",
       "Offense                   0\n",
       "Offense Code              0\n",
       "Precinct                  0\n",
       "Sector                    0\n",
       "Beat                      0\n",
       "MCPP                      0\n",
       "100 Block Address         0\n",
       "Longitude                 0\n",
       "Latitude                  0\n",
       "dtype: int64"
      ]
     },
     "execution_count": 13,
     "metadata": {},
     "output_type": "execute_result"
    }
   ],
   "source": [
    "data.drop(['Offense End DateTime'], axis = 1, inplace = True) # removing column from dataframe\n",
    "data.dropna(axis=0, inplace=True) # dropping remaining values that are NaN\n",
    "data.isnull().sum()"
   ]
  },
  {
   "cell_type": "code",
   "execution_count": 15,
   "id": "cbfd6fca",
   "metadata": {},
   "outputs": [
    {
     "data": {
      "text/plain": [
       "0"
      ]
     },
     "execution_count": 15,
     "metadata": {},
     "output_type": "execute_result"
    }
   ],
   "source": [
    "data.duplicated().sum() # there are no duplicates present in the dataset "
   ]
  },
  {
   "cell_type": "code",
   "execution_count": 14,
   "id": "5d4a9a91",
   "metadata": {},
   "outputs": [],
   "source": [
    "data.columns = data.columns.str.replace(\" \", \"_\").str.lower() #formatting column names "
   ]
  },
  {
   "cell_type": "code",
   "execution_count": 16,
   "id": "71a8aca6",
   "metadata": {},
   "outputs": [
    {
     "data": {
      "text/html": [
       "<div>\n",
       "<style scoped>\n",
       "    .dataframe tbody tr th:only-of-type {\n",
       "        vertical-align: middle;\n",
       "    }\n",
       "\n",
       "    .dataframe tbody tr th {\n",
       "        vertical-align: top;\n",
       "    }\n",
       "\n",
       "    .dataframe thead th {\n",
       "        text-align: right;\n",
       "    }\n",
       "</style>\n",
       "<table border=\"1\" class=\"dataframe\">\n",
       "  <thead>\n",
       "    <tr style=\"text-align: right;\">\n",
       "      <th></th>\n",
       "      <th>report_number</th>\n",
       "      <th>offense_id</th>\n",
       "      <th>offense_start_datetime</th>\n",
       "      <th>report_datetime</th>\n",
       "      <th>group_a_b</th>\n",
       "      <th>crime_against_category</th>\n",
       "      <th>offense_parent_group</th>\n",
       "      <th>offense</th>\n",
       "      <th>offense_code</th>\n",
       "      <th>precinct</th>\n",
       "      <th>sector</th>\n",
       "      <th>beat</th>\n",
       "      <th>mcpp</th>\n",
       "      <th>100_block_address</th>\n",
       "      <th>longitude</th>\n",
       "      <th>latitude</th>\n",
       "    </tr>\n",
       "  </thead>\n",
       "  <tbody>\n",
       "    <tr>\n",
       "      <th>0</th>\n",
       "      <td>2020-044620</td>\n",
       "      <td>12605873663</td>\n",
       "      <td>02/05/2020 10:10:00 AM</td>\n",
       "      <td>02/05/2020 11:24:31 AM</td>\n",
       "      <td>A</td>\n",
       "      <td>SOCIETY</td>\n",
       "      <td>DRUG/NARCOTIC OFFENSES</td>\n",
       "      <td>Drug/Narcotic Violations</td>\n",
       "      <td>35A</td>\n",
       "      <td>W</td>\n",
       "      <td>Q</td>\n",
       "      <td>Q1</td>\n",
       "      <td>MAGNOLIA</td>\n",
       "      <td>32XX BLOCK OF 23RD AVE W</td>\n",
       "      <td>-122.385974</td>\n",
       "      <td>47.649387</td>\n",
       "    </tr>\n",
       "    <tr>\n",
       "      <th>1</th>\n",
       "      <td>2020-044452</td>\n",
       "      <td>12605598696</td>\n",
       "      <td>02/03/2020 08:00:00 AM</td>\n",
       "      <td>02/05/2020 10:06:28 AM</td>\n",
       "      <td>A</td>\n",
       "      <td>PROPERTY</td>\n",
       "      <td>LARCENY-THEFT</td>\n",
       "      <td>Theft of Motor Vehicle Parts or Accessories</td>\n",
       "      <td>23G</td>\n",
       "      <td>N</td>\n",
       "      <td>J</td>\n",
       "      <td>J3</td>\n",
       "      <td>ROOSEVELT/RAVENNA</td>\n",
       "      <td>63XX BLOCK OF 5TH AVE NE</td>\n",
       "      <td>-122.323399</td>\n",
       "      <td>47.675118</td>\n",
       "    </tr>\n",
       "  </tbody>\n",
       "</table>\n",
       "</div>"
      ],
      "text/plain": [
       "  report_number   offense_id  offense_start_datetime         report_datetime  \\\n",
       "0   2020-044620  12605873663  02/05/2020 10:10:00 AM  02/05/2020 11:24:31 AM   \n",
       "1   2020-044452  12605598696  02/03/2020 08:00:00 AM  02/05/2020 10:06:28 AM   \n",
       "\n",
       "  group_a_b crime_against_category    offense_parent_group  \\\n",
       "0         A                SOCIETY  DRUG/NARCOTIC OFFENSES   \n",
       "1         A               PROPERTY           LARCENY-THEFT   \n",
       "\n",
       "                                       offense offense_code precinct sector  \\\n",
       "0                     Drug/Narcotic Violations          35A        W      Q   \n",
       "1  Theft of Motor Vehicle Parts or Accessories          23G        N      J   \n",
       "\n",
       "  beat               mcpp         100_block_address   longitude   latitude  \n",
       "0   Q1           MAGNOLIA  32XX BLOCK OF 23RD AVE W -122.385974  47.649387  \n",
       "1   J3  ROOSEVELT/RAVENNA  63XX BLOCK OF 5TH AVE NE -122.323399  47.675118  "
      ]
     },
     "execution_count": 16,
     "metadata": {},
     "output_type": "execute_result"
    }
   ],
   "source": [
    "data.head(2)"
   ]
  },
  {
   "cell_type": "markdown",
   "id": "46dbb0a1",
   "metadata": {},
   "source": [
    "#### Data Wrangling / Cleaning"
   ]
  },
  {
   "cell_type": "markdown",
   "id": "3113984c",
   "metadata": {},
   "source": [
    "Date and Time Adjustments"
   ]
  },
  {
   "cell_type": "code",
   "execution_count": 18,
   "id": "dcb00691",
   "metadata": {},
   "outputs": [],
   "source": [
    "data['offense_date'] = data['offense_start_datetime'].apply(lambda x: x.split(\" \")[0])\n",
    "data['offense_time'] = data['offense_start_datetime'].apply(lambda x: x.split(\" \")[1])"
   ]
  },
  {
   "cell_type": "code",
   "execution_count": 19,
   "id": "3ec3a4a8",
   "metadata": {},
   "outputs": [],
   "source": [
    "data['offense_date'] = pd.to_datetime(data.offense_date)\n",
    "data['offense_month'] = data.offense_date.dt.month_name()\n",
    "data['offense_dow'] = data.offense_date.dt.day_name()\n",
    "data['offense_day_no'] = data.offense_date.dt.day_of_week"
   ]
  },
  {
   "cell_type": "code",
   "execution_count": 21,
   "id": "a8cc12f1",
   "metadata": {},
   "outputs": [],
   "source": [
    "def convert_to_24_hours(time): \n",
    "    if \"PM\" in time: \n",
    "        time = int(time.split(\":\")[0]) + 12 \n",
    "    else: \n",
    "        time = int(time.split(\":\")[0])\n",
    "    return time"
   ]
  },
  {
   "cell_type": "code",
   "execution_count": 22,
   "id": "29d73fa4",
   "metadata": {},
   "outputs": [],
   "source": [
    "#hour of crime is denoted by AM and PM, so I'll have to change how I thought I was going to approach this\n",
    "data['offense_hour'] = data['offense_time'].apply(lambda x: x.split(\":\")[0])\n",
    "\n",
    "data['offense_hour'] = data['offense_start_datetime'].apply(lambda x: x.split(\" \")[1:])\n",
    "data['offense_hour'] = data['offense_hour'].apply(lambda x: \" \".join(x))\n",
    "\n",
    "data['offense_hour_test'] = data['offense_hour'].apply(lambda x: convert_to_24_hours(x))"
   ]
  },
  {
   "cell_type": "code",
   "execution_count": 23,
   "id": "16f46743",
   "metadata": {},
   "outputs": [
    {
     "data": {
      "text/html": [
       "<div>\n",
       "<style scoped>\n",
       "    .dataframe tbody tr th:only-of-type {\n",
       "        vertical-align: middle;\n",
       "    }\n",
       "\n",
       "    .dataframe tbody tr th {\n",
       "        vertical-align: top;\n",
       "    }\n",
       "\n",
       "    .dataframe thead th {\n",
       "        text-align: right;\n",
       "    }\n",
       "</style>\n",
       "<table border=\"1\" class=\"dataframe\">\n",
       "  <thead>\n",
       "    <tr style=\"text-align: right;\">\n",
       "      <th></th>\n",
       "      <th>report_number</th>\n",
       "      <th>offense_id</th>\n",
       "      <th>offense_start_datetime</th>\n",
       "      <th>report_datetime</th>\n",
       "      <th>group_a_b</th>\n",
       "      <th>crime_against_category</th>\n",
       "      <th>offense_parent_group</th>\n",
       "      <th>offense</th>\n",
       "      <th>offense_code</th>\n",
       "      <th>precinct</th>\n",
       "      <th>...</th>\n",
       "      <th>100_block_address</th>\n",
       "      <th>longitude</th>\n",
       "      <th>latitude</th>\n",
       "      <th>offense_date</th>\n",
       "      <th>offense_time</th>\n",
       "      <th>offense_month</th>\n",
       "      <th>offense_dow</th>\n",
       "      <th>offense_day_no</th>\n",
       "      <th>offense_hour</th>\n",
       "      <th>offense_hour_test</th>\n",
       "    </tr>\n",
       "  </thead>\n",
       "  <tbody>\n",
       "    <tr>\n",
       "      <th>0</th>\n",
       "      <td>2020-044620</td>\n",
       "      <td>12605873663</td>\n",
       "      <td>02/05/2020 10:10:00 AM</td>\n",
       "      <td>02/05/2020 11:24:31 AM</td>\n",
       "      <td>A</td>\n",
       "      <td>SOCIETY</td>\n",
       "      <td>DRUG/NARCOTIC OFFENSES</td>\n",
       "      <td>Drug/Narcotic Violations</td>\n",
       "      <td>35A</td>\n",
       "      <td>W</td>\n",
       "      <td>...</td>\n",
       "      <td>32XX BLOCK OF 23RD AVE W</td>\n",
       "      <td>-122.385974</td>\n",
       "      <td>47.649387</td>\n",
       "      <td>2020-02-05</td>\n",
       "      <td>10:10:00</td>\n",
       "      <td>February</td>\n",
       "      <td>Wednesday</td>\n",
       "      <td>2</td>\n",
       "      <td>10:10:00 AM</td>\n",
       "      <td>10</td>\n",
       "    </tr>\n",
       "    <tr>\n",
       "      <th>1</th>\n",
       "      <td>2020-044452</td>\n",
       "      <td>12605598696</td>\n",
       "      <td>02/03/2020 08:00:00 AM</td>\n",
       "      <td>02/05/2020 10:06:28 AM</td>\n",
       "      <td>A</td>\n",
       "      <td>PROPERTY</td>\n",
       "      <td>LARCENY-THEFT</td>\n",
       "      <td>Theft of Motor Vehicle Parts or Accessories</td>\n",
       "      <td>23G</td>\n",
       "      <td>N</td>\n",
       "      <td>...</td>\n",
       "      <td>63XX BLOCK OF 5TH AVE NE</td>\n",
       "      <td>-122.323399</td>\n",
       "      <td>47.675118</td>\n",
       "      <td>2020-02-03</td>\n",
       "      <td>08:00:00</td>\n",
       "      <td>February</td>\n",
       "      <td>Monday</td>\n",
       "      <td>0</td>\n",
       "      <td>08:00:00 AM</td>\n",
       "      <td>8</td>\n",
       "    </tr>\n",
       "  </tbody>\n",
       "</table>\n",
       "<p>2 rows × 23 columns</p>\n",
       "</div>"
      ],
      "text/plain": [
       "  report_number   offense_id  offense_start_datetime         report_datetime  \\\n",
       "0   2020-044620  12605873663  02/05/2020 10:10:00 AM  02/05/2020 11:24:31 AM   \n",
       "1   2020-044452  12605598696  02/03/2020 08:00:00 AM  02/05/2020 10:06:28 AM   \n",
       "\n",
       "  group_a_b crime_against_category    offense_parent_group  \\\n",
       "0         A                SOCIETY  DRUG/NARCOTIC OFFENSES   \n",
       "1         A               PROPERTY           LARCENY-THEFT   \n",
       "\n",
       "                                       offense offense_code precinct  ...  \\\n",
       "0                     Drug/Narcotic Violations          35A        W  ...   \n",
       "1  Theft of Motor Vehicle Parts or Accessories          23G        N  ...   \n",
       "\n",
       "          100_block_address   longitude   latitude offense_date  offense_time  \\\n",
       "0  32XX BLOCK OF 23RD AVE W -122.385974  47.649387   2020-02-05      10:10:00   \n",
       "1  63XX BLOCK OF 5TH AVE NE -122.323399  47.675118   2020-02-03      08:00:00   \n",
       "\n",
       "   offense_month offense_dow offense_day_no offense_hour offense_hour_test  \n",
       "0       February   Wednesday              2  10:10:00 AM                10  \n",
       "1       February      Monday              0  08:00:00 AM                 8  \n",
       "\n",
       "[2 rows x 23 columns]"
      ]
     },
     "execution_count": 23,
     "metadata": {},
     "output_type": "execute_result"
    }
   ],
   "source": [
    "data.head(2) #new date and time columns have been added to dataframe "
   ]
  },
  {
   "cell_type": "markdown",
   "id": "04a2c6fe",
   "metadata": {},
   "source": [
    "Street Address Adjustments"
   ]
  },
  {
   "cell_type": "code",
   "execution_count": 25,
   "id": "8209b644",
   "metadata": {},
   "outputs": [],
   "source": [
    "data[\"100_block_address\"] = data[\"100_block_address\"].apply(lambda x: x.replace(\"XX\", \"00\"))\n",
    "#replacing all blocked out address with \"00\" number of block in order to have more accurate location\n",
    "\n",
    "data[\"street_address\"] = data[\"100_block_address\"].apply(lambda x: x.replace(\"BLOCK OF\", \"\"))"
   ]
  },
  {
   "cell_type": "code",
   "execution_count": null,
   "id": "c99daa0a",
   "metadata": {},
   "outputs": [],
   "source": []
  },
  {
   "cell_type": "code",
   "execution_count": 42,
   "id": "5cc5a5ed",
   "metadata": {},
   "outputs": [
    {
     "data": {
      "text/plain": [
       "<bound method Series.items of Friday       145370\n",
       "Saturday     137055\n",
       "Thursday     133055\n",
       "Wednesday    132852\n",
       "Monday       132615\n",
       "Tuesday      131734\n",
       "Sunday       126569\n",
       "Name: offense_dow, dtype: int64>"
      ]
     },
     "execution_count": 42,
     "metadata": {},
     "output_type": "execute_result"
    }
   ],
   "source": [
    "data.offense_dow.value_counts().items"
   ]
  },
  {
   "cell_type": "markdown",
   "id": "f6bc0622",
   "metadata": {},
   "source": [
    "#### Exploratory Data Analysis "
   ]
  },
  {
   "cell_type": "code",
   "execution_count": null,
   "id": "8f255fa3",
   "metadata": {},
   "outputs": [],
   "source": []
  },
  {
   "cell_type": "code",
   "execution_count": 46,
   "id": "a34d19ae",
   "metadata": {},
   "outputs": [
    {
     "data": {
      "text/plain": [
       "Text(0.5, 1.0, 'Distribution of Crime by Day of Week')"
      ]
     },
     "execution_count": 46,
     "metadata": {},
     "output_type": "execute_result"
    },
    {
     "data": {
      "image/png": "[encoded data removed]",
      "text/plain": [
       "<Figure size 864x288 with 1 Axes>"
      ]
     },
     "metadata": {
      "needs_background": "light"
     },
     "output_type": "display_data"
    }
   ],
   "source": [
    "DAYS_OF_WEEK = [\"Monday\", \"Tuesday\", \"Wednesday\", \"Thursday\", \"Friday\", \"Saturday\", \"Sunday\"]\n",
    "\n",
    "data.offense_dow.value_counts().plot(kind=\"bar\", figsize=(12, 4))\n",
    "# plt.xticks(range(len(DAYS_OF_WEEK)), DAYS_OF_WEEK, rotation=45,ha=\"right\")\n",
    "plt.ylabel(\"Number of Incidents\")\n",
    "plt.title(\"Distribution of Crime by Day of Week\")\n"
   ]
  },
  {
   "cell_type": "code",
   "execution_count": 47,
   "id": "668ee748",
   "metadata": {},
   "outputs": [
    {
     "data": {
      "text/plain": [
       "Text(0.5, 1.0, 'Distribution of Crime by Month')"
      ]
     },
     "execution_count": 47,
     "metadata": {},
     "output_type": "execute_result"
    },
    {
     "data": {
      "image/png": "[encoded data removed]",
      "text/plain": [
       "<Figure size 864x288 with 1 Axes>"
      ]
     },
     "metadata": {
      "needs_background": "light"
     },
     "output_type": "display_data"
    }
   ],
   "source": [
    "MONTHS = [\"January\", \"February\", \"March\", \"April\", \"May\", \"June\", \"July\", \n",
    "         \"August\", \"September\", \"October\", \"November\", \"December\"]\n",
    "\n",
    "data.offense_month.value_counts().plot(kind=\"bar\", figsize=(12, 4))\n",
    "# plt.xticks(range(len(MONTHS)), MONTHS, rotation=45,ha=\"right\")\n",
    "plt.ylabel(\"Number of Incidents\")\n",
    "plt.title(\"Distribution of Crime by Month\")"
   ]
  },
  {
   "cell_type": "code",
   "execution_count": 28,
   "id": "fe7846fd",
   "metadata": {},
   "outputs": [
    {
     "data": {
      "image/png": "[encoded data removed]",
      "text/plain": [
       "<Figure size 864x288 with 1 Axes>"
      ]
     },
     "metadata": {
      "needs_background": "light"
     },
     "output_type": "display_data"
    }
   ],
   "source": [
    "data.offense.value_counts()[:10].plot(kind=\"bar\", figsize=(12, 4))\n",
    "plt.xticks(rotation=70)\n",
    "plt.xlabel(\"Criminal Offense\", {\"font\":\"Arial\", \"fontsize\":13, \"fontweight\":\"medium\"})\n",
    "plt.ylabel(\"Number of Offenses\", {\"font\":\"Arial\", \"fontsize\":13, \"fontweight\":\"medium\"});"
   ]
  },
  {
   "cell_type": "code",
   "execution_count": 50,
   "id": "efa216da",
   "metadata": {},
   "outputs": [
    {
     "data": {
      "image/png": "[encoded data removed]",
      "text/plain": [
       "<Figure size 864x288 with 1 Axes>"
      ]
     },
     "metadata": {
      "needs_background": "light"
     },
     "output_type": "display_data"
    }
   ],
   "source": [
    "data.offense_parent_group.value_counts()[:10].plot(kind=\"bar\", figsize=(12, 4)) #\n",
    "plt.xticks(rotation=70)\n",
    "plt.xlabel(\"Criminal Category\", {\"font\":\"Arial\", \"fontsize\":12, \"fontweight\":\"medium\"})\n",
    "plt.ylabel(\"Number of Offenses\", {\"font\":\"Arial\", \"fontsize\":12, \"fontweight\":\"medium\"});"
   ]
  },
  {
   "cell_type": "code",
   "execution_count": 52,
   "id": "4bf4ee59",
   "metadata": {},
   "outputs": [
    {
     "data": {
      "text/plain": [
       "Text(0, 0.5, 'Number of Incidents')"
      ]
     },
     "execution_count": 52,
     "metadata": {},
     "output_type": "execute_result"
    },
    {
     "data": {
      "image/png": "[encoded data removed]",
      "text/plain": [
       "<Figure size 864x288 with 1 Axes>"
      ]
     },
     "metadata": {
      "needs_background": "light"
     },
     "output_type": "display_data"
    }
   ],
   "source": [
    "data.crime_against_category.value_counts().plot(kind=\"bar\", figsize=(12, 4))\n",
    "plt.xticks(rotation=0)\n",
    "plt.xlabel(\"Crime Against Category\", fontsize=13)\n",
    "plt.ylabel(\"Number of Incidents\", fontsize=13)"
   ]
  },
  {
   "cell_type": "code",
   "execution_count": null,
   "id": "b880590b",
   "metadata": {},
   "outputs": [],
   "source": []
  },
  {
   "cell_type": "code",
   "execution_count": 53,
   "id": "67b749fa",
   "metadata": {},
   "outputs": [
    {
     "data": {
      "text/plain": [
       "<matplotlib.legend.Legend at 0x1e7495250d0>"
      ]
     },
     "execution_count": 53,
     "metadata": {},
     "output_type": "execute_result"
    },
    {
     "data": {
      "image/png": "[encoded data removed]",
      "text/plain": [
       "<Figure size 864x288 with 1 Axes>"
      ]
     },
     "metadata": {
      "needs_background": "light"
     },
     "output_type": "display_data"
    }
   ],
   "source": [
    "fig, ax = plt.subplots(figsize=(12, 4))\n",
    "group1 = data.groupby(['offense_month', 'crime_against_category']).size().to_frame(\"n_incidents\").reset_index()\n",
    "# group1['incident_rank'] = group1.n_incidents\n",
    "# group1[group1['incident_rank'] <= 10]\n",
    "sns.barplot(data=group1, x='offense_month', y='n_incidents', hue='crime_against_category', palette=\"BuGn\")\n",
    "ax.legend(loc=(1.005, .75))"
   ]
  },
  {
   "cell_type": "code",
   "execution_count": 54,
   "id": "cfa6e8c7",
   "metadata": {},
   "outputs": [
    {
     "data": {
      "text/plain": [
       "(0.0, 24.0)"
      ]
     },
     "execution_count": 54,
     "metadata": {},
     "output_type": "execute_result"
    },
    {
     "data": {
      "image/png": "[encoded data removed]",
      "text/plain": [
       "<Figure size 1080x432 with 1 Axes>"
      ]
     },
     "metadata": {
      "needs_background": "light"
     },
     "output_type": "display_data"
    }
   ],
   "source": [
    "hour_group = data.groupby('offense_hour_test').size().to_frame('n_incidents').reset_index()\n",
    "\n",
    "plt.figure(figsize=(15, 6))\n",
    "sns.set_style('darkgrid')\n",
    "sns.lineplot(data=hour_group, x='offense_hour_test', y='n_incidents')\n",
    "\n",
    "plt.xlabel(\"Hour of Day\", fontsize=12)\n",
    "plt.ylabel(\"Number of Incidents\", fontsize=12)\n",
    "plt.xlim(0, 24)"
   ]
  },
  {
   "cell_type": "code",
   "execution_count": 55,
   "id": "417706cb",
   "metadata": {},
   "outputs": [
    {
     "data": {
      "text/plain": [
       "<matplotlib.legend.Legend at 0x1e74975b400>"
      ]
     },
     "execution_count": 55,
     "metadata": {},
     "output_type": "execute_result"
    },
    {
     "data": {
      "image/png": "[encoded data removed]",
      "text/plain": [
       "<Figure size 1080x432 with 1 Axes>"
      ]
     },
     "metadata": {},
     "output_type": "display_data"
    }
   ],
   "source": [
    "hour_cat_group = data.groupby(['offense_hour_test', 'crime_against_category']).size().to_frame('n_incidents').reset_index()\n",
    "plt.figure(figsize=(15, 6))\n",
    "sns.set_style('darkgrid')\n",
    "sns.lineplot(data=hour_cat_group, x='offense_hour_test', y='n_incidents', hue='crime_against_category')\n",
    "\n",
    "plt.xlabel(\"Hour of Day\", fontsize=12)\n",
    "plt.ylabel(\"Number of Incidents\", fontsize=12)\n",
    "plt.xlim(0, 24)\n",
    "\n",
    "plt.legend(fontsize=10, fancybox=True)"
   ]
  },
  {
   "cell_type": "code",
   "execution_count": 58,
   "id": "71f91ab3",
   "metadata": {},
   "outputs": [
    {
     "data": {
      "text/html": [
       "<div>\n",
       "<style scoped>\n",
       "    .dataframe tbody tr th:only-of-type {\n",
       "        vertical-align: middle;\n",
       "    }\n",
       "\n",
       "    .dataframe tbody tr th {\n",
       "        vertical-align: top;\n",
       "    }\n",
       "\n",
       "    .dataframe thead th {\n",
       "        text-align: right;\n",
       "    }\n",
       "</style>\n",
       "<table border=\"1\" class=\"dataframe\">\n",
       "  <thead>\n",
       "    <tr style=\"text-align: right;\">\n",
       "      <th></th>\n",
       "      <th>report_number</th>\n",
       "      <th>offense_id</th>\n",
       "      <th>offense_start_datetime</th>\n",
       "      <th>report_datetime</th>\n",
       "      <th>group_a_b</th>\n",
       "      <th>crime_against_category</th>\n",
       "      <th>offense_parent_group</th>\n",
       "      <th>offense</th>\n",
       "      <th>offense_code</th>\n",
       "      <th>precinct</th>\n",
       "      <th>...</th>\n",
       "      <th>longitude</th>\n",
       "      <th>latitude</th>\n",
       "      <th>offense_date</th>\n",
       "      <th>offense_time</th>\n",
       "      <th>offense_month</th>\n",
       "      <th>offense_dow</th>\n",
       "      <th>offense_day_no</th>\n",
       "      <th>offense_hour</th>\n",
       "      <th>offense_hour_test</th>\n",
       "      <th>street_address</th>\n",
       "    </tr>\n",
       "  </thead>\n",
       "  <tbody>\n",
       "    <tr>\n",
       "      <th>0</th>\n",
       "      <td>2020-044620</td>\n",
       "      <td>12605873663</td>\n",
       "      <td>02/05/2020 10:10:00 AM</td>\n",
       "      <td>02/05/2020 11:24:31 AM</td>\n",
       "      <td>A</td>\n",
       "      <td>SOCIETY</td>\n",
       "      <td>DRUG/NARCOTIC OFFENSES</td>\n",
       "      <td>Drug/Narcotic Violations</td>\n",
       "      <td>35A</td>\n",
       "      <td>W</td>\n",
       "      <td>...</td>\n",
       "      <td>-122.385974</td>\n",
       "      <td>47.649387</td>\n",
       "      <td>2020-02-05</td>\n",
       "      <td>10:10:00</td>\n",
       "      <td>February</td>\n",
       "      <td>Wednesday</td>\n",
       "      <td>2</td>\n",
       "      <td>10:10:00 AM</td>\n",
       "      <td>10</td>\n",
       "      <td>3200  23RD AVE W</td>\n",
       "    </tr>\n",
       "    <tr>\n",
       "      <th>1</th>\n",
       "      <td>2020-044452</td>\n",
       "      <td>12605598696</td>\n",
       "      <td>02/03/2020 08:00:00 AM</td>\n",
       "      <td>02/05/2020 10:06:28 AM</td>\n",
       "      <td>A</td>\n",
       "      <td>PROPERTY</td>\n",
       "      <td>LARCENY-THEFT</td>\n",
       "      <td>Theft of Motor Vehicle Parts or Accessories</td>\n",
       "      <td>23G</td>\n",
       "      <td>N</td>\n",
       "      <td>...</td>\n",
       "      <td>-122.323399</td>\n",
       "      <td>47.675118</td>\n",
       "      <td>2020-02-03</td>\n",
       "      <td>08:00:00</td>\n",
       "      <td>February</td>\n",
       "      <td>Monday</td>\n",
       "      <td>0</td>\n",
       "      <td>08:00:00 AM</td>\n",
       "      <td>8</td>\n",
       "      <td>6300  5TH AVE NE</td>\n",
       "    </tr>\n",
       "  </tbody>\n",
       "</table>\n",
       "<p>2 rows × 24 columns</p>\n",
       "</div>"
      ],
      "text/plain": [
       "  report_number   offense_id  offense_start_datetime         report_datetime  \\\n",
       "0   2020-044620  12605873663  02/05/2020 10:10:00 AM  02/05/2020 11:24:31 AM   \n",
       "1   2020-044452  12605598696  02/03/2020 08:00:00 AM  02/05/2020 10:06:28 AM   \n",
       "\n",
       "  group_a_b crime_against_category    offense_parent_group  \\\n",
       "0         A                SOCIETY  DRUG/NARCOTIC OFFENSES   \n",
       "1         A               PROPERTY           LARCENY-THEFT   \n",
       "\n",
       "                                       offense offense_code precinct  ...  \\\n",
       "0                     Drug/Narcotic Violations          35A        W  ...   \n",
       "1  Theft of Motor Vehicle Parts or Accessories          23G        N  ...   \n",
       "\n",
       "    longitude   latitude offense_date offense_time  offense_month  \\\n",
       "0 -122.385974  47.649387   2020-02-05     10:10:00       February   \n",
       "1 -122.323399  47.675118   2020-02-03     08:00:00       February   \n",
       "\n",
       "   offense_dow offense_day_no offense_hour offense_hour_test    street_address  \n",
       "0    Wednesday              2  10:10:00 AM                10  3200  23RD AVE W  \n",
       "1       Monday              0  08:00:00 AM                 8  6300  5TH AVE NE  \n",
       "\n",
       "[2 rows x 24 columns]"
      ]
     },
     "execution_count": 58,
     "metadata": {},
     "output_type": "execute_result"
    }
   ],
   "source": [
    "data.head(2)"
   ]
  },
  {
   "cell_type": "code",
   "execution_count": 57,
   "id": "c3fef3aa",
   "metadata": {},
   "outputs": [
    {
     "data": {
      "text/plain": [
       "sector                                          U\n",
       "beat                                           U3\n",
       "mcpp                            ROOSEVELT/RAVENNA\n",
       "100_block_address    26TH AVE NE / NE BLAKELEY ST\n",
       "longitude                             -122.299552\n",
       "latitude                                47.666384\n",
       "offense_date                  2020-02-02 00:00:00\n",
       "offense_time                             08:30:00\n",
       "offense_month                            February\n",
       "offense_dow                                Sunday\n",
       "offense_day_no                                  6\n",
       "offense_hour                          08:30:00 PM\n",
       "offense_hour_test                              20\n",
       "street_address       26TH AVE NE / NE BLAKELEY ST\n",
       "Name: 2, dtype: object"
      ]
     },
     "execution_count": 57,
     "metadata": {},
     "output_type": "execute_result"
    }
   ],
   "source": [
    "data.iloc[2, 10:]"
   ]
  },
  {
   "cell_type": "code",
   "execution_count": 56,
   "id": "bebb4571",
   "metadata": {},
   "outputs": [
    {
     "data": {
      "text/plain": [
       "DOWNTOWN COMMERCIAL    78858\n",
       "CAPITOL HILL           57820\n",
       "NORTHGATE              53862\n",
       "QUEEN ANNE             48024\n",
       "SLU/CASCADE            41825\n",
       "Name: mcpp, dtype: int64"
      ]
     },
     "execution_count": 56,
     "metadata": {},
     "output_type": "execute_result"
    }
   ],
   "source": [
    "data.mcpp.value_counts()[:5] # looks to be \"neighborhood\" or municipality where crime occurred "
   ]
  },
  {
   "cell_type": "code",
   "execution_count": 59,
   "id": "b2b94124",
   "metadata": {},
   "outputs": [
    {
     "data": {
      "text/html": [
       "<div>\n",
       "<style scoped>\n",
       "    .dataframe tbody tr th:only-of-type {\n",
       "        vertical-align: middle;\n",
       "    }\n",
       "\n",
       "    .dataframe tbody tr th {\n",
       "        vertical-align: top;\n",
       "    }\n",
       "\n",
       "    .dataframe thead th {\n",
       "        text-align: right;\n",
       "    }\n",
       "</style>\n",
       "<table border=\"1\" class=\"dataframe\">\n",
       "  <thead>\n",
       "    <tr style=\"text-align: right;\">\n",
       "      <th></th>\n",
       "      <th>report_number</th>\n",
       "      <th>offense_id</th>\n",
       "      <th>offense_start_datetime</th>\n",
       "      <th>report_datetime</th>\n",
       "      <th>group_a_b</th>\n",
       "      <th>crime_against_category</th>\n",
       "      <th>offense_parent_group</th>\n",
       "      <th>offense</th>\n",
       "      <th>offense_code</th>\n",
       "      <th>precinct</th>\n",
       "      <th>...</th>\n",
       "      <th>longitude</th>\n",
       "      <th>latitude</th>\n",
       "      <th>offense_date</th>\n",
       "      <th>offense_time</th>\n",
       "      <th>offense_month</th>\n",
       "      <th>offense_dow</th>\n",
       "      <th>offense_day_no</th>\n",
       "      <th>offense_hour</th>\n",
       "      <th>offense_hour_test</th>\n",
       "      <th>street_address</th>\n",
       "    </tr>\n",
       "  </thead>\n",
       "  <tbody>\n",
       "    <tr>\n",
       "      <th>0</th>\n",
       "      <td>2020-044620</td>\n",
       "      <td>12605873663</td>\n",
       "      <td>02/05/2020 10:10:00 AM</td>\n",
       "      <td>02/05/2020 11:24:31 AM</td>\n",
       "      <td>A</td>\n",
       "      <td>SOCIETY</td>\n",
       "      <td>DRUG/NARCOTIC OFFENSES</td>\n",
       "      <td>Drug/Narcotic Violations</td>\n",
       "      <td>35A</td>\n",
       "      <td>W</td>\n",
       "      <td>...</td>\n",
       "      <td>-122.385974</td>\n",
       "      <td>47.649387</td>\n",
       "      <td>2020-02-05</td>\n",
       "      <td>10:10:00</td>\n",
       "      <td>February</td>\n",
       "      <td>Wednesday</td>\n",
       "      <td>2</td>\n",
       "      <td>10:10:00 AM</td>\n",
       "      <td>10</td>\n",
       "      <td>3200  23RD AVE W</td>\n",
       "    </tr>\n",
       "    <tr>\n",
       "      <th>1</th>\n",
       "      <td>2020-044452</td>\n",
       "      <td>12605598696</td>\n",
       "      <td>02/03/2020 08:00:00 AM</td>\n",
       "      <td>02/05/2020 10:06:28 AM</td>\n",
       "      <td>A</td>\n",
       "      <td>PROPERTY</td>\n",
       "      <td>LARCENY-THEFT</td>\n",
       "      <td>Theft of Motor Vehicle Parts or Accessories</td>\n",
       "      <td>23G</td>\n",
       "      <td>N</td>\n",
       "      <td>...</td>\n",
       "      <td>-122.323399</td>\n",
       "      <td>47.675118</td>\n",
       "      <td>2020-02-03</td>\n",
       "      <td>08:00:00</td>\n",
       "      <td>February</td>\n",
       "      <td>Monday</td>\n",
       "      <td>0</td>\n",
       "      <td>08:00:00 AM</td>\n",
       "      <td>8</td>\n",
       "      <td>6300  5TH AVE NE</td>\n",
       "    </tr>\n",
       "  </tbody>\n",
       "</table>\n",
       "<p>2 rows × 24 columns</p>\n",
       "</div>"
      ],
      "text/plain": [
       "  report_number   offense_id  offense_start_datetime         report_datetime  \\\n",
       "0   2020-044620  12605873663  02/05/2020 10:10:00 AM  02/05/2020 11:24:31 AM   \n",
       "1   2020-044452  12605598696  02/03/2020 08:00:00 AM  02/05/2020 10:06:28 AM   \n",
       "\n",
       "  group_a_b crime_against_category    offense_parent_group  \\\n",
       "0         A                SOCIETY  DRUG/NARCOTIC OFFENSES   \n",
       "1         A               PROPERTY           LARCENY-THEFT   \n",
       "\n",
       "                                       offense offense_code precinct  ...  \\\n",
       "0                     Drug/Narcotic Violations          35A        W  ...   \n",
       "1  Theft of Motor Vehicle Parts or Accessories          23G        N  ...   \n",
       "\n",
       "    longitude   latitude offense_date offense_time  offense_month  \\\n",
       "0 -122.385974  47.649387   2020-02-05     10:10:00       February   \n",
       "1 -122.323399  47.675118   2020-02-03     08:00:00       February   \n",
       "\n",
       "   offense_dow offense_day_no offense_hour offense_hour_test    street_address  \n",
       "0    Wednesday              2  10:10:00 AM                10  3200  23RD AVE W  \n",
       "1       Monday              0  08:00:00 AM                 8  6300  5TH AVE NE  \n",
       "\n",
       "[2 rows x 24 columns]"
      ]
     },
     "execution_count": 59,
     "metadata": {},
     "output_type": "execute_result"
    }
   ],
   "source": [
    "data.head(2)"
   ]
  },
  {
   "cell_type": "markdown",
   "id": "74eb1267",
   "metadata": {},
   "source": [
    "#### Formatting copy of cleaned data for Tableau and further visualization"
   ]
  },
  {
   "cell_type": "code",
   "execution_count": null,
   "id": "052d7164",
   "metadata": {},
   "outputs": [],
   "source": [
    "# I'm thinking that after cleaning up the data and asking some initial questions, \n",
    "# it'll be better to explore location data in Tableau; can remove any unnecessary columns before saving "
   ]
  },
  {
   "cell_type": "code",
   "execution_count": 60,
   "id": "0883c9c2",
   "metadata": {},
   "outputs": [],
   "source": [
    "seattle_crime_tableau = data.copy()"
   ]
  },
  {
   "cell_type": "code",
   "execution_count": 61,
   "id": "25552a80",
   "metadata": {},
   "outputs": [],
   "source": [
    "seattle_crime_tableau.drop(columns=[\"offense_id\", \"100_block_address\", \"report_number\"], inplace=True)"
   ]
  },
  {
   "cell_type": "code",
   "execution_count": 62,
   "id": "7cbf2ff8",
   "metadata": {},
   "outputs": [],
   "source": [
    "seattle_crime_tableau.to_csv(\"seattle_crime_database_cleaned.csv\", index=False)"
   ]
  },
  {
   "cell_type": "code",
   "execution_count": null,
   "id": "f58804b4",
   "metadata": {},
   "outputs": [],
   "source": []
  }
 ],
 "metadata": {
  "kernelspec": {
   "display_name": "Python 3 (ipykernel)",
   "language": "python",
   "name": "python3"
  },
  "language_info": {
   "codemirror_mode": {
    "name": "ipython",
    "version": 3
   },
   "file_extension": ".py",
   "mimetype": "text/x-python",
   "name": "python",
   "nbconvert_exporter": "python",
   "pygments_lexer": "ipython3",
   "version": "3.9.5"
  }
 },
 "nbformat": 4,
 "nbformat_minor": 5
}
