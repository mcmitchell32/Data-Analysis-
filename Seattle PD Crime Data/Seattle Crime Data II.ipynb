{
 "cells": [
  {
   "cell_type": "markdown",
   "id": "16f01cc9",
   "metadata": {},
   "source": [
    "#### Loading modules, Config, and Profiling"
   ]
  },
  {
   "cell_type": "code",
   "execution_count": 1,
   "id": "8558a7a7",
   "metadata": {},
   "outputs": [],
   "source": [
    "import pandas as pd \n",
    "import numpy as np \n",
    "import seaborn as sns \n",
    "import matplotlib.pyplot as plt \n",
    "%matplotlib inline \n",
    "import os"
   ]
  },
  {
   "cell_type": "code",
   "execution_count": 2,
   "id": "9b5c2b21",
   "metadata": {},
   "outputs": [],
   "source": [
    "cwd = os.getcwd()\n",
    "# print(cwd)"
   ]
  },
  {
   "cell_type": "code",
   "execution_count": 3,
   "id": "89b33d55",
   "metadata": {},
   "outputs": [
    {
     "data": {
      "text/html": [
       "<div>\n",
       "<style scoped>\n",
       "    .dataframe tbody tr th:only-of-type {\n",
       "        vertical-align: middle;\n",
       "    }\n",
       "\n",
       "    .dataframe tbody tr th {\n",
       "        vertical-align: top;\n",
       "    }\n",
       "\n",
       "    .dataframe thead th {\n",
       "        text-align: right;\n",
       "    }\n",
       "</style>\n",
       "<table border=\"1\" class=\"dataframe\">\n",
       "  <thead>\n",
       "    <tr style=\"text-align: right;\">\n",
       "      <th></th>\n",
       "      <th>Report Number</th>\n",
       "      <th>Offense ID</th>\n",
       "      <th>Offense Start DateTime</th>\n",
       "      <th>Offense End DateTime</th>\n",
       "      <th>Report DateTime</th>\n",
       "      <th>Group A B</th>\n",
       "      <th>Crime Against Category</th>\n",
       "      <th>Offense Parent Group</th>\n",
       "      <th>Offense</th>\n",
       "      <th>Offense Code</th>\n",
       "      <th>Precinct</th>\n",
       "      <th>Sector</th>\n",
       "      <th>Beat</th>\n",
       "      <th>MCPP</th>\n",
       "      <th>100 Block Address</th>\n",
       "      <th>Longitude</th>\n",
       "      <th>Latitude</th>\n",
       "    </tr>\n",
       "  </thead>\n",
       "  <tbody>\n",
       "    <tr>\n",
       "      <th>0</th>\n",
       "      <td>2020-044620</td>\n",
       "      <td>12605873663</td>\n",
       "      <td>02/05/2020 10:10:00 AM</td>\n",
       "      <td>NaN</td>\n",
       "      <td>02/05/2020 11:24:31 AM</td>\n",
       "      <td>A</td>\n",
       "      <td>SOCIETY</td>\n",
       "      <td>DRUG/NARCOTIC OFFENSES</td>\n",
       "      <td>Drug/Narcotic Violations</td>\n",
       "      <td>35A</td>\n",
       "      <td>W</td>\n",
       "      <td>Q</td>\n",
       "      <td>Q1</td>\n",
       "      <td>MAGNOLIA</td>\n",
       "      <td>32XX BLOCK OF 23RD AVE W</td>\n",
       "      <td>-122.385974</td>\n",
       "      <td>47.649387</td>\n",
       "    </tr>\n",
       "    <tr>\n",
       "      <th>1</th>\n",
       "      <td>2020-044452</td>\n",
       "      <td>12605598696</td>\n",
       "      <td>02/03/2020 08:00:00 AM</td>\n",
       "      <td>02/04/2020 08:00:00 AM</td>\n",
       "      <td>02/05/2020 10:06:28 AM</td>\n",
       "      <td>A</td>\n",
       "      <td>PROPERTY</td>\n",
       "      <td>LARCENY-THEFT</td>\n",
       "      <td>Theft of Motor Vehicle Parts or Accessories</td>\n",
       "      <td>23G</td>\n",
       "      <td>N</td>\n",
       "      <td>J</td>\n",
       "      <td>J3</td>\n",
       "      <td>ROOSEVELT/RAVENNA</td>\n",
       "      <td>63XX BLOCK OF 5TH AVE NE</td>\n",
       "      <td>-122.323399</td>\n",
       "      <td>47.675118</td>\n",
       "    </tr>\n",
       "  </tbody>\n",
       "</table>\n",
       "</div>"
      ],
      "text/plain": [
       "  Report Number   Offense ID  Offense Start DateTime    Offense End DateTime  \\\n",
       "0   2020-044620  12605873663  02/05/2020 10:10:00 AM                     NaN   \n",
       "1   2020-044452  12605598696  02/03/2020 08:00:00 AM  02/04/2020 08:00:00 AM   \n",
       "\n",
       "          Report DateTime Group A B Crime Against Category  \\\n",
       "0  02/05/2020 11:24:31 AM         A                SOCIETY   \n",
       "1  02/05/2020 10:06:28 AM         A               PROPERTY   \n",
       "\n",
       "     Offense Parent Group                                      Offense  \\\n",
       "0  DRUG/NARCOTIC OFFENSES                     Drug/Narcotic Violations   \n",
       "1           LARCENY-THEFT  Theft of Motor Vehicle Parts or Accessories   \n",
       "\n",
       "  Offense Code Precinct Sector Beat               MCPP  \\\n",
       "0          35A        W      Q   Q1           MAGNOLIA   \n",
       "1          23G        N      J   J3  ROOSEVELT/RAVENNA   \n",
       "\n",
       "          100 Block Address   Longitude   Latitude  \n",
       "0  32XX BLOCK OF 23RD AVE W -122.385974  47.649387  \n",
       "1  63XX BLOCK OF 5TH AVE NE -122.323399  47.675118  "
      ]
     },
     "execution_count": 3,
     "metadata": {},
     "output_type": "execute_result"
    }
   ],
   "source": [
    "data = pd.read_csv(\"The Seattle Police Department (SPD) Crime Data.csv\")\n",
    "data.head(2)"
   ]
  },
  {
   "cell_type": "code",
   "execution_count": 4,
   "id": "84a9892f",
   "metadata": {},
   "outputs": [
    {
     "data": {
      "text/plain": [
       "(979713, 17)"
      ]
     },
     "execution_count": 4,
     "metadata": {},
     "output_type": "execute_result"
    }
   ],
   "source": [
    "data.shape #almost a millions rows to start with before cleaning"
   ]
  },
  {
   "cell_type": "code",
   "execution_count": 5,
   "id": "e01fe791",
   "metadata": {},
   "outputs": [
    {
     "name": "stdout",
     "output_type": "stream",
     "text": [
      "<class 'pandas.core.frame.DataFrame'>\n",
      "RangeIndex: 979713 entries, 0 to 979712\n",
      "Data columns (total 17 columns):\n",
      " #   Column                  Non-Null Count   Dtype  \n",
      "---  ------                  --------------   -----  \n",
      " 0   Report Number           979713 non-null  object \n",
      " 1   Offense ID              979713 non-null  int64  \n",
      " 2   Offense Start DateTime  978708 non-null  object \n",
      " 3   Offense End DateTime    543406 non-null  object \n",
      " 4   Report DateTime         979713 non-null  object \n",
      " 5   Group A B               979713 non-null  object \n",
      " 6   Crime Against Category  979713 non-null  object \n",
      " 7   Offense Parent Group    979713 non-null  object \n",
      " 8   Offense                 979713 non-null  object \n",
      " 9   Offense Code            979713 non-null  object \n",
      " 10  Precinct                979709 non-null  object \n",
      " 11  Sector                  979711 non-null  object \n",
      " 12  Beat                    979711 non-null  object \n",
      " 13  MCPP                    979713 non-null  object \n",
      " 14  100 Block Address       940102 non-null  object \n",
      " 15  Longitude               979713 non-null  float64\n",
      " 16  Latitude                979713 non-null  float64\n",
      "dtypes: float64(2), int64(1), object(14)\n",
      "memory usage: 127.1+ MB\n"
     ]
    }
   ],
   "source": [
    "data.info()"
   ]
  },
  {
   "cell_type": "code",
   "execution_count": null,
   "id": "fb2a966e",
   "metadata": {},
   "outputs": [],
   "source": [
    "!pip install pandas_profiling\n",
    "from pandas_profiling import ProfileReport"
   ]
  },
  {
   "cell_type": "code",
   "execution_count": null,
   "id": "23495044",
   "metadata": {},
   "outputs": [],
   "source": [
    "profile = ProfileReport(data, title=\"Police Report: Pandas Profiling Report\", explorative=True)\n",
    "profile.to_widgets() \n",
    "profile # I usually use write a few lines/a script for smaller datasets when exploring but given the size\n",
    "        # I wanted to get a read on things before diving in fully"
   ]
  },
  {
   "cell_type": "markdown",
   "id": "5e1a99c8",
   "metadata": {},
   "source": [
    "#### Data Wrangling / Cleaning"
   ]
  },
  {
   "cell_type": "code",
   "execution_count": 7,
   "id": "51dc3e08",
   "metadata": {},
   "outputs": [
    {
     "data": {
      "text/plain": [
       "Offense End DateTime      436307\n",
       "100 Block Address          39611\n",
       "Offense Start DateTime      1005\n",
       "Precinct                       4\n",
       "Beat                           2\n",
       "Sector                         2\n",
       "Report Number                  0\n",
       "Longitude                      0\n",
       "MCPP                           0\n",
       "Offense                        0\n",
       "Offense Code                   0\n",
       "Offense ID                     0\n",
       "Offense Parent Group           0\n",
       "Crime Against Category         0\n",
       "Group A B                      0\n",
       "Report DateTime                0\n",
       "Latitude                       0\n",
       "dtype: int64"
      ]
     },
     "execution_count": 7,
     "metadata": {},
     "output_type": "execute_result"
    }
   ],
   "source": [
    "data.isnull().sum().sort_values(ascending=False) "
   ]
  },
  {
   "cell_type": "code",
   "execution_count": 8,
   "id": "d987b1e7",
   "metadata": {},
   "outputs": [
    {
     "name": "stdout",
     "output_type": "stream",
     "text": [
      "Percentage of End Datetime NaN values: 44.53%\n"
     ]
    }
   ],
   "source": [
    "end_pct = round(data[data['Offense End DateTime'].isnull()].shape[0] / data.shape[0] * 100, 2)\n",
    "print(f\"Percentage of End Datetime NaN values: {end_pct}%\")\n",
    "#nearly 45% of all Offense End DateTime values are NaN"
   ]
  },
  {
   "cell_type": "code",
   "execution_count": 9,
   "id": "be8979db",
   "metadata": {},
   "outputs": [
    {
     "name": "stdout",
     "output_type": "stream",
     "text": [
      "Percentage of Street Address NaN values: 4.04%\n"
     ]
    }
   ],
   "source": [
    "address_pct = round(data[data['100 Block Address'].isnull()].shape[0] / data.shape[0] * 100, 2)\n",
    "print(f\"Percentage of Street Address NaN values: {address_pct}%\")\n",
    "#only 4% of all Offense End DateTime values are NaN"
   ]
  },
  {
   "cell_type": "code",
   "execution_count": null,
   "id": "b2027503",
   "metadata": {},
   "outputs": [],
   "source": [
    "# there are 39611 incidents without an address - remove \n",
    "# same goes for any other missing data, like Start DateTime \n",
    "# there is no way to get an accurate Start DateTime"
   ]
  },
  {
   "cell_type": "code",
   "execution_count": 10,
   "id": "0dacef53",
   "metadata": {},
   "outputs": [
    {
     "data": {
      "text/plain": [
       "Report Number             0\n",
       "Offense ID                0\n",
       "Offense Start DateTime    0\n",
       "Report DateTime           0\n",
       "Group A B                 0\n",
       "Crime Against Category    0\n",
       "Offense Parent Group      0\n",
       "Offense                   0\n",
       "Offense Code              0\n",
       "Precinct                  0\n",
       "Sector                    0\n",
       "Beat                      0\n",
       "MCPP                      0\n",
       "100 Block Address         0\n",
       "Longitude                 0\n",
       "Latitude                  0\n",
       "dtype: int64"
      ]
     },
     "execution_count": 10,
     "metadata": {},
     "output_type": "execute_result"
    }
   ],
   "source": [
    "#Whether 'End Datetime' is of relevance also depends on what questions we're trying to answer\n",
    "    # e.g. Do we care how long each crime lasted? Would this be import in learning police \n",
    "    #      response times and stopping criminal incidents? \n",
    "    \n",
    "data.drop(['Offense End DateTime'], axis = 1, inplace = True) # removing column from dataframe\n",
    "data.dropna(axis=0, inplace=True) # dropping remaining values that are NaN\n",
    "data.isnull().sum()"
   ]
  },
  {
   "cell_type": "code",
   "execution_count": 11,
   "id": "a7c63a42",
   "metadata": {},
   "outputs": [
    {
     "data": {
      "text/plain": [
       "0"
      ]
     },
     "execution_count": 11,
     "metadata": {},
     "output_type": "execute_result"
    }
   ],
   "source": [
    "data.duplicated().sum() # there are no duplicates present in the dataset "
   ]
  },
  {
   "cell_type": "code",
   "execution_count": 12,
   "id": "12e55539",
   "metadata": {},
   "outputs": [],
   "source": [
    "data.columns = data.columns.str.replace(\" \", \"_\").str.lower() #formatting column names for easier scripting "
   ]
  },
  {
   "cell_type": "code",
   "execution_count": 13,
   "id": "f647f57a",
   "metadata": {},
   "outputs": [
    {
     "data": {
      "text/html": [
       "<div>\n",
       "<style scoped>\n",
       "    .dataframe tbody tr th:only-of-type {\n",
       "        vertical-align: middle;\n",
       "    }\n",
       "\n",
       "    .dataframe tbody tr th {\n",
       "        vertical-align: top;\n",
       "    }\n",
       "\n",
       "    .dataframe thead th {\n",
       "        text-align: right;\n",
       "    }\n",
       "</style>\n",
       "<table border=\"1\" class=\"dataframe\">\n",
       "  <thead>\n",
       "    <tr style=\"text-align: right;\">\n",
       "      <th></th>\n",
       "      <th>report_number</th>\n",
       "      <th>offense_id</th>\n",
       "      <th>offense_start_datetime</th>\n",
       "      <th>report_datetime</th>\n",
       "      <th>group_a_b</th>\n",
       "      <th>crime_against_category</th>\n",
       "      <th>offense_parent_group</th>\n",
       "      <th>offense</th>\n",
       "      <th>offense_code</th>\n",
       "      <th>precinct</th>\n",
       "      <th>sector</th>\n",
       "      <th>beat</th>\n",
       "      <th>mcpp</th>\n",
       "      <th>100_block_address</th>\n",
       "      <th>longitude</th>\n",
       "      <th>latitude</th>\n",
       "    </tr>\n",
       "  </thead>\n",
       "  <tbody>\n",
       "    <tr>\n",
       "      <th>0</th>\n",
       "      <td>2020-044620</td>\n",
       "      <td>12605873663</td>\n",
       "      <td>02/05/2020 10:10:00 AM</td>\n",
       "      <td>02/05/2020 11:24:31 AM</td>\n",
       "      <td>A</td>\n",
       "      <td>SOCIETY</td>\n",
       "      <td>DRUG/NARCOTIC OFFENSES</td>\n",
       "      <td>Drug/Narcotic Violations</td>\n",
       "      <td>35A</td>\n",
       "      <td>W</td>\n",
       "      <td>Q</td>\n",
       "      <td>Q1</td>\n",
       "      <td>MAGNOLIA</td>\n",
       "      <td>32XX BLOCK OF 23RD AVE W</td>\n",
       "      <td>-122.385974</td>\n",
       "      <td>47.649387</td>\n",
       "    </tr>\n",
       "    <tr>\n",
       "      <th>1</th>\n",
       "      <td>2020-044452</td>\n",
       "      <td>12605598696</td>\n",
       "      <td>02/03/2020 08:00:00 AM</td>\n",
       "      <td>02/05/2020 10:06:28 AM</td>\n",
       "      <td>A</td>\n",
       "      <td>PROPERTY</td>\n",
       "      <td>LARCENY-THEFT</td>\n",
       "      <td>Theft of Motor Vehicle Parts or Accessories</td>\n",
       "      <td>23G</td>\n",
       "      <td>N</td>\n",
       "      <td>J</td>\n",
       "      <td>J3</td>\n",
       "      <td>ROOSEVELT/RAVENNA</td>\n",
       "      <td>63XX BLOCK OF 5TH AVE NE</td>\n",
       "      <td>-122.323399</td>\n",
       "      <td>47.675118</td>\n",
       "    </tr>\n",
       "  </tbody>\n",
       "</table>\n",
       "</div>"
      ],
      "text/plain": [
       "  report_number   offense_id  offense_start_datetime         report_datetime  \\\n",
       "0   2020-044620  12605873663  02/05/2020 10:10:00 AM  02/05/2020 11:24:31 AM   \n",
       "1   2020-044452  12605598696  02/03/2020 08:00:00 AM  02/05/2020 10:06:28 AM   \n",
       "\n",
       "  group_a_b crime_against_category    offense_parent_group  \\\n",
       "0         A                SOCIETY  DRUG/NARCOTIC OFFENSES   \n",
       "1         A               PROPERTY           LARCENY-THEFT   \n",
       "\n",
       "                                       offense offense_code precinct sector  \\\n",
       "0                     Drug/Narcotic Violations          35A        W      Q   \n",
       "1  Theft of Motor Vehicle Parts or Accessories          23G        N      J   \n",
       "\n",
       "  beat               mcpp         100_block_address   longitude   latitude  \n",
       "0   Q1           MAGNOLIA  32XX BLOCK OF 23RD AVE W -122.385974  47.649387  \n",
       "1   J3  ROOSEVELT/RAVENNA  63XX BLOCK OF 5TH AVE NE -122.323399  47.675118  "
      ]
     },
     "execution_count": 13,
     "metadata": {},
     "output_type": "execute_result"
    }
   ],
   "source": [
    "data.head(2)"
   ]
  },
  {
   "cell_type": "markdown",
   "id": "e98c57b9",
   "metadata": {},
   "source": [
    "Date and Time Adjustments"
   ]
  },
  {
   "cell_type": "code",
   "execution_count": 14,
   "id": "533ec292",
   "metadata": {},
   "outputs": [],
   "source": [
    "data['offense_date'] = data['offense_start_datetime'].apply(lambda x: x.split(\" \")[0])\n",
    "data['offense_time'] = data['offense_start_datetime'].apply(lambda x: x.split(\" \")[1])"
   ]
  },
  {
   "cell_type": "code",
   "execution_count": 15,
   "id": "21b0a70d",
   "metadata": {},
   "outputs": [],
   "source": [
    "data['offense_date'] = pd.to_datetime(data.offense_date)\n",
    "data['offense_month'] = data.offense_date.dt.month_name()\n",
    "data['offense_dow'] = data.offense_date.dt.day_name()\n",
    "data['offense_day_no'] = data.offense_date.dt.day_of_week\n",
    "data['offense_year'] = data.offense_date.dt.year"
   ]
  },
  {
   "cell_type": "code",
   "execution_count": 16,
   "id": "a97cb3ac",
   "metadata": {},
   "outputs": [
    {
     "data": {
      "text/plain": [
       "'08:00:00'"
      ]
     },
     "execution_count": 16,
     "metadata": {},
     "output_type": "execute_result"
    }
   ],
   "source": [
    "data['offense_start_datetime'].str.split(\" \")[1][1]"
   ]
  },
  {
   "cell_type": "code",
   "execution_count": 17,
   "id": "6837c700",
   "metadata": {},
   "outputs": [],
   "source": [
    "#hour of crime is denoted by AM and PM, so I'll have to change how I thought I was going to approach this\n",
    "#this could be done with an np where as well - refactoring idea\n",
    "def convert_to_24_hours(time): \n",
    "    '''converts AM/PM times to 24-clock'''\n",
    "    if \"PM\" in time: \n",
    "        time = int(time.split(\":\")[0]) + 12 \n",
    "    else: \n",
    "        time = int(time.split(\":\")[0])\n",
    "    return time\n",
    "\n",
    "def np_convert_to_24_hours(time)"
   ]
  },
  {
   "cell_type": "code",
   "execution_count": 20,
   "id": "7cabb568",
   "metadata": {},
   "outputs": [],
   "source": [
    "data['offense_ampm'] = data['offense_start_datetime'].apply(lambda x: x.split(\" \")[1:])\n",
    "data['offense_ampm'] = data['offense_ampm'].apply(lambda x: \" \".join(x))\n",
    "data['offense_24hr'] = data['offense_ampm'].apply(lambda x: convert_to_24_hours(x))"
   ]
  },
  {
   "cell_type": "markdown",
   "id": "339b59b4",
   "metadata": {},
   "source": [
    "   "
   ]
  },
  {
   "cell_type": "code",
   "execution_count": 31,
   "id": "bb4903e2",
   "metadata": {},
   "outputs": [],
   "source": [
    "plt.rcParams['axes.autolimit_mode'] = 'round_numbers'\n",
    "plt.rcParams['axes.xmargin'] = 0.\n",
    "plt.rcParams['axes.ymargin'] = 0."
   ]
  },
  {
   "cell_type": "markdown",
   "id": "a35cf97b",
   "metadata": {},
   "source": [
    "Street Address Adjustments"
   ]
  },
  {
   "cell_type": "code",
   "execution_count": 21,
   "id": "79326b9d",
   "metadata": {},
   "outputs": [
    {
     "data": {
      "text/plain": [
       "Index(['report_number', 'offense_id', 'offense_start_datetime',\n",
       "       'report_datetime', 'group_a_b', 'crime_against_category',\n",
       "       'offense_parent_group', 'offense', 'offense_code', 'precinct', 'sector',\n",
       "       'beat', 'mcpp', '100_block_address', 'longitude', 'latitude',\n",
       "       'offense_date', 'offense_time', 'offense_month', 'offense_dow',\n",
       "       'offense_day_no', 'offense_year', 'offense_ampm', 'offense_24hr'],\n",
       "      dtype='object')"
      ]
     },
     "execution_count": 21,
     "metadata": {},
     "output_type": "execute_result"
    }
   ],
   "source": [
    "data.columns"
   ]
  },
  {
   "cell_type": "code",
   "execution_count": 22,
   "id": "3fb01753",
   "metadata": {},
   "outputs": [],
   "source": [
    "data[\"100_block_address\"] = data[\"100_block_address\"].apply(lambda x: x.replace(\"XX\", \"00\"))\n",
    "#replacing all blocked out address with \"00\" number of block for more granularity than just street address\n",
    "\n",
    "data[\"street_address\"] = data[\"100_block_address\"].apply(lambda x: x.replace(\"BLOCK OF\", \"\"))"
   ]
  },
  {
   "cell_type": "code",
   "execution_count": null,
   "id": "fe150b42",
   "metadata": {},
   "outputs": [],
   "source": [
    "# plt.figure(figsize=(3, 3))\n",
    "# sns.scatterplot(data=data, \n",
    "#                 x=\"latitude\", \n",
    "#                 y=\"longitude\")\n",
    "\n",
    "# #should generate a more visible plot given coordinates - look into this further "
   ]
  },
  {
   "cell_type": "markdown",
   "id": "b9d89d17",
   "metadata": {},
   "source": [
    "#### Exploratory Data Analysis "
   ]
  },
  {
   "cell_type": "markdown",
   "id": "d2c9fa4e",
   "metadata": {},
   "source": [
    "Date and Time Visualizations "
   ]
  },
  {
   "cell_type": "code",
   "execution_count": 23,
   "id": "11a1b5a8",
   "metadata": {},
   "outputs": [],
   "source": [
    "data['DAY_OF_WEEK'] = pd.Categorical(data['offense_dow'], categories=\n",
    "    ['Monday','Tuesday','Wednesday','Thursday','Friday','Saturday', 'Sunday'],\n",
    "    ordered=True) #converting to categorical variables for easier ordering on graphs "
   ]
  },
  {
   "cell_type": "code",
   "execution_count": 24,
   "id": "72f45679",
   "metadata": {},
   "outputs": [
    {
     "data": {
      "text/html": [
       "<div>\n",
       "<style scoped>\n",
       "    .dataframe tbody tr th:only-of-type {\n",
       "        vertical-align: middle;\n",
       "    }\n",
       "\n",
       "    .dataframe tbody tr th {\n",
       "        vertical-align: top;\n",
       "    }\n",
       "\n",
       "    .dataframe thead th {\n",
       "        text-align: right;\n",
       "    }\n",
       "</style>\n",
       "<table border=\"1\" class=\"dataframe\">\n",
       "  <thead>\n",
       "    <tr style=\"text-align: right;\">\n",
       "      <th></th>\n",
       "      <th>report_number</th>\n",
       "      <th>offense_id</th>\n",
       "      <th>offense_start_datetime</th>\n",
       "      <th>report_datetime</th>\n",
       "      <th>group_a_b</th>\n",
       "      <th>crime_against_category</th>\n",
       "      <th>offense_parent_group</th>\n",
       "      <th>offense</th>\n",
       "      <th>offense_code</th>\n",
       "      <th>precinct</th>\n",
       "      <th>...</th>\n",
       "      <th>offense_date</th>\n",
       "      <th>offense_time</th>\n",
       "      <th>offense_month</th>\n",
       "      <th>offense_dow</th>\n",
       "      <th>offense_day_no</th>\n",
       "      <th>offense_year</th>\n",
       "      <th>offense_ampm</th>\n",
       "      <th>offense_24hr</th>\n",
       "      <th>street_address</th>\n",
       "      <th>DAY_OF_WEEK</th>\n",
       "    </tr>\n",
       "  </thead>\n",
       "  <tbody>\n",
       "    <tr>\n",
       "      <th>0</th>\n",
       "      <td>2020-044620</td>\n",
       "      <td>12605873663</td>\n",
       "      <td>02/05/2020 10:10:00 AM</td>\n",
       "      <td>02/05/2020 11:24:31 AM</td>\n",
       "      <td>A</td>\n",
       "      <td>SOCIETY</td>\n",
       "      <td>DRUG/NARCOTIC OFFENSES</td>\n",
       "      <td>Drug/Narcotic Violations</td>\n",
       "      <td>35A</td>\n",
       "      <td>W</td>\n",
       "      <td>...</td>\n",
       "      <td>2020-02-05</td>\n",
       "      <td>10:10:00</td>\n",
       "      <td>February</td>\n",
       "      <td>Wednesday</td>\n",
       "      <td>2</td>\n",
       "      <td>2020</td>\n",
       "      <td>10:10:00 AM</td>\n",
       "      <td>10</td>\n",
       "      <td>3200  23RD AVE W</td>\n",
       "      <td>Wednesday</td>\n",
       "    </tr>\n",
       "    <tr>\n",
       "      <th>1</th>\n",
       "      <td>2020-044452</td>\n",
       "      <td>12605598696</td>\n",
       "      <td>02/03/2020 08:00:00 AM</td>\n",
       "      <td>02/05/2020 10:06:28 AM</td>\n",
       "      <td>A</td>\n",
       "      <td>PROPERTY</td>\n",
       "      <td>LARCENY-THEFT</td>\n",
       "      <td>Theft of Motor Vehicle Parts or Accessories</td>\n",
       "      <td>23G</td>\n",
       "      <td>N</td>\n",
       "      <td>...</td>\n",
       "      <td>2020-02-03</td>\n",
       "      <td>08:00:00</td>\n",
       "      <td>February</td>\n",
       "      <td>Monday</td>\n",
       "      <td>0</td>\n",
       "      <td>2020</td>\n",
       "      <td>08:00:00 AM</td>\n",
       "      <td>8</td>\n",
       "      <td>6300  5TH AVE NE</td>\n",
       "      <td>Monday</td>\n",
       "    </tr>\n",
       "  </tbody>\n",
       "</table>\n",
       "<p>2 rows × 26 columns</p>\n",
       "</div>"
      ],
      "text/plain": [
       "  report_number   offense_id  offense_start_datetime         report_datetime  \\\n",
       "0   2020-044620  12605873663  02/05/2020 10:10:00 AM  02/05/2020 11:24:31 AM   \n",
       "1   2020-044452  12605598696  02/03/2020 08:00:00 AM  02/05/2020 10:06:28 AM   \n",
       "\n",
       "  group_a_b crime_against_category    offense_parent_group  \\\n",
       "0         A                SOCIETY  DRUG/NARCOTIC OFFENSES   \n",
       "1         A               PROPERTY           LARCENY-THEFT   \n",
       "\n",
       "                                       offense offense_code precinct  ...  \\\n",
       "0                     Drug/Narcotic Violations          35A        W  ...   \n",
       "1  Theft of Motor Vehicle Parts or Accessories          23G        N  ...   \n",
       "\n",
       "  offense_date offense_time offense_month offense_dow  offense_day_no  \\\n",
       "0   2020-02-05     10:10:00      February   Wednesday               2   \n",
       "1   2020-02-03     08:00:00      February      Monday               0   \n",
       "\n",
       "   offense_year offense_ampm offense_24hr    street_address DAY_OF_WEEK  \n",
       "0          2020  10:10:00 AM           10  3200  23RD AVE W   Wednesday  \n",
       "1          2020  08:00:00 AM            8  6300  5TH AVE NE      Monday  \n",
       "\n",
       "[2 rows x 26 columns]"
      ]
     },
     "execution_count": 24,
     "metadata": {},
     "output_type": "execute_result"
    }
   ],
   "source": [
    "data.head(2)"
   ]
  },
  {
   "cell_type": "code",
   "execution_count": 33,
   "id": "d2052a42",
   "metadata": {},
   "outputs": [
    {
     "data": {
      "text/plain": [
       "Text(0.5, 1.0, 'Distribution of Criminal Incidents By Day of Week')"
      ]
     },
     "execution_count": 33,
     "metadata": {},
     "output_type": "execute_result"
    },
    {
     "data": {
      "image/png": "[encoded data removed]",
      "text/plain": [
       "<Figure size 864x288 with 1 Axes>"
      ]
     },
     "metadata": {},
     "output_type": "display_data"
    }
   ],
   "source": [
    "# ensuring that DOW is ordered vs. Friday coming before Tuesday because of it's ranking \n",
    "data.DAY_OF_WEEK.value_counts().sort_index().plot(kind=\"bar\", figsize=(12, 4))\n",
    "plt.ylabel(\"Number of Incidents\")\n",
    "plt.title(\"Distribution of Criminal Incidents By Day of Week\", fontsize=14)"
   ]
  },
  {
   "cell_type": "code",
   "execution_count": 26,
   "id": "414d9000",
   "metadata": {},
   "outputs": [],
   "source": [
    "data['MONTH_OF_YEAR'] = pd.Categorical(data['offense_month'], categories=\n",
    "    [\"January\", \"February\", \"March\", \"April\", \"May\", \"June\", \"July\", \n",
    "         \"August\", \"September\", \"October\", \"November\", \"December\"], \n",
    "    ordered=True) #converting months for easier ordering on graphs"
   ]
  },
  {
   "cell_type": "code",
   "execution_count": 34,
   "id": "e0140d34",
   "metadata": {},
   "outputs": [
    {
     "data": {
      "text/plain": [
       "Text(0.5, 1.0, 'Distribution of Criminal Incidents By Month')"
      ]
     },
     "execution_count": 34,
     "metadata": {},
     "output_type": "execute_result"
    },
    {
     "data": {
      "image/png": "[encoded data removed]",
      "text/plain": [
       "<Figure size 864x288 with 1 Axes>"
      ]
     },
     "metadata": {},
     "output_type": "display_data"
    }
   ],
   "source": [
    "data.MONTH_OF_YEAR.value_counts().sort_index().plot(kind=\"bar\", figsize=(12, 4))\n",
    "plt.ylabel(\"Number of Incidents\")\n",
    "plt.title(\"Distribution of Criminal Incidents By Month\", fontsize=14)"
   ]
  },
  {
   "cell_type": "code",
   "execution_count": 35,
   "id": "faebae8e",
   "metadata": {},
   "outputs": [
    {
     "data": {
      "text/plain": [
       "<matplotlib.legend.Legend at 0x15eb92c4310>"
      ]
     },
     "execution_count": 35,
     "metadata": {},
     "output_type": "execute_result"
    },
    {
     "data": {
      "image/png": "[encoded data removed]",
      "text/plain": [
       "<Figure size 864x288 with 1 Axes>"
      ]
     },
     "metadata": {},
     "output_type": "display_data"
    }
   ],
   "source": [
    "fig, ax = plt.subplots(figsize=(12, 4))\n",
    "group1 = data.groupby(['MONTH_OF_YEAR', 'crime_against_category']).size().to_frame(\"n_incidents\").reset_index()\n",
    "sns.barplot(data=group1, x='MONTH_OF_YEAR', y='n_incidents', hue='crime_against_category', palette=\"BuGn\")\n",
    "\n",
    "ax.text(-0.5, 74000, \"Distribution of Criminal Categories By Month\", \\\n",
    "        {'font':'Serif', 'fontsize':14, 'fontweight':'medium'})\n",
    "ax.legend(loc=(1.005, .79))"
   ]
  },
  {
   "cell_type": "code",
   "execution_count": 36,
   "id": "8a6f4f00",
   "metadata": {},
   "outputs": [
    {
     "data": {
      "text/plain": [
       "Text(0, 82500, 'Crime Heats Up Throughout the Day ')"
      ]
     },
     "execution_count": 36,
     "metadata": {},
     "output_type": "execute_result"
    },
    {
     "data": {
      "image/png": "[encoded data removed]",
      "text/plain": [
       "<Figure size 1080x432 with 1 Axes>"
      ]
     },
     "metadata": {},
     "output_type": "display_data"
    }
   ],
   "source": [
    "hour_group = data.groupby('offense_24hr').size().to_frame('n_incidents').reset_index()\n",
    "\n",
    "fig, ax = plt.subplots(figsize=(15, 6))\n",
    "sns.set_style('darkgrid')\n",
    "sns.lineplot(data=hour_group, x='offense_24hr', y='n_incidents')\n",
    "ax.margins(0)\n",
    "\n",
    "plt.xlabel(\"Hour of Day\", fontsize=12)\n",
    "plt.ylabel(\"Number of Incidents\", fontsize=12)\n",
    "plt.xlim(0, 24)\n",
    "ax.text(0, 82500, \"Crime Heats Up Throughout the Day \", {'font':'Arial', 'fontweight':'bold', 'fontsize':14})"
   ]
  },
  {
   "cell_type": "code",
   "execution_count": null,
   "id": "ba3dad98",
   "metadata": {},
   "outputs": [],
   "source": []
  },
  {
   "cell_type": "code",
   "execution_count": 37,
   "id": "10fe75e1",
   "metadata": {},
   "outputs": [
    {
     "data": {
      "image/png": "[encoded data removed]",
      "text/plain": [
       "<Figure size 864x360 with 1 Axes>"
      ]
     },
     "metadata": {},
     "output_type": "display_data"
    }
   ],
   "source": [
    "hour_cat_group = data.groupby(['offense_24hr', 'crime_against_category']).size().to_frame('n_incidents').reset_index()\n",
    "fig, ax = plt.subplots(figsize=(12, 5))\n",
    "sns.set_style('white')\n",
    "sns.lineplot(data=hour_cat_group, x='offense_24hr', y='n_incidents', hue='crime_against_category')\n",
    "\n",
    "plt.xlabel(\"Hour of Day\", fontsize=12)\n",
    "plt.ylabel(\"Number of Incidents\", fontsize=12)\n",
    "plt.xlim(0, 24)\n",
    "ax.text(0, 70000, \"Criminal Offense Against Trends Throughout the Day\", {\"fontsize\":18, \"fontweight\":\"bold\", \"font\":\"Arial\"})\n",
    "\n",
    "plt.legend(fontsize=10, fancybox=True)\n",
    "sns.despine()"
   ]
  },
  {
   "cell_type": "code",
   "execution_count": null,
   "id": "ef4e0758",
   "metadata": {},
   "outputs": [],
   "source": [
    "data.columns"
   ]
  },
  {
   "cell_type": "code",
   "execution_count": null,
   "id": "1d88f71c",
   "metadata": {},
   "outputs": [],
   "source": [
    "#heatmap of hour of day, month of year and number of incidents "
   ]
  },
  {
   "cell_type": "code",
   "execution_count": 38,
   "id": "4ceaeaf6",
   "metadata": {},
   "outputs": [
    {
     "data": {
      "image/png": "[encoded data removed]",
      "text/plain": [
       "<Figure size 432x432 with 3 Axes>"
      ]
     },
     "metadata": {},
     "output_type": "display_data"
    }
   ],
   "source": [
    "time_heatmap = data.groupby(['offense_date', 'offense_24hr']).size().to_frame('n_incidents').reset_index()\n",
    "time_heatmap.sort_values('n_incidents', ascending=False) # there are hundreds of arrests per hour during certain times of the year \n",
    "time_heatmap['offense_month'] = (data['offense_date'].dt.month)\n",
    "time_heatmap = time_heatmap.iloc[:, 1:]\n",
    "g = sns.jointplot(data=time_heatmap, x=\"offense_24hr\", y=\"offense_month\");"
   ]
  },
  {
   "cell_type": "code",
   "execution_count": null,
   "id": "ac6941b0",
   "metadata": {},
   "outputs": [],
   "source": []
  },
  {
   "cell_type": "code",
   "execution_count": null,
   "id": "74537ff3",
   "metadata": {},
   "outputs": [],
   "source": []
  },
  {
   "cell_type": "code",
   "execution_count": 39,
   "id": "6605e011",
   "metadata": {},
   "outputs": [
    {
     "data": {
      "image/png": "[encoded data removed]",
      "text/plain": [
       "<Figure size 864x288 with 1 Axes>"
      ]
     },
     "metadata": {},
     "output_type": "display_data"
    }
   ],
   "source": [
    "by_year = data.groupby(['offense_year']).size().to_frame(\"n_incidents\").plot(kind=\"bar\", figsize=(12, 4))"
   ]
  },
  {
   "cell_type": "code",
   "execution_count": 43,
   "id": "aec491ce",
   "metadata": {},
   "outputs": [
    {
     "data": {
      "image/png": "[encoded data removed]",
      "text/plain": [
       "<Figure size 864x288 with 1 Axes>"
      ]
     },
     "metadata": {},
     "output_type": "display_data"
    }
   ],
   "source": [
    "#it looks like crime has steadily increased since '08 in Seattle, with some exceptions \n",
    "# it's also clear that the dataset has values preceeding 2008 that will need to be taken care of \n",
    "\n",
    "by_year = data.groupby(['offense_year']).size().to_frame('n_incidents').reset_index() \n",
    "by_year = by_year[by_year['offense_year'] >= 2008]\n",
    "\n",
    "fig, ax = plt.subplots(figsize=(12, 4)) \n",
    "sns.set_style('dark')\n",
    "sns.barplot(data=by_year, x=\"offense_year\", y=\"n_incidents\", color=\"tab:blue\")\n",
    "plt.xlabel(\"Year\")\n",
    "plt.ylabel(\"Number of Arrests\")\n",
    "plt.xticks(fontsize=12)\n",
    "plt.yticks(fontsize=12)\n",
    "\n",
    "for p in ax.patches: \n",
    "    x = p.get_x() + p.get_width() - 0.7\n",
    "    y = p.get_y() + p.get_height() + 1250\n",
    "    value = \"{}\".format(p.get_height())\n",
    "    value = int(float(value))\n",
    "    ax.text(x, y, value)\n",
    "\n",
    "ax.text(-0.5, 82500, \"Crime Rates Continue to Climb, Despite COVID-19\", \n",
    "       {\"font\":\"arial\", \"fontweight\":\"bold\", \"fontsize\":14});"
   ]
  },
  {
   "cell_type": "code",
   "execution_count": 44,
   "id": "13c29dae",
   "metadata": {},
   "outputs": [
    {
     "data": {
      "text/html": [
       "<div>\n",
       "<style scoped>\n",
       "    .dataframe tbody tr th:only-of-type {\n",
       "        vertical-align: middle;\n",
       "    }\n",
       "\n",
       "    .dataframe tbody tr th {\n",
       "        vertical-align: top;\n",
       "    }\n",
       "\n",
       "    .dataframe thead th {\n",
       "        text-align: right;\n",
       "    }\n",
       "</style>\n",
       "<table border=\"1\" class=\"dataframe\">\n",
       "  <thead>\n",
       "    <tr style=\"text-align: right;\">\n",
       "      <th></th>\n",
       "      <th>report_number</th>\n",
       "      <th>offense_id</th>\n",
       "      <th>offense_start_datetime</th>\n",
       "      <th>report_datetime</th>\n",
       "      <th>group_a_b</th>\n",
       "      <th>crime_against_category</th>\n",
       "      <th>offense_parent_group</th>\n",
       "      <th>offense</th>\n",
       "      <th>offense_code</th>\n",
       "      <th>precinct</th>\n",
       "      <th>...</th>\n",
       "      <th>offense_time</th>\n",
       "      <th>offense_month</th>\n",
       "      <th>offense_dow</th>\n",
       "      <th>offense_day_no</th>\n",
       "      <th>offense_year</th>\n",
       "      <th>offense_ampm</th>\n",
       "      <th>offense_24hr</th>\n",
       "      <th>street_address</th>\n",
       "      <th>DAY_OF_WEEK</th>\n",
       "      <th>MONTH_OF_YEAR</th>\n",
       "    </tr>\n",
       "  </thead>\n",
       "  <tbody>\n",
       "    <tr>\n",
       "      <th>77881</th>\n",
       "      <td>2018-122126</td>\n",
       "      <td>7696700062</td>\n",
       "      <td>03/13/1991 12:00:00 AM</td>\n",
       "      <td>04/07/2018 09:42:00 AM</td>\n",
       "      <td>A</td>\n",
       "      <td>PROPERTY</td>\n",
       "      <td>COUNTERFEITING/FORGERY</td>\n",
       "      <td>Counterfeiting/Forgery</td>\n",
       "      <td>250</td>\n",
       "      <td>E</td>\n",
       "      <td>...</td>\n",
       "      <td>12:00:00</td>\n",
       "      <td>March</td>\n",
       "      <td>Wednesday</td>\n",
       "      <td>2</td>\n",
       "      <td>1991</td>\n",
       "      <td>12:00:00 AM</td>\n",
       "      <td>12</td>\n",
       "      <td>1500  12TH AVE</td>\n",
       "      <td>Wednesday</td>\n",
       "      <td>March</td>\n",
       "    </tr>\n",
       "    <tr>\n",
       "      <th>88946</th>\n",
       "      <td>2018-900357</td>\n",
       "      <td>7690829900</td>\n",
       "      <td>06/30/1995 01:00:00 AM</td>\n",
       "      <td>01/10/2018 05:44:00 PM</td>\n",
       "      <td>A</td>\n",
       "      <td>PROPERTY</td>\n",
       "      <td>FRAUD OFFENSES</td>\n",
       "      <td>Impersonation</td>\n",
       "      <td>26C</td>\n",
       "      <td>W</td>\n",
       "      <td>...</td>\n",
       "      <td>01:00:00</td>\n",
       "      <td>June</td>\n",
       "      <td>Friday</td>\n",
       "      <td>4</td>\n",
       "      <td>1995</td>\n",
       "      <td>01:00:00 AM</td>\n",
       "      <td>1</td>\n",
       "      <td>1000  4TH AVE</td>\n",
       "      <td>Friday</td>\n",
       "      <td>June</td>\n",
       "    </tr>\n",
       "    <tr>\n",
       "      <th>89611</th>\n",
       "      <td>2018-900166</td>\n",
       "      <td>7630513007</td>\n",
       "      <td>01/01/1991 02:25:00 PM</td>\n",
       "      <td>01/05/2018 02:57:00 PM</td>\n",
       "      <td>A</td>\n",
       "      <td>PROPERTY</td>\n",
       "      <td>FRAUD OFFENSES</td>\n",
       "      <td>Impersonation</td>\n",
       "      <td>26C</td>\n",
       "      <td>N</td>\n",
       "      <td>...</td>\n",
       "      <td>02:25:00</td>\n",
       "      <td>January</td>\n",
       "      <td>Tuesday</td>\n",
       "      <td>1</td>\n",
       "      <td>1991</td>\n",
       "      <td>02:25:00 PM</td>\n",
       "      <td>14</td>\n",
       "      <td>900  N 145TH ST</td>\n",
       "      <td>Tuesday</td>\n",
       "      <td>January</td>\n",
       "    </tr>\n",
       "  </tbody>\n",
       "</table>\n",
       "<p>3 rows × 27 columns</p>\n",
       "</div>"
      ],
      "text/plain": [
       "      report_number  offense_id  offense_start_datetime  \\\n",
       "77881   2018-122126  7696700062  03/13/1991 12:00:00 AM   \n",
       "88946   2018-900357  7690829900  06/30/1995 01:00:00 AM   \n",
       "89611   2018-900166  7630513007  01/01/1991 02:25:00 PM   \n",
       "\n",
       "              report_datetime group_a_b crime_against_category  \\\n",
       "77881  04/07/2018 09:42:00 AM         A               PROPERTY   \n",
       "88946  01/10/2018 05:44:00 PM         A               PROPERTY   \n",
       "89611  01/05/2018 02:57:00 PM         A               PROPERTY   \n",
       "\n",
       "         offense_parent_group                 offense offense_code precinct  \\\n",
       "77881  COUNTERFEITING/FORGERY  Counterfeiting/Forgery          250        E   \n",
       "88946          FRAUD OFFENSES           Impersonation          26C        W   \n",
       "89611          FRAUD OFFENSES           Impersonation          26C        N   \n",
       "\n",
       "       ... offense_time offense_month offense_dow offense_day_no  \\\n",
       "77881  ...     12:00:00         March   Wednesday              2   \n",
       "88946  ...     01:00:00          June      Friday              4   \n",
       "89611  ...     02:25:00       January     Tuesday              1   \n",
       "\n",
       "       offense_year  offense_ampm offense_24hr   street_address DAY_OF_WEEK  \\\n",
       "77881          1991   12:00:00 AM           12   1500  12TH AVE   Wednesday   \n",
       "88946          1995   01:00:00 AM            1    1000  4TH AVE      Friday   \n",
       "89611          1991   02:25:00 PM           14  900  N 145TH ST     Tuesday   \n",
       "\n",
       "      MONTH_OF_YEAR  \n",
       "77881         March  \n",
       "88946          June  \n",
       "89611       January  \n",
       "\n",
       "[3 rows x 27 columns]"
      ]
     },
     "execution_count": 44,
     "metadata": {},
     "output_type": "execute_result"
    }
   ],
   "source": [
    "data[data['offense_year'] < 2000][:3]"
   ]
  },
  {
   "cell_type": "code",
   "execution_count": 45,
   "id": "7c531832",
   "metadata": {},
   "outputs": [
    {
     "name": "stdout",
     "output_type": "stream",
     "text": [
      "Number of records before 2000:  67\n"
     ]
    }
   ],
   "source": [
    "print(\"Number of records before 2000: \", data[data['offense_year'] < 2000].shape[0])"
   ]
  },
  {
   "cell_type": "code",
   "execution_count": 46,
   "id": "03e3c72f",
   "metadata": {},
   "outputs": [],
   "source": [
    "data['report_date'] = data['report_datetime'].apply(lambda x: x.split(\" \")[0])\n",
    "data['report_date'] = pd.to_datetime(data['report_date'])"
   ]
  },
  {
   "cell_type": "code",
   "execution_count": 47,
   "id": "f82e2122",
   "metadata": {},
   "outputs": [],
   "source": [
    "data['duration'] = (data['report_date'] - data['offense_date']).dt.days"
   ]
  },
  {
   "cell_type": "code",
   "execution_count": 48,
   "id": "6d5be5ff",
   "metadata": {},
   "outputs": [
    {
     "data": {
      "text/plain": [
       "4088"
      ]
     },
     "execution_count": 48,
     "metadata": {},
     "output_type": "execute_result"
    }
   ],
   "source": [
    "data[data['duration'] > 365].shape[0] \n",
    "#over 4000 report records were not filed until a year after incident occurred"
   ]
  },
  {
   "cell_type": "code",
   "execution_count": 49,
   "id": "8d10ac47",
   "metadata": {},
   "outputs": [
    {
     "data": {
      "text/plain": [
       "76"
      ]
     },
     "execution_count": 49,
     "metadata": {},
     "output_type": "execute_result"
    }
   ],
   "source": [
    "data[data['duration'] < 0].shape[0]\n",
    "# 76 reports filed prematurely, meaning before the incident was said to have even occured "
   ]
  },
  {
   "cell_type": "code",
   "execution_count": 50,
   "id": "25793245",
   "metadata": {},
   "outputs": [
    {
     "data": {
      "text/html": [
       "<div>\n",
       "<style scoped>\n",
       "    .dataframe tbody tr th:only-of-type {\n",
       "        vertical-align: middle;\n",
       "    }\n",
       "\n",
       "    .dataframe tbody tr th {\n",
       "        vertical-align: top;\n",
       "    }\n",
       "\n",
       "    .dataframe thead th {\n",
       "        text-align: right;\n",
       "    }\n",
       "</style>\n",
       "<table border=\"1\" class=\"dataframe\">\n",
       "  <thead>\n",
       "    <tr style=\"text-align: right;\">\n",
       "      <th></th>\n",
       "      <th>duration</th>\n",
       "      <th>n_incidents</th>\n",
       "    </tr>\n",
       "  </thead>\n",
       "  <tbody>\n",
       "    <tr>\n",
       "      <th>0</th>\n",
       "      <td>-180</td>\n",
       "      <td>1</td>\n",
       "    </tr>\n",
       "    <tr>\n",
       "      <th>1</th>\n",
       "      <td>-152</td>\n",
       "      <td>1</td>\n",
       "    </tr>\n",
       "    <tr>\n",
       "      <th>2</th>\n",
       "      <td>-128</td>\n",
       "      <td>1</td>\n",
       "    </tr>\n",
       "    <tr>\n",
       "      <th>3</th>\n",
       "      <td>-122</td>\n",
       "      <td>1</td>\n",
       "    </tr>\n",
       "    <tr>\n",
       "      <th>4</th>\n",
       "      <td>-91</td>\n",
       "      <td>2</td>\n",
       "    </tr>\n",
       "  </tbody>\n",
       "</table>\n",
       "</div>"
      ],
      "text/plain": [
       "   duration  n_incidents\n",
       "0      -180            1\n",
       "1      -152            1\n",
       "2      -128            1\n",
       "3      -122            1\n",
       "4       -91            2"
      ]
     },
     "execution_count": 50,
     "metadata": {},
     "output_type": "execute_result"
    }
   ],
   "source": [
    "duration_group = data.groupby(['duration']).size().to_frame('n_incidents').reset_index()\n",
    "duration_group[:5]\n",
    "# sns.histplot(data=duration_data, x=\")\n",
    "# learning that there are incidents that theoretically happened after the report was even filed \n",
    "# we'll have to take care of this and potentially call it out in our overall report to the SPD"
   ]
  },
  {
   "cell_type": "code",
   "execution_count": 51,
   "id": "dc8bae00",
   "metadata": {},
   "outputs": [
    {
     "data": {
      "text/html": [
       "<div>\n",
       "<style scoped>\n",
       "    .dataframe tbody tr th:only-of-type {\n",
       "        vertical-align: middle;\n",
       "    }\n",
       "\n",
       "    .dataframe tbody tr th {\n",
       "        vertical-align: top;\n",
       "    }\n",
       "\n",
       "    .dataframe thead th {\n",
       "        text-align: right;\n",
       "    }\n",
       "</style>\n",
       "<table border=\"1\" class=\"dataframe\">\n",
       "  <thead>\n",
       "    <tr style=\"text-align: right;\">\n",
       "      <th></th>\n",
       "      <th>duration</th>\n",
       "      <th>n_incidents</th>\n",
       "    </tr>\n",
       "  </thead>\n",
       "  <tbody>\n",
       "    <tr>\n",
       "      <th>1901</th>\n",
       "      <td>24495</td>\n",
       "      <td>1</td>\n",
       "    </tr>\n",
       "    <tr>\n",
       "      <th>1902</th>\n",
       "      <td>32873</td>\n",
       "      <td>1</td>\n",
       "    </tr>\n",
       "    <tr>\n",
       "      <th>1903</th>\n",
       "      <td>36525</td>\n",
       "      <td>1</td>\n",
       "    </tr>\n",
       "    <tr>\n",
       "      <th>1904</th>\n",
       "      <td>36943</td>\n",
       "      <td>1</td>\n",
       "    </tr>\n",
       "    <tr>\n",
       "      <th>1905</th>\n",
       "      <td>37856</td>\n",
       "      <td>1</td>\n",
       "    </tr>\n",
       "  </tbody>\n",
       "</table>\n",
       "</div>"
      ],
      "text/plain": [
       "      duration  n_incidents\n",
       "1901     24495            1\n",
       "1902     32873            1\n",
       "1903     36525            1\n",
       "1904     36943            1\n",
       "1905     37856            1"
      ]
     },
     "execution_count": 51,
     "metadata": {},
     "output_type": "execute_result"
    }
   ],
   "source": [
    "duration_group.tail() # some incidents would've been filed as late as 67 years ago, meaning 1954"
   ]
  },
  {
   "cell_type": "code",
   "execution_count": 54,
   "id": "ede75899",
   "metadata": {},
   "outputs": [
    {
     "data": {
      "text/plain": [
       "0"
      ]
     },
     "execution_count": 54,
     "metadata": {},
     "output_type": "execute_result"
    }
   ],
   "source": [
    "duration_group[duration_group['duration'] > 365].shape[0] # over 1500 reports were filed more than a year later\n",
    "duration_group[duration_group['duration'] < 0].shape[0] # 24 cases were filed before they happened"
   ]
  },
  {
   "cell_type": "code",
   "execution_count": 84,
   "id": "64790af1",
   "metadata": {},
   "outputs": [
    {
     "name": "stdout",
     "output_type": "stream",
     "text": [
      "Pct of reports filed prematurely: 0.0%\n"
     ]
    }
   ],
   "source": [
    "print(\"Pct of reports filed prematurely: {}%\".format(duration_group[duration_group['duration'] < 0].shape[0] / duration_group.shape[0] * 100))"
   ]
  },
  {
   "cell_type": "code",
   "execution_count": 52,
   "id": "8210d477",
   "metadata": {},
   "outputs": [
    {
     "data": {
      "text/plain": [
       "712"
      ]
     },
     "execution_count": 52,
     "metadata": {},
     "output_type": "execute_result"
    }
   ],
   "source": [
    "duration_group = duration_group[(duration_group[\"duration\"] >= 0) & (duration_group[\"duration\"] <= 730)]\n",
    "duration_group.shape[0] # number of rows that satisfy filters/conditions "
   ]
  },
  {
   "cell_type": "code",
   "execution_count": 77,
   "id": "c39381cb",
   "metadata": {},
   "outputs": [],
   "source": [
    "def categorize_filing_duration(row): #first condition doesn't apply if <= 731 days filter applied\n",
    "    '''To be used with lambda functions; categorizes length of time between report filing and crime'''\n",
    "    if row > 731: \n",
    "        return \"More than 2 years\" \n",
    "    elif 365 <= row < 731: \n",
    "        return \"More than year\"\n",
    "    elif  365 >= row > 180 :\n",
    "        return\"More than half year\"\n",
    "    elif 180 >= row > 7:\n",
    "        return \"Less than half year\"\n",
    "    elif row <= 30: \n",
    "        return \"Within a month\"\n",
    "    elif 14 >= row >= 7:\n",
    "        return \"Within two weeks\"\n",
    "    elif 7 >= row >= 0:\n",
    "        return \"Within a week\"\n",
    "    else: \n",
    "        return \"filed prematurely\"\n"
   ]
  },
  {
   "cell_type": "code",
   "execution_count": 78,
   "id": "542bdbe3",
   "metadata": {},
   "outputs": [],
   "source": [
    "duration_group['filing_method'] = data['duration'].apply(lambda x: categorize_filing_duration(x))"
   ]
  },
  {
   "cell_type": "code",
   "execution_count": 79,
   "id": "5567005b",
   "metadata": {},
   "outputs": [
    {
     "name": "stdout",
     "output_type": "stream",
     "text": [
      "Rate at which police reports were filed (%):\n",
      "\n",
      "Within a month         86.24\n",
      "Less than half year    11.38\n",
      "More than half year     0.70\n",
      "More than year          0.28\n",
      "Name: filing_method, dtype: float64\n"
     ]
    }
   ],
   "source": [
    "filing_percentage = round(duration_group.filing_method.value_counts() / duration_group.shape[0] * 100, 2)\n",
    "print(f\"Rate at which police reports were filed (%):\\n\\n{filing_percentage}\")"
   ]
  },
  {
   "cell_type": "code",
   "execution_count": 82,
   "id": "30b3630f",
   "metadata": {},
   "outputs": [
    {
     "data": {
      "image/png": "[encoded data removed]",
      "text/plain": [
       "<Figure size 864x504 with 1 Axes>"
      ]
     },
     "metadata": {},
     "output_type": "display_data"
    }
   ],
   "source": [
    "# duration_group.filing_method.value_counts().plot(kind=\"bar\", figsize=(12, 7))\n",
    "fig, ax = plt.subplots(figsize=(12, 7))\n",
    "sns.countplot(data=duration_group, x=\"filing_method\")\n",
    "\n",
    "plt.xlabel(\"Time Between Crime and Report Filing\", fontsize=14)\n",
    "plt.ylabel(\"Number of Incidents\", fontsize=14)\n",
    "plt.xticks(fontsize=12, rotation=350)\n",
    "plt.yticks(fontsize=12)\n",
    "ax.text(-0.5, 1000, \"Most Crime Is Filed Within A Week, The Other Third...Before It Even Happened\", {\"fontweight\":\"medium\", \"fontsize\":14})\n",
    "\n",
    "for p in ax.patches: \n",
    "    x = p.get_x() + p.get_width() - 0.45\n",
    "    y = p.get_y() + p.get_height() + 5\n",
    "    value = \"{}\".format(p.get_height())\n",
    "    ax.text(x, y, value);"
   ]
  },
  {
   "cell_type": "markdown",
   "id": "5b63d3ce",
   "metadata": {},
   "source": [
    "Other Visualizations - Precinct, MCPP, and General Crime Stats "
   ]
  },
  {
   "cell_type": "code",
   "execution_count": null,
   "id": "1c856244",
   "metadata": {},
   "outputs": [],
   "source": []
  },
  {
   "cell_type": "code",
   "execution_count": 85,
   "id": "42f0134d",
   "metadata": {},
   "outputs": [
    {
     "data": {
      "text/plain": [
       "offense                                   Robbery\n",
       "offense_code                                  120\n",
       "precinct                                        N\n",
       "sector                                          U\n",
       "beat                                           U3\n",
       "mcpp                            ROOSEVELT/RAVENNA\n",
       "100_block_address    26TH AVE NE / NE BLAKELEY ST\n",
       "Name: 2, dtype: object"
      ]
     },
     "execution_count": 85,
     "metadata": {},
     "output_type": "execute_result"
    }
   ],
   "source": [
    "#What other series are we dealing with in the middle of the dataset? \n",
    "data.iloc[2, 7:14]"
   ]
  },
  {
   "cell_type": "code",
   "execution_count": 86,
   "id": "f4b3b554",
   "metadata": {},
   "outputs": [
    {
     "data": {
      "text/plain": [
       "DOWNTOWN COMMERCIAL    78858\n",
       "CAPITOL HILL           57820\n",
       "NORTHGATE              53862\n",
       "QUEEN ANNE             48024\n",
       "SLU/CASCADE            41825\n",
       "Name: mcpp, dtype: int64"
      ]
     },
     "execution_count": 86,
     "metadata": {},
     "output_type": "execute_result"
    }
   ],
   "source": [
    "data.mcpp.value_counts()[:5] # looks to be \"neighborhood\" or municipality where crime occurred \n",
    "# after additional research, MCPP stands for Micro-Community Policing Plans \n",
    "# MCPP allows SPD to tailor policing strategy by area/neighbourhood "
   ]
  },
  {
   "cell_type": "code",
   "execution_count": 87,
   "id": "5430bd8f",
   "metadata": {},
   "outputs": [
    {
     "data": {
      "text/plain": [
       "N          304809\n",
       "W          257627\n",
       "E          147249\n",
       "S          134439\n",
       "SW          93689\n",
       "UNKNOWN      1435\n",
       "OOJ             1\n",
       "<Null>          1\n",
       "Name: precinct, dtype: int64"
      ]
     },
     "execution_count": 87,
     "metadata": {},
     "output_type": "execute_result"
    }
   ],
   "source": [
    "data.precinct.value_counts() \n",
    "# there are very few where 'precinct' value is UKNOWN and fewer still as \"NULL\" or \"OOJ\" "
   ]
  },
  {
   "cell_type": "code",
   "execution_count": 89,
   "id": "9ecf1894",
   "metadata": {},
   "outputs": [
    {
     "data": {
      "text/plain": [
       "Text(0.5, 1.0, 'Most Common Criminal Offenses in Seattle')"
      ]
     },
     "execution_count": 89,
     "metadata": {},
     "output_type": "execute_result"
    },
    {
     "data": {
      "image/png": "[encoded data removed]",
      "text/plain": [
       "<Figure size 864x288 with 1 Axes>"
      ]
     },
     "metadata": {},
     "output_type": "display_data"
    }
   ],
   "source": [
    "data.offense.value_counts()[:10].plot(kind=\"bar\", figsize=(12, 4))\n",
    "plt.xticks(rotation=70)\n",
    "plt.xlabel(\"Criminal Offense\", {\"font\":\"Arial\", \"fontsize\":14, \"fontweight\":\"medium\"})\n",
    "plt.ylabel(\"Number of Offenses\", {\"font\":\"Arial\", \"fontsize\":14, \"fontweight\":\"medium\"})\n",
    "plt.title(\"Most Common Criminal Offenses in Seattle\", fontsize=14)"
   ]
  },
  {
   "cell_type": "code",
   "execution_count": 99,
   "id": "22c68422",
   "metadata": {},
   "outputs": [
    {
     "data": {
      "image/png": "[encoded data removed]",
      "text/plain": [
       "<Figure size 864x288 with 1 Axes>"
      ]
     },
     "metadata": {},
     "output_type": "display_data"
    }
   ],
   "source": [
    "data.offense_parent_group.value_counts()[:10].plot(kind=\"bar\", figsize=(12, 4)) \n",
    "plt.xticks(rotation=80)\n",
    "plt.xlabel(\"Criminal Category\", {\"font\":\"Arial\", \"fontsize\":12, \"fontweight\":\"medium\"})\n",
    "plt.ylabel(\"Number of Offenses\", {\"font\":\"Arial\", \"fontsize\":12, \"fontweight\":\"medium\"})\n",
    "plt.title(\"Most Common Criminal Categories in Seattle\", fontsize=14);"
   ]
  },
  {
   "cell_type": "code",
   "execution_count": 101,
   "id": "12502a95",
   "metadata": {},
   "outputs": [
    {
     "data": {
      "image/png": "[encoded data removed]",
      "text/plain": [
       "<Figure size 864x288 with 1 Axes>"
      ]
     },
     "metadata": {},
     "output_type": "display_data"
    }
   ],
   "source": [
    "data.crime_against_category.value_counts().plot(kind=\"bar\", figsize=(12, 4))\n",
    "plt.xticks(rotation=0)\n",
    "plt.xlabel(\"Crime Against Category\", fontsize=13)\n",
    "plt.ylabel(\"Number of Incidents\", fontsize=13)\n",
    "plt.title(\"Property Crimes Far Outweigh Those of Person and Society Combined\", fontsize=14) ;"
   ]
  },
  {
   "cell_type": "code",
   "execution_count": 102,
   "id": "7bd7d139",
   "metadata": {},
   "outputs": [
    {
     "data": {
      "text/plain": [
       "N          304809\n",
       "W          257627\n",
       "E          147249\n",
       "S          134439\n",
       "SW          93689\n",
       "UNKNOWN      1435\n",
       "OOJ             1\n",
       "<Null>          1\n",
       "Name: precinct, dtype: int64"
      ]
     },
     "execution_count": 102,
     "metadata": {},
     "output_type": "execute_result"
    }
   ],
   "source": [
    "data.precinct.value_counts()"
   ]
  },
  {
   "cell_type": "code",
   "execution_count": 106,
   "id": "2e3fff3b",
   "metadata": {},
   "outputs": [],
   "source": [
    "data['precinct'] = data['precinct'].apply(lambda x: \"UNKNOWN\" if \"ull\" in x else x)\n",
    "data['precinct'] = data['precinct'].apply(lambda x: \"UNKNOWN\" if \"OOJ\" in x else x)"
   ]
  },
  {
   "cell_type": "code",
   "execution_count": 107,
   "id": "d9a241eb",
   "metadata": {},
   "outputs": [
    {
     "data": {
      "text/plain": [
       "N          304809\n",
       "W          257627\n",
       "E          147249\n",
       "S          134439\n",
       "SW          93689\n",
       "UNKNOWN      1437\n",
       "Name: precinct, dtype: int64"
      ]
     },
     "execution_count": 107,
     "metadata": {},
     "output_type": "execute_result"
    }
   ],
   "source": [
    "data['precinct'].value_counts()"
   ]
  },
  {
   "cell_type": "code",
   "execution_count": 110,
   "id": "152ae0e7",
   "metadata": {},
   "outputs": [],
   "source": [
    "data = data[~data[\"precinct\"].str.contains(\"unknown\", case=False)] # removing unkown precinct reports "
   ]
  },
  {
   "cell_type": "code",
   "execution_count": 111,
   "id": "961d6727",
   "metadata": {},
   "outputs": [
    {
     "data": {
      "text/plain": [
       "N     304809\n",
       "W     257627\n",
       "E     147249\n",
       "S     134439\n",
       "SW     93689\n",
       "Name: precinct, dtype: int64"
      ]
     },
     "execution_count": 111,
     "metadata": {},
     "output_type": "execute_result"
    }
   ],
   "source": [
    "data['precinct'].value_counts()"
   ]
  },
  {
   "cell_type": "code",
   "execution_count": 112,
   "id": "022f1632",
   "metadata": {},
   "outputs": [],
   "source": [
    "#precinct  = geographically controlled/patroled area by police (can help with locations and cime trends)\n",
    "mcpp_mapping = data.groupby([\"mcpp\", \"offense_parent_group\"])['offense'].count().reset_index()\n",
    "mcpp_mapping = mcpp_mapping.sort_values(\"offense\", ascending=False)[:30]"
   ]
  },
  {
   "cell_type": "code",
   "execution_count": 116,
   "id": "1a72677e",
   "metadata": {},
   "outputs": [
    {
     "data": {
      "image/png": "[encoded data removed]",
      "text/plain": [
       "<Figure size 864x504 with 1 Axes>"
      ]
     },
     "metadata": {},
     "output_type": "display_data"
    }
   ],
   "source": [
    "sns.set_style(\"dark\")\n",
    "fig, ax = plt.subplots(figsize=(12, 7)) \n",
    "\n",
    "sns.barplot(data=mcpp_mapping, x=\"mcpp\", y=\"offense\", hue=\"offense_parent_group\")\n",
    "\n",
    "plt.ylabel(\"Number of Incidents\", fontsize=12)\n",
    "plt.xlabel(\"Neighbourhood/Municipality\", fontsize=12)\n",
    "plt.xticks(rotation=90)\n",
    "plt.legend(loc=\"upper right\", fancybox=True, edgecolor=\"gray\");"
   ]
  },
  {
   "cell_type": "markdown",
   "id": "f4ed1003",
   "metadata": {},
   "source": [
    "    "
   ]
  },
  {
   "cell_type": "markdown",
   "id": "4e20bac5",
   "metadata": {},
   "source": [
    "#### Mapping criminal incidents with Folium "
   ]
  },
  {
   "cell_type": "code",
   "execution_count": null,
   "id": "8cd0e49b",
   "metadata": {},
   "outputs": [],
   "source": [
    "!pip install folium\n",
    "import folium"
   ]
  },
  {
   "cell_type": "code",
   "execution_count": 118,
   "id": "7045302f",
   "metadata": {},
   "outputs": [],
   "source": [
    "folium_data = data[['offense_parent_group', 'latitude', 'longitude', 'offense_year']]"
   ]
  },
  {
   "cell_type": "code",
   "execution_count": 126,
   "id": "f7a1a75e",
   "metadata": {},
   "outputs": [],
   "source": [
    "seattle_map = folium.Map(location=[folium_data.latitude.mean(), \n",
    "                           folium_data.longitude.mean()], \n",
    "                 zoom_start=14, min_zoom=2, control_scale=True)"
   ]
  },
  {
   "cell_type": "code",
   "execution_count": 127,
   "id": "305df13c",
   "metadata": {
    "scrolled": true
   },
   "outputs": [
    {
     "data": {
      "text/html": [
       "<div style=\"width:100%;\"><div style=\"position:relative;width:100%;height:0;padding-bottom:60%;\"><span style=\"color:#565656\">Make this Notebook Trusted to load map: File -> Trust Notebook</span><iframe srcdoc=\"&lt;!DOCTYPE html&gt;\n",
       "&lt;head&gt;    \n",
       "    &lt;meta http-equiv=&quot;content-type&quot; content=&quot;text/html; charset=UTF-8&quot; /&gt;\n",
       "    \n",
       "        &lt;script&gt;\n",
       "            L_NO_TOUCH = false;\n",
       "            L_DISABLE_3D = false;\n",
       "        &lt;/script&gt;\n",
       "    \n",
       "    &lt;style&gt;html, body {width: 100%;height: 100%;margin: 0;padding: 0;}&lt;/style&gt;\n",
       "    &lt;style&gt;#map {position:absolute;top:0;bottom:0;right:0;left:0;}&lt;/style&gt;\n",
       "    &lt;script src=&quot;https://cdn.jsdelivr.net/npm/leaflet@1.6.0/dist/leaflet.js&quot;&gt;&lt;/script&gt;\n",
       "    &lt;script src=&quot;https://code.jquery.com/jquery-1.12.4.min.js&quot;&gt;&lt;/script&gt;\n",
       "    &lt;script src=&quot;https://maxcdn.bootstrapcdn.com/bootstrap/3.2.0/js/bootstrap.min.js&quot;&gt;&lt;/script&gt;\n",
       "    &lt;script src=&quot;https://cdnjs.cloudflare.com/ajax/libs/Leaflet.awesome-markers/2.0.2/leaflet.awesome-markers.js&quot;&gt;&lt;/script&gt;\n",
       "    &lt;link rel=&quot;stylesheet&quot; href=&quot;https://cdn.jsdelivr.net/npm/leaflet@1.6.0/dist/leaflet.css&quot;/&gt;\n",
       "    &lt;link rel=&quot;stylesheet&quot; href=&quot;https://maxcdn.bootstrapcdn.com/bootstrap/3.2.0/css/bootstrap.min.css&quot;/&gt;\n",
       "    &lt;link rel=&quot;stylesheet&quot; href=&quot;https://maxcdn.bootstrapcdn.com/bootstrap/3.2.0/css/bootstrap-theme.min.css&quot;/&gt;\n",
       "    &lt;link rel=&quot;stylesheet&quot; href=&quot;https://maxcdn.bootstrapcdn.com/font-awesome/4.6.3/css/font-awesome.min.css&quot;/&gt;\n",
       "    &lt;link rel=&quot;stylesheet&quot; href=&quot;https://cdnjs.cloudflare.com/ajax/libs/Leaflet.awesome-markers/2.0.2/leaflet.awesome-markers.css&quot;/&gt;\n",
       "    &lt;link rel=&quot;stylesheet&quot; href=&quot;https://cdn.jsdelivr.net/gh/python-visualization/folium/folium/templates/leaflet.awesome.rotate.min.css&quot;/&gt;\n",
       "    \n",
       "            &lt;meta name=&quot;viewport&quot; content=&quot;width=device-width,\n",
       "                initial-scale=1.0, maximum-scale=1.0, user-scalable=no&quot; /&gt;\n",
       "            &lt;style&gt;\n",
       "                #map_7883fceb877f31a781f164261d576003 {\n",
       "                    position: relative;\n",
       "                    width: 100.0%;\n",
       "                    height: 100.0%;\n",
       "                    left: 0.0%;\n",
       "                    top: 0.0%;\n",
       "                }\n",
       "            &lt;/style&gt;\n",
       "        \n",
       "&lt;/head&gt;\n",
       "&lt;body&gt;    \n",
       "    \n",
       "            &lt;div class=&quot;folium-map&quot; id=&quot;map_7883fceb877f31a781f164261d576003&quot; &gt;&lt;/div&gt;\n",
       "        \n",
       "&lt;/body&gt;\n",
       "&lt;script&gt;    \n",
       "    \n",
       "            var map_7883fceb877f31a781f164261d576003 = L.map(\n",
       "                &quot;map_7883fceb877f31a781f164261d576003&quot;,\n",
       "                {\n",
       "                    center: [47.622058341934235, -122.32851044035593],\n",
       "                    crs: L.CRS.EPSG3857,\n",
       "                    zoom: 14,\n",
       "                    zoomControl: true,\n",
       "                    preferCanvas: false,\n",
       "                }\n",
       "            );\n",
       "            L.control.scale().addTo(map_7883fceb877f31a781f164261d576003);\n",
       "\n",
       "            \n",
       "\n",
       "        \n",
       "    \n",
       "            var tile_layer_adbd7dd7c57939ded7ef6136eec7ba1a = L.tileLayer(\n",
       "                &quot;https://{s}.tile.openstreetmap.org/{z}/{x}/{y}.png&quot;,\n",
       "                {&quot;attribution&quot;: &quot;Data by \\u0026copy; \\u003ca href=\\&quot;http://openstreetmap.org\\&quot;\\u003eOpenStreetMap\\u003c/a\\u003e, under \\u003ca href=\\&quot;http://www.openstreetmap.org/copyright\\&quot;\\u003eODbL\\u003c/a\\u003e.&quot;, &quot;detectRetina&quot;: false, &quot;maxNativeZoom&quot;: 18, &quot;maxZoom&quot;: 18, &quot;minZoom&quot;: 2, &quot;noWrap&quot;: false, &quot;opacity&quot;: 1, &quot;subdomains&quot;: &quot;abc&quot;, &quot;tms&quot;: false}\n",
       "            ).addTo(map_7883fceb877f31a781f164261d576003);\n",
       "        \n",
       "&lt;/script&gt;\" style=\"position:absolute;width:100%;height:100%;left:0;top:0;border:none !important;\" allowfullscreen webkitallowfullscreen mozallowfullscreen></iframe></div></div>"
      ],
      "text/plain": [
       "<folium.folium.Map at 0x15ec10f9f40>"
      ]
     },
     "execution_count": 127,
     "metadata": {},
     "output_type": "execute_result"
    }
   ],
   "source": [
    "seattle_map"
   ]
  },
  {
   "cell_type": "code",
   "execution_count": 121,
   "id": "7e8ac678",
   "metadata": {},
   "outputs": [
    {
     "data": {
      "text/plain": [
       "937813"
      ]
     },
     "execution_count": 121,
     "metadata": {},
     "output_type": "execute_result"
    }
   ],
   "source": [
    "folium_data.shape[0]"
   ]
  },
  {
   "cell_type": "code",
   "execution_count": 130,
   "id": "1338af94",
   "metadata": {},
   "outputs": [
    {
     "data": {
      "text/html": [
       "<div>\n",
       "<style scoped>\n",
       "    .dataframe tbody tr th:only-of-type {\n",
       "        vertical-align: middle;\n",
       "    }\n",
       "\n",
       "    .dataframe tbody tr th {\n",
       "        vertical-align: top;\n",
       "    }\n",
       "\n",
       "    .dataframe thead th {\n",
       "        text-align: right;\n",
       "    }\n",
       "</style>\n",
       "<table border=\"1\" class=\"dataframe\">\n",
       "  <thead>\n",
       "    <tr style=\"text-align: right;\">\n",
       "      <th></th>\n",
       "      <th>report_number</th>\n",
       "      <th>offense_id</th>\n",
       "      <th>offense_start_datetime</th>\n",
       "      <th>report_datetime</th>\n",
       "      <th>group_a_b</th>\n",
       "      <th>crime_against_category</th>\n",
       "      <th>offense_parent_group</th>\n",
       "      <th>offense</th>\n",
       "      <th>offense_code</th>\n",
       "      <th>precinct</th>\n",
       "      <th>...</th>\n",
       "      <th>offense_dow</th>\n",
       "      <th>offense_day_no</th>\n",
       "      <th>offense_year</th>\n",
       "      <th>offense_ampm</th>\n",
       "      <th>offense_24hr</th>\n",
       "      <th>street_address</th>\n",
       "      <th>DAY_OF_WEEK</th>\n",
       "      <th>MONTH_OF_YEAR</th>\n",
       "      <th>report_date</th>\n",
       "      <th>duration</th>\n",
       "    </tr>\n",
       "  </thead>\n",
       "  <tbody>\n",
       "    <tr>\n",
       "      <th>0</th>\n",
       "      <td>2020-044620</td>\n",
       "      <td>12605873663</td>\n",
       "      <td>02/05/2020 10:10:00 AM</td>\n",
       "      <td>02/05/2020 11:24:31 AM</td>\n",
       "      <td>A</td>\n",
       "      <td>SOCIETY</td>\n",
       "      <td>DRUG/NARCOTIC OFFENSES</td>\n",
       "      <td>Drug/Narcotic Violations</td>\n",
       "      <td>35A</td>\n",
       "      <td>W</td>\n",
       "      <td>...</td>\n",
       "      <td>Wednesday</td>\n",
       "      <td>2</td>\n",
       "      <td>2020</td>\n",
       "      <td>10:10:00 AM</td>\n",
       "      <td>10</td>\n",
       "      <td>3200  23RD AVE W</td>\n",
       "      <td>Wednesday</td>\n",
       "      <td>February</td>\n",
       "      <td>2020-02-05</td>\n",
       "      <td>0</td>\n",
       "    </tr>\n",
       "    <tr>\n",
       "      <th>1</th>\n",
       "      <td>2020-044452</td>\n",
       "      <td>12605598696</td>\n",
       "      <td>02/03/2020 08:00:00 AM</td>\n",
       "      <td>02/05/2020 10:06:28 AM</td>\n",
       "      <td>A</td>\n",
       "      <td>PROPERTY</td>\n",
       "      <td>LARCENY-THEFT</td>\n",
       "      <td>Theft of Motor Vehicle Parts or Accessories</td>\n",
       "      <td>23G</td>\n",
       "      <td>N</td>\n",
       "      <td>...</td>\n",
       "      <td>Monday</td>\n",
       "      <td>0</td>\n",
       "      <td>2020</td>\n",
       "      <td>08:00:00 AM</td>\n",
       "      <td>8</td>\n",
       "      <td>6300  5TH AVE NE</td>\n",
       "      <td>Monday</td>\n",
       "      <td>February</td>\n",
       "      <td>2020-02-05</td>\n",
       "      <td>2</td>\n",
       "    </tr>\n",
       "  </tbody>\n",
       "</table>\n",
       "<p>2 rows × 29 columns</p>\n",
       "</div>"
      ],
      "text/plain": [
       "  report_number   offense_id  offense_start_datetime         report_datetime  \\\n",
       "0   2020-044620  12605873663  02/05/2020 10:10:00 AM  02/05/2020 11:24:31 AM   \n",
       "1   2020-044452  12605598696  02/03/2020 08:00:00 AM  02/05/2020 10:06:28 AM   \n",
       "\n",
       "  group_a_b crime_against_category    offense_parent_group  \\\n",
       "0         A                SOCIETY  DRUG/NARCOTIC OFFENSES   \n",
       "1         A               PROPERTY           LARCENY-THEFT   \n",
       "\n",
       "                                       offense offense_code precinct  ...  \\\n",
       "0                     Drug/Narcotic Violations          35A        W  ...   \n",
       "1  Theft of Motor Vehicle Parts or Accessories          23G        N  ...   \n",
       "\n",
       "  offense_dow offense_day_no offense_year offense_ampm  offense_24hr  \\\n",
       "0   Wednesday              2         2020  10:10:00 AM            10   \n",
       "1      Monday              0         2020  08:00:00 AM             8   \n",
       "\n",
       "     street_address DAY_OF_WEEK MONTH_OF_YEAR report_date duration  \n",
       "0  3200  23RD AVE W   Wednesday      February  2020-02-05        0  \n",
       "1  6300  5TH AVE NE      Monday      February  2020-02-05        2  \n",
       "\n",
       "[2 rows x 29 columns]"
      ]
     },
     "execution_count": 130,
     "metadata": {},
     "output_type": "execute_result"
    }
   ],
   "source": [
    "data.head(2)"
   ]
  },
  {
   "cell_type": "code",
   "execution_count": 153,
   "id": "35106403",
   "metadata": {},
   "outputs": [
    {
     "data": {
      "text/plain": [
       "25"
      ]
     },
     "execution_count": 153,
     "metadata": {},
     "output_type": "execute_result"
    }
   ],
   "source": [
    "top_locations = data.groupby(['street_address']).size().to_frame(\"n_incidents\").reset_index()\n",
    "top_locations = top_locations.sort_values(\"n_incidents\", ascending=False)[:25] #pulling top 25 addresses of incidents\n",
    "top_locations.shape[0]"
   ]
  },
  {
   "cell_type": "code",
   "execution_count": 207,
   "id": "5acf9a85",
   "metadata": {},
   "outputs": [],
   "source": [
    "location_markers = data[['street_address', 'latitude', 'longitude']]\n",
    "top_coordinates = pd.merge(top_locations, location_markers, on=\"street_address\", how=\"inner\")\n",
    "top_coordinates['street_address'] = top_coordinates['street_address'].apply(lambda x: x.strip().replace(\"  \", \" \"))\n",
    "top_coordinates.drop_duplicates(subset=\"street_address\", inplace=True)"
   ]
  },
  {
   "cell_type": "code",
   "execution_count": 208,
   "id": "21d091db",
   "metadata": {},
   "outputs": [
    {
     "data": {
      "text/html": [
       "<div>\n",
       "<style scoped>\n",
       "    .dataframe tbody tr th:only-of-type {\n",
       "        vertical-align: middle;\n",
       "    }\n",
       "\n",
       "    .dataframe tbody tr th {\n",
       "        vertical-align: top;\n",
       "    }\n",
       "\n",
       "    .dataframe thead th {\n",
       "        text-align: right;\n",
       "    }\n",
       "</style>\n",
       "<table border=\"1\" class=\"dataframe\">\n",
       "  <thead>\n",
       "    <tr style=\"text-align: right;\">\n",
       "      <th></th>\n",
       "      <th>street_address</th>\n",
       "      <th>n_incidents</th>\n",
       "      <th>latitude</th>\n",
       "      <th>longitude</th>\n",
       "    </tr>\n",
       "  </thead>\n",
       "  <tbody>\n",
       "    <tr>\n",
       "      <th>0</th>\n",
       "      <td>400 NE NORTHGATE WAY</td>\n",
       "      <td>6080</td>\n",
       "      <td>47.708603</td>\n",
       "      <td>-122.324615</td>\n",
       "    </tr>\n",
       "  </tbody>\n",
       "</table>\n",
       "</div>"
      ],
      "text/plain": [
       "         street_address  n_incidents   latitude   longitude\n",
       "0  400 NE NORTHGATE WAY         6080  47.708603 -122.324615"
      ]
     },
     "execution_count": 208,
     "metadata": {},
     "output_type": "execute_result"
    }
   ],
   "source": [
    "# top_coordinates[top_coordinates['n_incidents']==6080]\n",
    "top_coordinates[top_coordinates['street_address'].str.contains(\"400 NE NORTHGATE WAY\")]"
   ]
  },
  {
   "cell_type": "code",
   "execution_count": 289,
   "id": "46099aa8",
   "metadata": {},
   "outputs": [],
   "source": [
    "seattle_map = folium.Map(location=[folium_data.latitude.mean(), \n",
    "                           folium_data.longitude.mean()], \n",
    "                 zoom_start=14, min_zoom=2, control_scale=True)"
   ]
  },
  {
   "cell_type": "code",
   "execution_count": 290,
   "id": "99a042c8",
   "metadata": {},
   "outputs": [
    {
     "data": {
      "text/html": [
       "<div style=\"width:100%;\"><div style=\"position:relative;width:100%;height:0;padding-bottom:60%;\"><span style=\"color:#565656\">Make this Notebook Trusted to load map: File -> Trust Notebook</span><iframe srcdoc=\"&lt;!DOCTYPE html&gt;\n",
       "&lt;head&gt;    \n",
       "    &lt;meta http-equiv=&quot;content-type&quot; content=&quot;text/html; charset=UTF-8&quot; /&gt;\n",
       "    \n",
       "        &lt;script&gt;\n",
       "            L_NO_TOUCH = false;\n",
       "            L_DISABLE_3D = false;\n",
       "        &lt;/script&gt;\n",
       "    \n",
       "    &lt;style&gt;html, body {width: 100%;height: 100%;margin: 0;padding: 0;}&lt;/style&gt;\n",
       "    &lt;style&gt;#map {position:absolute;top:0;bottom:0;right:0;left:0;}&lt;/style&gt;\n",
       "    &lt;script src=&quot;https://cdn.jsdelivr.net/npm/leaflet@1.6.0/dist/leaflet.js&quot;&gt;&lt;/script&gt;\n",
       "    &lt;script src=&quot;https://code.jquery.com/jquery-1.12.4.min.js&quot;&gt;&lt;/script&gt;\n",
       "    &lt;script src=&quot;https://maxcdn.bootstrapcdn.com/bootstrap/3.2.0/js/bootstrap.min.js&quot;&gt;&lt;/script&gt;\n",
       "    &lt;script src=&quot;https://cdnjs.cloudflare.com/ajax/libs/Leaflet.awesome-markers/2.0.2/leaflet.awesome-markers.js&quot;&gt;&lt;/script&gt;\n",
       "    &lt;link rel=&quot;stylesheet&quot; href=&quot;https://cdn.jsdelivr.net/npm/leaflet@1.6.0/dist/leaflet.css&quot;/&gt;\n",
       "    &lt;link rel=&quot;stylesheet&quot; href=&quot;https://maxcdn.bootstrapcdn.com/bootstrap/3.2.0/css/bootstrap.min.css&quot;/&gt;\n",
       "    &lt;link rel=&quot;stylesheet&quot; href=&quot;https://maxcdn.bootstrapcdn.com/bootstrap/3.2.0/css/bootstrap-theme.min.css&quot;/&gt;\n",
       "    &lt;link rel=&quot;stylesheet&quot; href=&quot;https://maxcdn.bootstrapcdn.com/font-awesome/4.6.3/css/font-awesome.min.css&quot;/&gt;\n",
       "    &lt;link rel=&quot;stylesheet&quot; href=&quot;https://cdnjs.cloudflare.com/ajax/libs/Leaflet.awesome-markers/2.0.2/leaflet.awesome-markers.css&quot;/&gt;\n",
       "    &lt;link rel=&quot;stylesheet&quot; href=&quot;https://cdn.jsdelivr.net/gh/python-visualization/folium/folium/templates/leaflet.awesome.rotate.min.css&quot;/&gt;\n",
       "    \n",
       "            &lt;meta name=&quot;viewport&quot; content=&quot;width=device-width,\n",
       "                initial-scale=1.0, maximum-scale=1.0, user-scalable=no&quot; /&gt;\n",
       "            &lt;style&gt;\n",
       "                #map_b719a7ba81a1d639c1e9b280b6ad95d7 {\n",
       "                    position: relative;\n",
       "                    width: 100.0%;\n",
       "                    height: 100.0%;\n",
       "                    left: 0.0%;\n",
       "                    top: 0.0%;\n",
       "                }\n",
       "            &lt;/style&gt;\n",
       "        \n",
       "&lt;/head&gt;\n",
       "&lt;body&gt;    \n",
       "    \n",
       "            &lt;div class=&quot;folium-map&quot; id=&quot;map_b719a7ba81a1d639c1e9b280b6ad95d7&quot; &gt;&lt;/div&gt;\n",
       "        \n",
       "&lt;/body&gt;\n",
       "&lt;script&gt;    \n",
       "    \n",
       "            var map_b719a7ba81a1d639c1e9b280b6ad95d7 = L.map(\n",
       "                &quot;map_b719a7ba81a1d639c1e9b280b6ad95d7&quot;,\n",
       "                {\n",
       "                    center: [47.622058341934235, -122.32851044035593],\n",
       "                    crs: L.CRS.EPSG3857,\n",
       "                    zoom: 14,\n",
       "                    zoomControl: true,\n",
       "                    preferCanvas: false,\n",
       "                }\n",
       "            );\n",
       "            L.control.scale().addTo(map_b719a7ba81a1d639c1e9b280b6ad95d7);\n",
       "\n",
       "            \n",
       "\n",
       "        \n",
       "    \n",
       "            var tile_layer_dfadb8cbcbf09863145775cf79be9d11 = L.tileLayer(\n",
       "                &quot;https://{s}.tile.openstreetmap.org/{z}/{x}/{y}.png&quot;,\n",
       "                {&quot;attribution&quot;: &quot;Data by \\u0026copy; \\u003ca href=\\&quot;http://openstreetmap.org\\&quot;\\u003eOpenStreetMap\\u003c/a\\u003e, under \\u003ca href=\\&quot;http://www.openstreetmap.org/copyright\\&quot;\\u003eODbL\\u003c/a\\u003e.&quot;, &quot;detectRetina&quot;: false, &quot;maxNativeZoom&quot;: 18, &quot;maxZoom&quot;: 18, &quot;minZoom&quot;: 2, &quot;noWrap&quot;: false, &quot;opacity&quot;: 1, &quot;subdomains&quot;: &quot;abc&quot;, &quot;tms&quot;: false}\n",
       "            ).addTo(map_b719a7ba81a1d639c1e9b280b6ad95d7);\n",
       "        \n",
       "&lt;/script&gt;\" style=\"position:absolute;width:100%;height:100%;left:0;top:0;border:none !important;\" allowfullscreen webkitallowfullscreen mozallowfullscreen></iframe></div></div>"
      ],
      "text/plain": [
       "<folium.folium.Map at 0x15f034d0eb0>"
      ]
     },
     "execution_count": 290,
     "metadata": {},
     "output_type": "execute_result"
    }
   ],
   "source": [
    "seattle_map"
   ]
  },
  {
   "cell_type": "code",
   "execution_count": 291,
   "id": "51478fcb",
   "metadata": {},
   "outputs": [],
   "source": [
    "for idx, location_info in top_coordinates.iterrows(): \n",
    "    folium.Marker([location_info[\"latitude\"], \n",
    "                  location_info[\"longitude\"]], tooltip=str(location_info['n_incidents']) +\" Arrests\", popup=location_info[\"street_address\"] +\":\\n\\n\" + str(location_info['n_incidents']) +\" Arrests\").add_to(seattle_map)"
   ]
  },
  {
   "cell_type": "code",
   "execution_count": 262,
   "id": "a1b57c6a",
   "metadata": {},
   "outputs": [],
   "source": [
    "# could also refactor above loop into a function if we needed to continue using it but will leave as is\n",
    "\n",
    "# def plotDot(point):\n",
    "#     '''input: series that contains a numeric named latitude and a numeric named longitude\n",
    "#     this function creates a CircleMarker and adds it to your this_map'''\n",
    "#     folium.Marker(location=[point.latitude, point.longitude],\n",
    "#                         radius=2,\n",
    "#                         weight=5).add_to(seattle_map)\n"
   ]
  },
  {
   "cell_type": "code",
   "execution_count": 292,
   "id": "cc94c66d",
   "metadata": {},
   "outputs": [
    {
     "data": {
      "text/html": [
       "<div style=\"width:100%;\"><div style=\"position:relative;width:100%;height:0;padding-bottom:60%;\"><span style=\"color:#565656\">Make this Notebook Trusted to load map: File -> Trust Notebook</span><iframe srcdoc=\"&lt;!DOCTYPE html&gt;\n",
       "&lt;head&gt;    \n",
       "    &lt;meta http-equiv=&quot;content-type&quot; content=&quot;text/html; charset=UTF-8&quot; /&gt;\n",
       "    \n",
       "        &lt;script&gt;\n",
       "            L_NO_TOUCH = false;\n",
       "            L_DISABLE_3D = false;\n",
       "        &lt;/script&gt;\n",
       "    \n",
       "    &lt;style&gt;html, body {width: 100%;height: 100%;margin: 0;padding: 0;}&lt;/style&gt;\n",
       "    &lt;style&gt;#map {position:absolute;top:0;bottom:0;right:0;left:0;}&lt;/style&gt;\n",
       "    &lt;script src=&quot;https://cdn.jsdelivr.net/npm/leaflet@1.6.0/dist/leaflet.js&quot;&gt;&lt;/script&gt;\n",
       "    &lt;script src=&quot;https://code.jquery.com/jquery-1.12.4.min.js&quot;&gt;&lt;/script&gt;\n",
       "    &lt;script src=&quot;https://maxcdn.bootstrapcdn.com/bootstrap/3.2.0/js/bootstrap.min.js&quot;&gt;&lt;/script&gt;\n",
       "    &lt;script src=&quot;https://cdnjs.cloudflare.com/ajax/libs/Leaflet.awesome-markers/2.0.2/leaflet.awesome-markers.js&quot;&gt;&lt;/script&gt;\n",
       "    &lt;link rel=&quot;stylesheet&quot; href=&quot;https://cdn.jsdelivr.net/npm/leaflet@1.6.0/dist/leaflet.css&quot;/&gt;\n",
       "    &lt;link rel=&quot;stylesheet&quot; href=&quot;https://maxcdn.bootstrapcdn.com/bootstrap/3.2.0/css/bootstrap.min.css&quot;/&gt;\n",
       "    &lt;link rel=&quot;stylesheet&quot; href=&quot;https://maxcdn.bootstrapcdn.com/bootstrap/3.2.0/css/bootstrap-theme.min.css&quot;/&gt;\n",
       "    &lt;link rel=&quot;stylesheet&quot; href=&quot;https://maxcdn.bootstrapcdn.com/font-awesome/4.6.3/css/font-awesome.min.css&quot;/&gt;\n",
       "    &lt;link rel=&quot;stylesheet&quot; href=&quot;https://cdnjs.cloudflare.com/ajax/libs/Leaflet.awesome-markers/2.0.2/leaflet.awesome-markers.css&quot;/&gt;\n",
       "    &lt;link rel=&quot;stylesheet&quot; href=&quot;https://cdn.jsdelivr.net/gh/python-visualization/folium/folium/templates/leaflet.awesome.rotate.min.css&quot;/&gt;\n",
       "    \n",
       "            &lt;meta name=&quot;viewport&quot; content=&quot;width=device-width,\n",
       "                initial-scale=1.0, maximum-scale=1.0, user-scalable=no&quot; /&gt;\n",
       "            &lt;style&gt;\n",
       "                #map_b719a7ba81a1d639c1e9b280b6ad95d7 {\n",
       "                    position: relative;\n",
       "                    width: 100.0%;\n",
       "                    height: 100.0%;\n",
       "                    left: 0.0%;\n",
       "                    top: 0.0%;\n",
       "                }\n",
       "            &lt;/style&gt;\n",
       "        \n",
       "&lt;/head&gt;\n",
       "&lt;body&gt;    \n",
       "    \n",
       "            &lt;div class=&quot;folium-map&quot; id=&quot;map_b719a7ba81a1d639c1e9b280b6ad95d7&quot; &gt;&lt;/div&gt;\n",
       "        \n",
       "&lt;/body&gt;\n",
       "&lt;script&gt;    \n",
       "    \n",
       "            var map_b719a7ba81a1d639c1e9b280b6ad95d7 = L.map(\n",
       "                &quot;map_b719a7ba81a1d639c1e9b280b6ad95d7&quot;,\n",
       "                {\n",
       "                    center: [47.622058341934235, -122.32851044035593],\n",
       "                    crs: L.CRS.EPSG3857,\n",
       "                    zoom: 14,\n",
       "                    zoomControl: true,\n",
       "                    preferCanvas: false,\n",
       "                }\n",
       "            );\n",
       "            L.control.scale().addTo(map_b719a7ba81a1d639c1e9b280b6ad95d7);\n",
       "\n",
       "            \n",
       "\n",
       "        \n",
       "    \n",
       "            var tile_layer_dfadb8cbcbf09863145775cf79be9d11 = L.tileLayer(\n",
       "                &quot;https://{s}.tile.openstreetmap.org/{z}/{x}/{y}.png&quot;,\n",
       "                {&quot;attribution&quot;: &quot;Data by \\u0026copy; \\u003ca href=\\&quot;http://openstreetmap.org\\&quot;\\u003eOpenStreetMap\\u003c/a\\u003e, under \\u003ca href=\\&quot;http://www.openstreetmap.org/copyright\\&quot;\\u003eODbL\\u003c/a\\u003e.&quot;, &quot;detectRetina&quot;: false, &quot;maxNativeZoom&quot;: 18, &quot;maxZoom&quot;: 18, &quot;minZoom&quot;: 2, &quot;noWrap&quot;: false, &quot;opacity&quot;: 1, &quot;subdomains&quot;: &quot;abc&quot;, &quot;tms&quot;: false}\n",
       "            ).addTo(map_b719a7ba81a1d639c1e9b280b6ad95d7);\n",
       "        \n",
       "    \n",
       "            var marker_a08215f08d2d0c169423bd2c25e77245 = L.marker(\n",
       "                [47.7086028, -122.324615158],\n",
       "                {}\n",
       "            ).addTo(map_b719a7ba81a1d639c1e9b280b6ad95d7);\n",
       "        \n",
       "    \n",
       "        var popup_5387288d0e1c717bbbde35d738c66ff0 = L.popup({&quot;maxWidth&quot;: &quot;100%&quot;});\n",
       "\n",
       "        \n",
       "            var html_c8cc2d13f1f22925f5adca0651d9a136 = $(`&lt;div id=&quot;html_c8cc2d13f1f22925f5adca0651d9a136&quot; style=&quot;width: 100.0%; height: 100.0%;&quot;&gt;400 NE NORTHGATE WAY:  6080 Arrests&lt;/div&gt;`)[0];\n",
       "            popup_5387288d0e1c717bbbde35d738c66ff0.setContent(html_c8cc2d13f1f22925f5adca0651d9a136);\n",
       "        \n",
       "\n",
       "        marker_a08215f08d2d0c169423bd2c25e77245.bindPopup(popup_5387288d0e1c717bbbde35d738c66ff0)\n",
       "        ;\n",
       "\n",
       "        \n",
       "    \n",
       "    \n",
       "            marker_a08215f08d2d0c169423bd2c25e77245.bindTooltip(\n",
       "                `&lt;div&gt;\n",
       "                     6080 Arrests\n",
       "                 &lt;/div&gt;`,\n",
       "                {&quot;sticky&quot;: true}\n",
       "            );\n",
       "        \n",
       "    \n",
       "            var marker_12ba34612401e4d23f1eda582d5c1e0a = L.marker(\n",
       "                [47.59665466, -122.313436503],\n",
       "                {}\n",
       "            ).addTo(map_b719a7ba81a1d639c1e9b280b6ad95d7);\n",
       "        \n",
       "    \n",
       "        var popup_ef93302f0a11ff57859d47792f2777af = L.popup({&quot;maxWidth&quot;: &quot;100%&quot;});\n",
       "\n",
       "        \n",
       "            var html_7dc279753e157259ce336bdb214371df = $(`&lt;div id=&quot;html_7dc279753e157259ce336bdb214371df&quot; style=&quot;width: 100.0%; height: 100.0%;&quot;&gt;1400 S LANE ST:  4400 Arrests&lt;/div&gt;`)[0];\n",
       "            popup_ef93302f0a11ff57859d47792f2777af.setContent(html_7dc279753e157259ce336bdb214371df);\n",
       "        \n",
       "\n",
       "        marker_12ba34612401e4d23f1eda582d5c1e0a.bindPopup(popup_ef93302f0a11ff57859d47792f2777af)\n",
       "        ;\n",
       "\n",
       "        \n",
       "    \n",
       "    \n",
       "            marker_12ba34612401e4d23f1eda582d5c1e0a.bindTooltip(\n",
       "                `&lt;div&gt;\n",
       "                     4400 Arrests\n",
       "                 &lt;/div&gt;`,\n",
       "                {&quot;sticky&quot;: true}\n",
       "            );\n",
       "        \n",
       "    \n",
       "            var marker_f9605ffb263090a847b463cb08fe6019 = L.marker(\n",
       "                [47.60241242, -122.331082199],\n",
       "                {}\n",
       "            ).addTo(map_b719a7ba81a1d639c1e9b280b6ad95d7);\n",
       "        \n",
       "    \n",
       "        var popup_3b26912990a44ab56c577d4b9d9b1edf = L.popup({&quot;maxWidth&quot;: &quot;100%&quot;});\n",
       "\n",
       "        \n",
       "            var html_9ed98f4477b3f56b98acb8d3ee3e5628 = $(`&lt;div id=&quot;html_9ed98f4477b3f56b98acb8d3ee3e5628&quot; style=&quot;width: 100.0%; height: 100.0%;&quot;&gt;500 3RD AVE:  3187 Arrests&lt;/div&gt;`)[0];\n",
       "            popup_3b26912990a44ab56c577d4b9d9b1edf.setContent(html_9ed98f4477b3f56b98acb8d3ee3e5628);\n",
       "        \n",
       "\n",
       "        marker_f9605ffb263090a847b463cb08fe6019.bindPopup(popup_3b26912990a44ab56c577d4b9d9b1edf)\n",
       "        ;\n",
       "\n",
       "        \n",
       "    \n",
       "    \n",
       "            marker_f9605ffb263090a847b463cb08fe6019.bindTooltip(\n",
       "                `&lt;div&gt;\n",
       "                     3187 Arrests\n",
       "                 &lt;/div&gt;`,\n",
       "                {&quot;sticky&quot;: true}\n",
       "            );\n",
       "        \n",
       "    \n",
       "            var marker_6a985fc7479088429f61934371153fe1 = L.marker(\n",
       "                [47.61351951, -122.320771381],\n",
       "                {}\n",
       "            ).addTo(map_b719a7ba81a1d639c1e9b280b6ad95d7);\n",
       "        \n",
       "    \n",
       "        var popup_023bcde27e503d694e3eb12533d38fa6 = L.popup({&quot;maxWidth&quot;: &quot;100%&quot;});\n",
       "\n",
       "        \n",
       "            var html_d3a543d2f01e69af87a26e0242ca3141 = $(`&lt;div id=&quot;html_d3a543d2f01e69af87a26e0242ca3141&quot; style=&quot;width: 100.0%; height: 100.0%;&quot;&gt;1400 BROADWAY:  3144 Arrests&lt;/div&gt;`)[0];\n",
       "            popup_023bcde27e503d694e3eb12533d38fa6.setContent(html_d3a543d2f01e69af87a26e0242ca3141);\n",
       "        \n",
       "\n",
       "        marker_6a985fc7479088429f61934371153fe1.bindPopup(popup_023bcde27e503d694e3eb12533d38fa6)\n",
       "        ;\n",
       "\n",
       "        \n",
       "    \n",
       "    \n",
       "            marker_6a985fc7479088429f61934371153fe1.bindTooltip(\n",
       "                `&lt;div&gt;\n",
       "                     3144 Arrests\n",
       "                 &lt;/div&gt;`,\n",
       "                {&quot;sticky&quot;: true}\n",
       "            );\n",
       "        \n",
       "    \n",
       "            var marker_83102fc31acd57513145586925671147 = L.marker(\n",
       "                [47.59665538, -122.327680646],\n",
       "                {}\n",
       "            ).addTo(map_b719a7ba81a1d639c1e9b280b6ad95d7);\n",
       "        \n",
       "    \n",
       "        var popup_80d94133b5734ead71ef502b43d3d2ad = L.popup({&quot;maxWidth&quot;: &quot;100%&quot;});\n",
       "\n",
       "        \n",
       "            var html_49760c327dfef765d4f59d5bb7d5c240 = $(`&lt;div id=&quot;html_49760c327dfef765d4f59d5bb7d5c240&quot; style=&quot;width: 100.0%; height: 100.0%;&quot;&gt;600 5TH AVE S:  3133 Arrests&lt;/div&gt;`)[0];\n",
       "            popup_80d94133b5734ead71ef502b43d3d2ad.setContent(html_49760c327dfef765d4f59d5bb7d5c240);\n",
       "        \n",
       "\n",
       "        marker_83102fc31acd57513145586925671147.bindPopup(popup_80d94133b5734ead71ef502b43d3d2ad)\n",
       "        ;\n",
       "\n",
       "        \n",
       "    \n",
       "    \n",
       "            marker_83102fc31acd57513145586925671147.bindTooltip(\n",
       "                `&lt;div&gt;\n",
       "                     3133 Arrests\n",
       "                 &lt;/div&gt;`,\n",
       "                {&quot;sticky&quot;: true}\n",
       "            );\n",
       "        \n",
       "    \n",
       "            var marker_4691326f865400535f293ffc7e5da417 = L.marker(\n",
       "                [47.60878866, -122.338449515],\n",
       "                {}\n",
       "            ).addTo(map_b719a7ba81a1d639c1e9b280b6ad95d7);\n",
       "        \n",
       "    \n",
       "        var popup_f4be95da91368408111e34e63994a001 = L.popup({&quot;maxWidth&quot;: &quot;100%&quot;});\n",
       "\n",
       "        \n",
       "            var html_990791c80f3bab950e7e8cc5ff3f5579 = $(`&lt;div id=&quot;html_990791c80f3bab950e7e8cc5ff3f5579&quot; style=&quot;width: 100.0%; height: 100.0%;&quot;&gt;1400 2ND AVE:  3125 Arrests&lt;/div&gt;`)[0];\n",
       "            popup_f4be95da91368408111e34e63994a001.setContent(html_990791c80f3bab950e7e8cc5ff3f5579);\n",
       "        \n",
       "\n",
       "        marker_4691326f865400535f293ffc7e5da417.bindPopup(popup_f4be95da91368408111e34e63994a001)\n",
       "        ;\n",
       "\n",
       "        \n",
       "    \n",
       "    \n",
       "            marker_4691326f865400535f293ffc7e5da417.bindTooltip(\n",
       "                `&lt;div&gt;\n",
       "                     3125 Arrests\n",
       "                 &lt;/div&gt;`,\n",
       "                {&quot;sticky&quot;: true}\n",
       "            );\n",
       "        \n",
       "    \n",
       "            var marker_d3c90f54670448e1f338ce6ce522c3f2 = L.marker(\n",
       "                [47.60925299, -122.33733875],\n",
       "                {}\n",
       "            ).addTo(map_b719a7ba81a1d639c1e9b280b6ad95d7);\n",
       "        \n",
       "    \n",
       "        var popup_c547997864dfd2eb387f4f4f3feaf045 = L.popup({&quot;maxWidth&quot;: &quot;100%&quot;});\n",
       "\n",
       "        \n",
       "            var html_48f9d0779811ec29237a38bfe1beb639 = $(`&lt;div id=&quot;html_48f9d0779811ec29237a38bfe1beb639&quot; style=&quot;width: 100.0%; height: 100.0%;&quot;&gt;1400 3RD AVE:  2867 Arrests&lt;/div&gt;`)[0];\n",
       "            popup_c547997864dfd2eb387f4f4f3feaf045.setContent(html_48f9d0779811ec29237a38bfe1beb639);\n",
       "        \n",
       "\n",
       "        marker_d3c90f54670448e1f338ce6ce522c3f2.bindPopup(popup_c547997864dfd2eb387f4f4f3feaf045)\n",
       "        ;\n",
       "\n",
       "        \n",
       "    \n",
       "    \n",
       "            marker_d3c90f54670448e1f338ce6ce522c3f2.bindTooltip(\n",
       "                `&lt;div&gt;\n",
       "                     2867 Arrests\n",
       "                 &lt;/div&gt;`,\n",
       "                {&quot;sticky&quot;: true}\n",
       "            );\n",
       "        \n",
       "    \n",
       "            var marker_e741b5539b2ec00717cddd88a662e474 = L.marker(\n",
       "                [47.61190423, -122.335928546],\n",
       "                {}\n",
       "            ).addTo(map_b719a7ba81a1d639c1e9b280b6ad95d7);\n",
       "        \n",
       "    \n",
       "        var popup_10546d6826a339011853b906103689bd = L.popup({&quot;maxWidth&quot;: &quot;100%&quot;});\n",
       "\n",
       "        \n",
       "            var html_15299c2b4d5ae3685d8ae88ada88fd6a = $(`&lt;div id=&quot;html_15299c2b4d5ae3685d8ae88ada88fd6a&quot; style=&quot;width: 100.0%; height: 100.0%;&quot;&gt;500 PINE ST:  2770 Arrests&lt;/div&gt;`)[0];\n",
       "            popup_10546d6826a339011853b906103689bd.setContent(html_15299c2b4d5ae3685d8ae88ada88fd6a);\n",
       "        \n",
       "\n",
       "        marker_e741b5539b2ec00717cddd88a662e474.bindPopup(popup_10546d6826a339011853b906103689bd)\n",
       "        ;\n",
       "\n",
       "        \n",
       "    \n",
       "    \n",
       "            marker_e741b5539b2ec00717cddd88a662e474.bindTooltip(\n",
       "                `&lt;div&gt;\n",
       "                     2770 Arrests\n",
       "                 &lt;/div&gt;`,\n",
       "                {&quot;sticky&quot;: true}\n",
       "            );\n",
       "        \n",
       "    \n",
       "            var marker_43c9c160f39a7c74f86aacb29ff82a6f = L.marker(\n",
       "                [47.61132124, -122.337320423],\n",
       "                {}\n",
       "            ).addTo(map_b719a7ba81a1d639c1e9b280b6ad95d7);\n",
       "        \n",
       "    \n",
       "        var popup_7dad1397de464d916d5613d389593c5c = L.popup({&quot;maxWidth&quot;: &quot;100%&quot;});\n",
       "\n",
       "        \n",
       "            var html_37c39195793129c3b7d4e52c18c07519 = $(`&lt;div id=&quot;html_37c39195793129c3b7d4e52c18c07519&quot; style=&quot;width: 100.0%; height: 100.0%;&quot;&gt;400 PINE ST:  2737 Arrests&lt;/div&gt;`)[0];\n",
       "            popup_7dad1397de464d916d5613d389593c5c.setContent(html_37c39195793129c3b7d4e52c18c07519);\n",
       "        \n",
       "\n",
       "        marker_43c9c160f39a7c74f86aacb29ff82a6f.bindPopup(popup_7dad1397de464d916d5613d389593c5c)\n",
       "        ;\n",
       "\n",
       "        \n",
       "    \n",
       "    \n",
       "            marker_43c9c160f39a7c74f86aacb29ff82a6f.bindTooltip(\n",
       "                `&lt;div&gt;\n",
       "                     2737 Arrests\n",
       "                 &lt;/div&gt;`,\n",
       "                {&quot;sticky&quot;: true}\n",
       "            );\n",
       "        \n",
       "    \n",
       "            var marker_a96c547fb713c17171a3317c31da45f4 = L.marker(\n",
       "                [47.7086028, -122.324615158],\n",
       "                {}\n",
       "            ).addTo(map_b719a7ba81a1d639c1e9b280b6ad95d7);\n",
       "        \n",
       "    \n",
       "        var popup_02835c0a5366e3f81501b790e06af7d0 = L.popup({&quot;maxWidth&quot;: &quot;100%&quot;});\n",
       "\n",
       "        \n",
       "            var html_8559c14e1f61a0137214c6de2b09fcad = $(`&lt;div id=&quot;html_8559c14e1f61a0137214c6de2b09fcad&quot; style=&quot;width: 100.0%; height: 100.0%;&quot;&gt;300 NE NORTHGATE WAY:  2671 Arrests&lt;/div&gt;`)[0];\n",
       "            popup_02835c0a5366e3f81501b790e06af7d0.setContent(html_8559c14e1f61a0137214c6de2b09fcad);\n",
       "        \n",
       "\n",
       "        marker_a96c547fb713c17171a3317c31da45f4.bindPopup(popup_02835c0a5366e3f81501b790e06af7d0)\n",
       "        ;\n",
       "\n",
       "        \n",
       "    \n",
       "    \n",
       "            marker_a96c547fb713c17171a3317c31da45f4.bindTooltip(\n",
       "                `&lt;div&gt;\n",
       "                     2671 Arrests\n",
       "                 &lt;/div&gt;`,\n",
       "                {&quot;sticky&quot;: true}\n",
       "            );\n",
       "        \n",
       "    \n",
       "            var marker_fb02ba2f71f5e11ed4f09c29b9c557bc = L.marker(\n",
       "                [47.66053224, -122.313149],\n",
       "                {}\n",
       "            ).addTo(map_b719a7ba81a1d639c1e9b280b6ad95d7);\n",
       "        \n",
       "    \n",
       "        var popup_1c8370e7291a06257f030e818dfe8781 = L.popup({&quot;maxWidth&quot;: &quot;100%&quot;});\n",
       "\n",
       "        \n",
       "            var html_ec200ba735eed85e2bd11476399c4e4f = $(`&lt;div id=&quot;html_ec200ba735eed85e2bd11476399c4e4f&quot; style=&quot;width: 100.0%; height: 100.0%;&quot;&gt;4300 UNIVERSITY WAY NE:  2478 Arrests&lt;/div&gt;`)[0];\n",
       "            popup_1c8370e7291a06257f030e818dfe8781.setContent(html_ec200ba735eed85e2bd11476399c4e4f);\n",
       "        \n",
       "\n",
       "        marker_fb02ba2f71f5e11ed4f09c29b9c557bc.bindPopup(popup_1c8370e7291a06257f030e818dfe8781)\n",
       "        ;\n",
       "\n",
       "        \n",
       "    \n",
       "    \n",
       "            marker_fb02ba2f71f5e11ed4f09c29b9c557bc.bindTooltip(\n",
       "                `&lt;div&gt;\n",
       "                     2478 Arrests\n",
       "                 &lt;/div&gt;`,\n",
       "                {&quot;sticky&quot;: true}\n",
       "            );\n",
       "        \n",
       "    \n",
       "            var marker_85ef718d871217300fcd574478b9a0f8 = L.marker(\n",
       "                [47.72503555, -122.344996828],\n",
       "                {}\n",
       "            ).addTo(map_b719a7ba81a1d639c1e9b280b6ad95d7);\n",
       "        \n",
       "    \n",
       "        var popup_5544c69efa0c886637682dad591b8fec = L.popup({&quot;maxWidth&quot;: &quot;100%&quot;});\n",
       "\n",
       "        \n",
       "            var html_28acd0c16d5d19e275165aa6786a0504 = $(`&lt;div id=&quot;html_28acd0c16d5d19e275165aa6786a0504&quot; style=&quot;width: 100.0%; height: 100.0%;&quot;&gt;13200 AURORA AVE N:  2334 Arrests&lt;/div&gt;`)[0];\n",
       "            popup_5544c69efa0c886637682dad591b8fec.setContent(html_28acd0c16d5d19e275165aa6786a0504);\n",
       "        \n",
       "\n",
       "        marker_85ef718d871217300fcd574478b9a0f8.bindPopup(popup_5544c69efa0c886637682dad591b8fec)\n",
       "        ;\n",
       "\n",
       "        \n",
       "    \n",
       "    \n",
       "            marker_85ef718d871217300fcd574478b9a0f8.bindTooltip(\n",
       "                `&lt;div&gt;\n",
       "                     2334 Arrests\n",
       "                 &lt;/div&gt;`,\n",
       "                {&quot;sticky&quot;: true}\n",
       "            );\n",
       "        \n",
       "    \n",
       "            var marker_c577ad744a48200fafcad93d55976b60 = L.marker(\n",
       "                [47.6102463, -122.338247298],\n",
       "                {}\n",
       "            ).addTo(map_b719a7ba81a1d639c1e9b280b6ad95d7);\n",
       "        \n",
       "    \n",
       "        var popup_c208292abd68247e4757c06fd87f63e0 = L.popup({&quot;maxWidth&quot;: &quot;100%&quot;});\n",
       "\n",
       "        \n",
       "            var html_ace23c2d83ef5d9cb06f2d537948fde9 = $(`&lt;div id=&quot;html_ace23c2d83ef5d9cb06f2d537948fde9&quot; style=&quot;width: 100.0%; height: 100.0%;&quot;&gt;1500 3RD AVE:  2231 Arrests&lt;/div&gt;`)[0];\n",
       "            popup_c208292abd68247e4757c06fd87f63e0.setContent(html_ace23c2d83ef5d9cb06f2d537948fde9);\n",
       "        \n",
       "\n",
       "        marker_c577ad744a48200fafcad93d55976b60.bindPopup(popup_c208292abd68247e4757c06fd87f63e0)\n",
       "        ;\n",
       "\n",
       "        \n",
       "    \n",
       "    \n",
       "            marker_c577ad744a48200fafcad93d55976b60.bindTooltip(\n",
       "                `&lt;div&gt;\n",
       "                     2231 Arrests\n",
       "                 &lt;/div&gt;`,\n",
       "                {&quot;sticky&quot;: true}\n",
       "            );\n",
       "        \n",
       "    \n",
       "            var marker_198a91aa779f7dbc6dce44fcb895d1cd = L.marker(\n",
       "                [47.56888116, -122.289921964],\n",
       "                {}\n",
       "            ).addTo(map_b719a7ba81a1d639c1e9b280b6ad95d7);\n",
       "        \n",
       "    \n",
       "        var popup_e9b92cd3d83c58f30c7ba6a45d4323ce = L.popup({&quot;maxWidth&quot;: &quot;100%&quot;});\n",
       "\n",
       "        \n",
       "            var html_62d1920fb5d3a985ffca3b4e0686cb4c = $(`&lt;div id=&quot;html_62d1920fb5d3a985ffca3b4e0686cb4c&quot; style=&quot;width: 100.0%; height: 100.0%;&quot;&gt;3800 RAINIER AVE S:  2142 Arrests&lt;/div&gt;`)[0];\n",
       "            popup_e9b92cd3d83c58f30c7ba6a45d4323ce.setContent(html_62d1920fb5d3a985ffca3b4e0686cb4c);\n",
       "        \n",
       "\n",
       "        marker_198a91aa779f7dbc6dce44fcb895d1cd.bindPopup(popup_e9b92cd3d83c58f30c7ba6a45d4323ce)\n",
       "        ;\n",
       "\n",
       "        \n",
       "    \n",
       "    \n",
       "            marker_198a91aa779f7dbc6dce44fcb895d1cd.bindTooltip(\n",
       "                `&lt;div&gt;\n",
       "                     2142 Arrests\n",
       "                 &lt;/div&gt;`,\n",
       "                {&quot;sticky&quot;: true}\n",
       "            );\n",
       "        \n",
       "    \n",
       "            var marker_cde08f5f201fc0ef6b1cac3d1be5b35d = L.marker(\n",
       "                [47.61097516, -122.338146742],\n",
       "                {}\n",
       "            ).addTo(map_b719a7ba81a1d639c1e9b280b6ad95d7);\n",
       "        \n",
       "    \n",
       "        var popup_d41549116d707b265d29cbb754e01d29 = L.popup({&quot;maxWidth&quot;: &quot;100%&quot;});\n",
       "\n",
       "        \n",
       "            var html_8246567f7dbdf30f1dc0ff5087fa4484 = $(`&lt;div id=&quot;html_8246567f7dbdf30f1dc0ff5087fa4484&quot; style=&quot;width: 100.0%; height: 100.0%;&quot;&gt;300 PINE ST:  2009 Arrests&lt;/div&gt;`)[0];\n",
       "            popup_d41549116d707b265d29cbb754e01d29.setContent(html_8246567f7dbdf30f1dc0ff5087fa4484);\n",
       "        \n",
       "\n",
       "        marker_cde08f5f201fc0ef6b1cac3d1be5b35d.bindPopup(popup_d41549116d707b265d29cbb754e01d29)\n",
       "        ;\n",
       "\n",
       "        \n",
       "    \n",
       "    \n",
       "            marker_cde08f5f201fc0ef6b1cac3d1be5b35d.bindTooltip(\n",
       "                `&lt;div&gt;\n",
       "                     2009 Arrests\n",
       "                 &lt;/div&gt;`,\n",
       "                {&quot;sticky&quot;: true}\n",
       "            );\n",
       "        \n",
       "    \n",
       "            var marker_88188538e347aa1955320cdbcbdf41d3 = L.marker(\n",
       "                [47.60412808, -122.32344394],\n",
       "                {}\n",
       "            ).addTo(map_b719a7ba81a1d639c1e9b280b6ad95d7);\n",
       "        \n",
       "    \n",
       "        var popup_37242e50a1671ce04409161a416af3fa = L.popup({&quot;maxWidth&quot;: &quot;100%&quot;});\n",
       "\n",
       "        \n",
       "            var html_d84d2336b6bec6d257ad2d9e7430bcb3 = $(`&lt;div id=&quot;html_d84d2336b6bec6d257ad2d9e7430bcb3&quot; style=&quot;width: 100.0%; height: 100.0%;&quot;&gt;300 9TH AVE:  1984 Arrests&lt;/div&gt;`)[0];\n",
       "            popup_37242e50a1671ce04409161a416af3fa.setContent(html_d84d2336b6bec6d257ad2d9e7430bcb3);\n",
       "        \n",
       "\n",
       "        marker_88188538e347aa1955320cdbcbdf41d3.bindPopup(popup_37242e50a1671ce04409161a416af3fa)\n",
       "        ;\n",
       "\n",
       "        \n",
       "    \n",
       "    \n",
       "            marker_88188538e347aa1955320cdbcbdf41d3.bindTooltip(\n",
       "                `&lt;div&gt;\n",
       "                     1984 Arrests\n",
       "                 &lt;/div&gt;`,\n",
       "                {&quot;sticky&quot;: true}\n",
       "            );\n",
       "        \n",
       "    \n",
       "            var marker_38908a021491b0e093c18d062687cce5 = L.marker(\n",
       "                [47.61236844, -122.334817764],\n",
       "                {}\n",
       "            ).addTo(map_b719a7ba81a1d639c1e9b280b6ad95d7);\n",
       "        \n",
       "    \n",
       "        var popup_cad2a6c0c9fbed65e134c60712a287a3 = L.popup({&quot;maxWidth&quot;: &quot;100%&quot;});\n",
       "\n",
       "        \n",
       "            var html_2ff9825de60b16401400dae168b50614 = $(`&lt;div id=&quot;html_2ff9825de60b16401400dae168b50614&quot; style=&quot;width: 100.0%; height: 100.0%;&quot;&gt;600 PINE ST:  1949 Arrests&lt;/div&gt;`)[0];\n",
       "            popup_cad2a6c0c9fbed65e134c60712a287a3.setContent(html_2ff9825de60b16401400dae168b50614);\n",
       "        \n",
       "\n",
       "        marker_38908a021491b0e093c18d062687cce5.bindPopup(popup_cad2a6c0c9fbed65e134c60712a287a3)\n",
       "        ;\n",
       "\n",
       "        \n",
       "    \n",
       "    \n",
       "            marker_38908a021491b0e093c18d062687cce5.bindTooltip(\n",
       "                `&lt;div&gt;\n",
       "                     1949 Arrests\n",
       "                 &lt;/div&gt;`,\n",
       "                {&quot;sticky&quot;: true}\n",
       "            );\n",
       "        \n",
       "    \n",
       "            var marker_e9da79ba069d05ea99990783d322f013 = L.marker(\n",
       "                [47.52102758, -122.367311993],\n",
       "                {}\n",
       "            ).addTo(map_b719a7ba81a1d639c1e9b280b6ad95d7);\n",
       "        \n",
       "    \n",
       "        var popup_7a88e74c365d4ded9eb5f5b68a37845f = L.popup({&quot;maxWidth&quot;: &quot;100%&quot;});\n",
       "\n",
       "        \n",
       "            var html_434cffe2690626db8ccdffaebd731ebe = $(`&lt;div id=&quot;html_434cffe2690626db8ccdffaebd731ebe&quot; style=&quot;width: 100.0%; height: 100.0%;&quot;&gt;2600 SW BARTON ST:  1866 Arrests&lt;/div&gt;`)[0];\n",
       "            popup_7a88e74c365d4ded9eb5f5b68a37845f.setContent(html_434cffe2690626db8ccdffaebd731ebe);\n",
       "        \n",
       "\n",
       "        marker_e9da79ba069d05ea99990783d322f013.bindPopup(popup_7a88e74c365d4ded9eb5f5b68a37845f)\n",
       "        ;\n",
       "\n",
       "        \n",
       "    \n",
       "    \n",
       "            marker_e9da79ba069d05ea99990783d322f013.bindTooltip(\n",
       "                `&lt;div&gt;\n",
       "                     1866 Arrests\n",
       "                 &lt;/div&gt;`,\n",
       "                {&quot;sticky&quot;: true}\n",
       "            );\n",
       "        \n",
       "    \n",
       "            var marker_61f53e0b42e8c008df00d36859fdca91 = L.marker(\n",
       "                [47.51985178, -122.268030094],\n",
       "                {}\n",
       "            ).addTo(map_b719a7ba81a1d639c1e9b280b6ad95d7);\n",
       "        \n",
       "    \n",
       "        var popup_33d5b87f7ba1438c81b3b90b5dbf6387 = L.popup({&quot;maxWidth&quot;: &quot;100%&quot;});\n",
       "\n",
       "        \n",
       "            var html_778b99aee5820a277ca66b0d15f69805 = $(`&lt;div id=&quot;html_778b99aee5820a277ca66b0d15f69805&quot; style=&quot;width: 100.0%; height: 100.0%;&quot;&gt;9200 RAINIER AVE S:  1669 Arrests&lt;/div&gt;`)[0];\n",
       "            popup_33d5b87f7ba1438c81b3b90b5dbf6387.setContent(html_778b99aee5820a277ca66b0d15f69805);\n",
       "        \n",
       "\n",
       "        marker_61f53e0b42e8c008df00d36859fdca91.bindPopup(popup_33d5b87f7ba1438c81b3b90b5dbf6387)\n",
       "        ;\n",
       "\n",
       "        \n",
       "    \n",
       "    \n",
       "            marker_61f53e0b42e8c008df00d36859fdca91.bindTooltip(\n",
       "                `&lt;div&gt;\n",
       "                     1669 Arrests\n",
       "                 &lt;/div&gt;`,\n",
       "                {&quot;sticky&quot;: true}\n",
       "            );\n",
       "        \n",
       "    \n",
       "            var marker_490297fc2c2dc2597cac6c911b9545f4 = L.marker(\n",
       "                [47.61465549, -122.320789514],\n",
       "                {}\n",
       "            ).addTo(map_b719a7ba81a1d639c1e9b280b6ad95d7);\n",
       "        \n",
       "    \n",
       "        var popup_3e5f1031ce4396e12c7b060a7c10927e = L.popup({&quot;maxWidth&quot;: &quot;100%&quot;});\n",
       "\n",
       "        \n",
       "            var html_182d0cc8d0f64f4431055d9145f6dc81 = $(`&lt;div id=&quot;html_182d0cc8d0f64f4431055d9145f6dc81&quot; style=&quot;width: 100.0%; height: 100.0%;&quot;&gt;1500 BROADWAY:  1513 Arrests&lt;/div&gt;`)[0];\n",
       "            popup_3e5f1031ce4396e12c7b060a7c10927e.setContent(html_182d0cc8d0f64f4431055d9145f6dc81);\n",
       "        \n",
       "\n",
       "        marker_490297fc2c2dc2597cac6c911b9545f4.bindPopup(popup_3e5f1031ce4396e12c7b060a7c10927e)\n",
       "        ;\n",
       "\n",
       "        \n",
       "    \n",
       "    \n",
       "            marker_490297fc2c2dc2597cac6c911b9545f4.bindTooltip(\n",
       "                `&lt;div&gt;\n",
       "                     1513 Arrests\n",
       "                 &lt;/div&gt;`,\n",
       "                {&quot;sticky&quot;: true}\n",
       "            );\n",
       "        \n",
       "    \n",
       "            var marker_3133809a1daa461517e35eba036629fd = L.marker(\n",
       "                [47.60951744, -122.338348304],\n",
       "                {}\n",
       "            ).addTo(map_b719a7ba81a1d639c1e9b280b6ad95d7);\n",
       "        \n",
       "    \n",
       "        var popup_c0c30604b06ba32e36be7f93e5efef21 = L.popup({&quot;maxWidth&quot;: &quot;100%&quot;});\n",
       "\n",
       "        \n",
       "            var html_3e38bac69e17aeee4a579c18593553c4 = $(`&lt;div id=&quot;html_3e38bac69e17aeee4a579c18593553c4&quot; style=&quot;width: 100.0%; height: 100.0%;&quot;&gt;200 PIKE ST:  1503 Arrests&lt;/div&gt;`)[0];\n",
       "            popup_c0c30604b06ba32e36be7f93e5efef21.setContent(html_3e38bac69e17aeee4a579c18593553c4);\n",
       "        \n",
       "\n",
       "        marker_3133809a1daa461517e35eba036629fd.bindPopup(popup_c0c30604b06ba32e36be7f93e5efef21)\n",
       "        ;\n",
       "\n",
       "        \n",
       "    \n",
       "    \n",
       "            marker_3133809a1daa461517e35eba036629fd.bindTooltip(\n",
       "                `&lt;div&gt;\n",
       "                     1503 Arrests\n",
       "                 &lt;/div&gt;`,\n",
       "                {&quot;sticky&quot;: true}\n",
       "            );\n",
       "        \n",
       "    \n",
       "            var marker_932ec39450dd28866c9be29565fad822 = L.marker(\n",
       "                [47.57967225, -122.299158741],\n",
       "                {}\n",
       "            ).addTo(map_b719a7ba81a1d639c1e9b280b6ad95d7);\n",
       "        \n",
       "    \n",
       "        var popup_99bce690598b4d40d4299bc83d9354d3 = L.popup({&quot;maxWidth&quot;: &quot;100%&quot;});\n",
       "\n",
       "        \n",
       "            var html_1facf99e55b7a31330a9a836af9626a9 = $(`&lt;div id=&quot;html_1facf99e55b7a31330a9a836af9626a9&quot; style=&quot;width: 100.0%; height: 100.0%;&quot;&gt;2700 RAINIER AVE S:  1453 Arrests&lt;/div&gt;`)[0];\n",
       "            popup_99bce690598b4d40d4299bc83d9354d3.setContent(html_1facf99e55b7a31330a9a836af9626a9);\n",
       "        \n",
       "\n",
       "        marker_932ec39450dd28866c9be29565fad822.bindPopup(popup_99bce690598b4d40d4299bc83d9354d3)\n",
       "        ;\n",
       "\n",
       "        \n",
       "    \n",
       "    \n",
       "            marker_932ec39450dd28866c9be29565fad822.bindTooltip(\n",
       "                `&lt;div&gt;\n",
       "                     1453 Arrests\n",
       "                 &lt;/div&gt;`,\n",
       "                {&quot;sticky&quot;: true}\n",
       "            );\n",
       "        \n",
       "    \n",
       "            var marker_b2ef0c22c84b64559565d9f390288ee8 = L.marker(\n",
       "                [47.60088279, -122.333852598],\n",
       "                {}\n",
       "            ).addTo(map_b719a7ba81a1d639c1e9b280b6ad95d7);\n",
       "        \n",
       "    \n",
       "        var popup_be1b32bdf6bf6984f56ea6636eee2282 = L.popup({&quot;maxWidth&quot;: &quot;100%&quot;});\n",
       "\n",
       "        \n",
       "            var html_f54ebe89146ff4fe795e3c476fbec52c = $(`&lt;div id=&quot;html_f54ebe89146ff4fe795e3c476fbec52c&quot; style=&quot;width: 100.0%; height: 100.0%;&quot;&gt;100 S WASHINGTON ST:  1433 Arrests&lt;/div&gt;`)[0];\n",
       "            popup_be1b32bdf6bf6984f56ea6636eee2282.setContent(html_f54ebe89146ff4fe795e3c476fbec52c);\n",
       "        \n",
       "\n",
       "        marker_b2ef0c22c84b64559565d9f390288ee8.bindPopup(popup_be1b32bdf6bf6984f56ea6636eee2282)\n",
       "        ;\n",
       "\n",
       "        \n",
       "    \n",
       "    \n",
       "            marker_b2ef0c22c84b64559565d9f390288ee8.bindTooltip(\n",
       "                `&lt;div&gt;\n",
       "                     1433 Arrests\n",
       "                 &lt;/div&gt;`,\n",
       "                {&quot;sticky&quot;: true}\n",
       "            );\n",
       "        \n",
       "    \n",
       "            var marker_4a0e7409b48b3c270f7dc4807269233b = L.marker(\n",
       "                [47.6225585, -122.320915228],\n",
       "                {}\n",
       "            ).addTo(map_b719a7ba81a1d639c1e9b280b6ad95d7);\n",
       "        \n",
       "    \n",
       "        var popup_c634e6662cd4351463faf0bd73555a4e = L.popup({&quot;maxWidth&quot;: &quot;100%&quot;});\n",
       "\n",
       "        \n",
       "            var html_fcbdf80ab6842a12bf54de381f23585c = $(`&lt;div id=&quot;html_fcbdf80ab6842a12bf54de381f23585c&quot; style=&quot;width: 100.0%; height: 100.0%;&quot;&gt;400 BROADWAY E:  1374 Arrests&lt;/div&gt;`)[0];\n",
       "            popup_c634e6662cd4351463faf0bd73555a4e.setContent(html_fcbdf80ab6842a12bf54de381f23585c);\n",
       "        \n",
       "\n",
       "        marker_4a0e7409b48b3c270f7dc4807269233b.bindPopup(popup_c634e6662cd4351463faf0bd73555a4e)\n",
       "        ;\n",
       "\n",
       "        \n",
       "    \n",
       "    \n",
       "            marker_4a0e7409b48b3c270f7dc4807269233b.bindTooltip(\n",
       "                `&lt;div&gt;\n",
       "                     1374 Arrests\n",
       "                 &lt;/div&gt;`,\n",
       "                {&quot;sticky&quot;: true}\n",
       "            );\n",
       "        \n",
       "    \n",
       "            var marker_8628190c39a10342ecd43dd0407cd782 = L.marker(\n",
       "                [47.66218058, -122.313115709],\n",
       "                {}\n",
       "            ).addTo(map_b719a7ba81a1d639c1e9b280b6ad95d7);\n",
       "        \n",
       "    \n",
       "        var popup_da388d24c592eae65db1c8ba0b6e95f9 = L.popup({&quot;maxWidth&quot;: &quot;100%&quot;});\n",
       "\n",
       "        \n",
       "            var html_3483ed24638a9d2631106720faa02910 = $(`&lt;div id=&quot;html_3483ed24638a9d2631106720faa02910&quot; style=&quot;width: 100.0%; height: 100.0%;&quot;&gt;4500 UNIVERSITY WAY NE:  1364 Arrests&lt;/div&gt;`)[0];\n",
       "            popup_da388d24c592eae65db1c8ba0b6e95f9.setContent(html_3483ed24638a9d2631106720faa02910);\n",
       "        \n",
       "\n",
       "        marker_8628190c39a10342ecd43dd0407cd782.bindPopup(popup_da388d24c592eae65db1c8ba0b6e95f9)\n",
       "        ;\n",
       "\n",
       "        \n",
       "    \n",
       "    \n",
       "            marker_8628190c39a10342ecd43dd0407cd782.bindTooltip(\n",
       "                `&lt;div&gt;\n",
       "                     1364 Arrests\n",
       "                 &lt;/div&gt;`,\n",
       "                {&quot;sticky&quot;: true}\n",
       "            );\n",
       "        \n",
       "&lt;/script&gt;\" style=\"position:absolute;width:100%;height:100%;left:0;top:0;border:none !important;\" allowfullscreen webkitallowfullscreen mozallowfullscreen></iframe></div></div>"
      ],
      "text/plain": [
       "<folium.folium.Map at 0x15f034d0eb0>"
      ]
     },
     "execution_count": 292,
     "metadata": {},
     "output_type": "execute_result"
    }
   ],
   "source": [
    "seattle_map"
   ]
  },
  {
   "cell_type": "code",
   "execution_count": 275,
   "id": "0c7eabf2",
   "metadata": {},
   "outputs": [],
   "source": [
    "from folium import plugins\n",
    "from folium.plugins import HeatMap"
   ]
  },
  {
   "cell_type": "code",
   "execution_count": 293,
   "id": "49fb1d5d",
   "metadata": {},
   "outputs": [],
   "source": [
    "heat_map_coords = folium.Map(location=[folium_data.latitude.mean(), \n",
    "                           folium_data.longitude.mean()], \n",
    "                 zoom_start=14, min_zoom=2, control_scale=True)"
   ]
  },
  {
   "cell_type": "code",
   "execution_count": 295,
   "id": "d9eff6db",
   "metadata": {},
   "outputs": [
    {
     "data": {
      "text/html": [
       "<div style=\"width:100%;\"><div style=\"position:relative;width:100%;height:0;padding-bottom:60%;\"><span style=\"color:#565656\">Make this Notebook Trusted to load map: File -> Trust Notebook</span><iframe srcdoc=\"&lt;!DOCTYPE html&gt;\n",
       "&lt;head&gt;    \n",
       "    &lt;meta http-equiv=&quot;content-type&quot; content=&quot;text/html; charset=UTF-8&quot; /&gt;\n",
       "    \n",
       "        &lt;script&gt;\n",
       "            L_NO_TOUCH = false;\n",
       "            L_DISABLE_3D = false;\n",
       "        &lt;/script&gt;\n",
       "    \n",
       "    &lt;style&gt;html, body {width: 100%;height: 100%;margin: 0;padding: 0;}&lt;/style&gt;\n",
       "    &lt;style&gt;#map {position:absolute;top:0;bottom:0;right:0;left:0;}&lt;/style&gt;\n",
       "    &lt;script src=&quot;https://cdn.jsdelivr.net/npm/leaflet@1.6.0/dist/leaflet.js&quot;&gt;&lt;/script&gt;\n",
       "    &lt;script src=&quot;https://code.jquery.com/jquery-1.12.4.min.js&quot;&gt;&lt;/script&gt;\n",
       "    &lt;script src=&quot;https://maxcdn.bootstrapcdn.com/bootstrap/3.2.0/js/bootstrap.min.js&quot;&gt;&lt;/script&gt;\n",
       "    &lt;script src=&quot;https://cdnjs.cloudflare.com/ajax/libs/Leaflet.awesome-markers/2.0.2/leaflet.awesome-markers.js&quot;&gt;&lt;/script&gt;\n",
       "    &lt;link rel=&quot;stylesheet&quot; href=&quot;https://cdn.jsdelivr.net/npm/leaflet@1.6.0/dist/leaflet.css&quot;/&gt;\n",
       "    &lt;link rel=&quot;stylesheet&quot; href=&quot;https://maxcdn.bootstrapcdn.com/bootstrap/3.2.0/css/bootstrap.min.css&quot;/&gt;\n",
       "    &lt;link rel=&quot;stylesheet&quot; href=&quot;https://maxcdn.bootstrapcdn.com/bootstrap/3.2.0/css/bootstrap-theme.min.css&quot;/&gt;\n",
       "    &lt;link rel=&quot;stylesheet&quot; href=&quot;https://maxcdn.bootstrapcdn.com/font-awesome/4.6.3/css/font-awesome.min.css&quot;/&gt;\n",
       "    &lt;link rel=&quot;stylesheet&quot; href=&quot;https://cdnjs.cloudflare.com/ajax/libs/Leaflet.awesome-markers/2.0.2/leaflet.awesome-markers.css&quot;/&gt;\n",
       "    &lt;link rel=&quot;stylesheet&quot; href=&quot;https://cdn.jsdelivr.net/gh/python-visualization/folium/folium/templates/leaflet.awesome.rotate.min.css&quot;/&gt;\n",
       "    \n",
       "            &lt;meta name=&quot;viewport&quot; content=&quot;width=device-width,\n",
       "                initial-scale=1.0, maximum-scale=1.0, user-scalable=no&quot; /&gt;\n",
       "            &lt;style&gt;\n",
       "                #map_3de5784735ce35347f5a17eaef40748c {\n",
       "                    position: relative;\n",
       "                    width: 100.0%;\n",
       "                    height: 100.0%;\n",
       "                    left: 0.0%;\n",
       "                    top: 0.0%;\n",
       "                }\n",
       "            &lt;/style&gt;\n",
       "        \n",
       "    &lt;script src=&quot;https://cdn.jsdelivr.net/gh/python-visualization/folium@master/folium/templates/leaflet_heat.min.js&quot;&gt;&lt;/script&gt;\n",
       "&lt;/head&gt;\n",
       "&lt;body&gt;    \n",
       "    \n",
       "            &lt;div class=&quot;folium-map&quot; id=&quot;map_3de5784735ce35347f5a17eaef40748c&quot; &gt;&lt;/div&gt;\n",
       "        \n",
       "&lt;/body&gt;\n",
       "&lt;script&gt;    \n",
       "    \n",
       "            var map_3de5784735ce35347f5a17eaef40748c = L.map(\n",
       "                &quot;map_3de5784735ce35347f5a17eaef40748c&quot;,\n",
       "                {\n",
       "                    center: [47.622058341934235, -122.32851044035593],\n",
       "                    crs: L.CRS.EPSG3857,\n",
       "                    zoom: 14,\n",
       "                    zoomControl: true,\n",
       "                    preferCanvas: false,\n",
       "                }\n",
       "            );\n",
       "            L.control.scale().addTo(map_3de5784735ce35347f5a17eaef40748c);\n",
       "\n",
       "            \n",
       "\n",
       "        \n",
       "    \n",
       "            var tile_layer_55badd9403e4c1300240ac0cc6fef5de = L.tileLayer(\n",
       "                &quot;https://{s}.tile.openstreetmap.org/{z}/{x}/{y}.png&quot;,\n",
       "                {&quot;attribution&quot;: &quot;Data by \\u0026copy; \\u003ca href=\\&quot;http://openstreetmap.org\\&quot;\\u003eOpenStreetMap\\u003c/a\\u003e, under \\u003ca href=\\&quot;http://www.openstreetmap.org/copyright\\&quot;\\u003eODbL\\u003c/a\\u003e.&quot;, &quot;detectRetina&quot;: false, &quot;maxNativeZoom&quot;: 18, &quot;maxZoom&quot;: 18, &quot;minZoom&quot;: 2, &quot;noWrap&quot;: false, &quot;opacity&quot;: 1, &quot;subdomains&quot;: &quot;abc&quot;, &quot;tms&quot;: false}\n",
       "            ).addTo(map_3de5784735ce35347f5a17eaef40748c);\n",
       "        \n",
       "    \n",
       "            var heat_map_e81a7a46250526e45387578f1854de33 = L.heatLayer(\n",
       "                [[47.7086028, -122.324615158], [47.59665466, -122.313436503], [47.60241242, -122.331082199], [47.61351951, -122.320771381], [47.59665538, -122.327680646], [47.60878866, -122.338449515], [47.60925299, -122.33733875], [47.61190423, -122.335928546], [47.61132124, -122.337320423], [47.7086028, -122.324615158], [47.66053224, -122.313149], [47.72503555, -122.344996828], [47.6102463, -122.338247298], [47.56888116, -122.289921964], [47.61097516, -122.338146742], [47.60412808, -122.32344394], [47.61236844, -122.334817764], [47.52102758, -122.367311993], [47.51985178, -122.268030094], [47.61465549, -122.320789514], [47.60951744, -122.338348304], [47.57967225, -122.299158741], [47.60088279, -122.333852598], [47.6225585, -122.320915228], [47.66218058, -122.313115709]],\n",
       "                {&quot;blur&quot;: 15, &quot;maxZoom&quot;: 18, &quot;minOpacity&quot;: 0.5, &quot;radius&quot;: 25}\n",
       "            ).addTo(map_3de5784735ce35347f5a17eaef40748c);\n",
       "        \n",
       "    \n",
       "            var heat_map_157a0f580b40473b60fcb070417b92b6 = L.heatLayer(\n",
       "                [[47.7086028, -122.324615158], [47.59665466, -122.313436503], [47.60241242, -122.331082199], [47.61351951, -122.320771381], [47.59665538, -122.327680646], [47.60878866, -122.338449515], [47.60925299, -122.33733875], [47.61190423, -122.335928546], [47.61132124, -122.337320423], [47.7086028, -122.324615158], [47.66053224, -122.313149], [47.72503555, -122.344996828], [47.6102463, -122.338247298], [47.56888116, -122.289921964], [47.61097516, -122.338146742], [47.60412808, -122.32344394], [47.61236844, -122.334817764], [47.52102758, -122.367311993], [47.51985178, -122.268030094], [47.61465549, -122.320789514], [47.60951744, -122.338348304], [47.57967225, -122.299158741], [47.60088279, -122.333852598], [47.6225585, -122.320915228], [47.66218058, -122.313115709]],\n",
       "                {&quot;blur&quot;: 15, &quot;maxZoom&quot;: 18, &quot;minOpacity&quot;: 0.5, &quot;radius&quot;: 25}\n",
       "            ).addTo(map_3de5784735ce35347f5a17eaef40748c);\n",
       "        \n",
       "&lt;/script&gt;\" style=\"position:absolute;width:100%;height:100%;left:0;top:0;border:none !important;\" allowfullscreen webkitallowfullscreen mozallowfullscreen></iframe></div></div>"
      ],
      "text/plain": [
       "<folium.folium.Map at 0x15f07216040>"
      ]
     },
     "execution_count": 295,
     "metadata": {},
     "output_type": "execute_result"
    }
   ],
   "source": [
    "heat_data = [[row['latitude'],row['longitude']] for index, row in top_coordinates.iterrows()]\n",
    "\n",
    "# Plot it on the map\n",
    "HeatMap(heat_data).add_to(heat_map_coords)\n",
    "\n",
    "# Display the map\n",
    "heat_map_coords"
   ]
  },
  {
   "cell_type": "markdown",
   "id": "fb6af753",
   "metadata": {},
   "source": [
    "/"
   ]
  },
  {
   "cell_type": "code",
   "execution_count": null,
   "id": "af8b1315",
   "metadata": {},
   "outputs": [],
   "source": []
  },
  {
   "cell_type": "markdown",
   "id": "24267e3b",
   "metadata": {},
   "source": [
    "#### Formatting copy of cleaned data for Tableau dashboard / further visualization "
   ]
  },
  {
   "cell_type": "code",
   "execution_count": null,
   "id": "ff13c68f",
   "metadata": {},
   "outputs": [],
   "source": [
    "# I'm thinking that after cleaning up the data and asking some initial questions, \n",
    "# it'll be better to explore location data thoroughly in Tableau; can remove any unnecessary columns before saving "
   ]
  },
  {
   "cell_type": "code",
   "execution_count": 296,
   "id": "bff08e19",
   "metadata": {},
   "outputs": [],
   "source": [
    "seattle_crime_tableau = data.copy()"
   ]
  },
  {
   "cell_type": "code",
   "execution_count": 297,
   "id": "c8f13362",
   "metadata": {},
   "outputs": [],
   "source": [
    "seattle_crime_tableau.drop(columns=[\"offense_id\", \"100_block_address\", \"report_number\"], inplace=True)"
   ]
  },
  {
   "cell_type": "code",
   "execution_count": 298,
   "id": "1c2b7c49",
   "metadata": {},
   "outputs": [],
   "source": [
    "seattle_crime_tableau.to_csv(\"seattle_criminal_database_cleaned.csv\", index=False)"
   ]
  },
  {
   "cell_type": "code",
   "execution_count": null,
   "id": "b48a0999",
   "metadata": {},
   "outputs": [],
   "source": []
  }
 ],
 "metadata": {
  "kernelspec": {
   "display_name": "Python 3 (ipykernel)",
   "language": "python",
   "name": "python3"
  },
  "language_info": {
   "codemirror_mode": {
    "name": "ipython",
    "version": 3
   },
   "file_extension": ".py",
   "mimetype": "text/x-python",
   "name": "python",
   "nbconvert_exporter": "python",
   "pygments_lexer": "ipython3",
   "version": "3.9.5"
  }
 },
 "nbformat": 4,
 "nbformat_minor": 5
}
