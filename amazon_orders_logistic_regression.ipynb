{
 "cells": [
  {
   "cell_type": "code",
   "execution_count": 1,
   "id": "5e67bef6",
   "metadata": {},
   "outputs": [],
   "source": [
    "import pandas as pd \n",
    "import numpy as np \n",
    "import seaborn as sns \n",
    "import matplotlib.pyplot as plt "
   ]
  },
  {
   "cell_type": "code",
   "execution_count": 2,
   "id": "eeecb4bb",
   "metadata": {},
   "outputs": [
    {
     "data": {
      "text/html": [
       "<div>\n",
       "<style scoped>\n",
       "    .dataframe tbody tr th:only-of-type {\n",
       "        vertical-align: middle;\n",
       "    }\n",
       "\n",
       "    .dataframe tbody tr th {\n",
       "        vertical-align: top;\n",
       "    }\n",
       "\n",
       "    .dataframe thead th {\n",
       "        text-align: right;\n",
       "    }\n",
       "</style>\n",
       "<table border=\"1\" class=\"dataframe\">\n",
       "  <thead>\n",
       "    <tr style=\"text-align: right;\">\n",
       "      <th></th>\n",
       "      <th>order_no</th>\n",
       "      <th>order_date</th>\n",
       "      <th>buyer</th>\n",
       "      <th>ship_city</th>\n",
       "      <th>ship_state</th>\n",
       "      <th>sku</th>\n",
       "      <th>description</th>\n",
       "      <th>quantity</th>\n",
       "      <th>item_total</th>\n",
       "      <th>shipping_fee</th>\n",
       "      <th>cod</th>\n",
       "      <th>order_status</th>\n",
       "    </tr>\n",
       "  </thead>\n",
       "  <tbody>\n",
       "    <tr>\n",
       "      <th>0</th>\n",
       "      <td>405-9763961-5211537</td>\n",
       "      <td>Sun, 18 Jul, 2021, 10:38 pm IST</td>\n",
       "      <td>Mr.</td>\n",
       "      <td>CHANDIGARH,</td>\n",
       "      <td>CHANDIGARH</td>\n",
       "      <td>SKU:  2X-3C0F-KNJE</td>\n",
       "      <td>100% Leather Elephant Shaped Piggy Coin Bank |...</td>\n",
       "      <td>1</td>\n",
       "      <td>₹449.00</td>\n",
       "      <td>NaN</td>\n",
       "      <td>NaN</td>\n",
       "      <td>Delivered to buyer</td>\n",
       "    </tr>\n",
       "    <tr>\n",
       "      <th>1</th>\n",
       "      <td>404-3964908-7850720</td>\n",
       "      <td>Tue, 19 Oct, 2021, 6:05 pm IST</td>\n",
       "      <td>Minam</td>\n",
       "      <td>PASIGHAT,</td>\n",
       "      <td>ARUNACHAL PRADESH</td>\n",
       "      <td>SKU:  DN-0WDX-VYOT</td>\n",
       "      <td>Women's Set of 5 Multicolor Pure Leather Singl...</td>\n",
       "      <td>1</td>\n",
       "      <td>₹449.00</td>\n",
       "      <td>₹60.18</td>\n",
       "      <td>NaN</td>\n",
       "      <td>Delivered to buyer</td>\n",
       "    </tr>\n",
       "    <tr>\n",
       "      <th>2</th>\n",
       "      <td>171-8103182-4289117</td>\n",
       "      <td>Sun, 28 Nov, 2021, 10:20 pm IST</td>\n",
       "      <td>yatipertin</td>\n",
       "      <td>PASIGHAT,</td>\n",
       "      <td>ARUNACHAL PRADESH</td>\n",
       "      <td>SKU:  DN-0WDX-VYOT</td>\n",
       "      <td>Women's Set of 5 Multicolor Pure Leather Singl...</td>\n",
       "      <td>1</td>\n",
       "      <td>₹449.00</td>\n",
       "      <td>₹60.18</td>\n",
       "      <td>NaN</td>\n",
       "      <td>Delivered to buyer</td>\n",
       "    </tr>\n",
       "    <tr>\n",
       "      <th>3</th>\n",
       "      <td>405-3171677-9557154</td>\n",
       "      <td>Wed, 28 Jul, 2021, 4:06 am IST</td>\n",
       "      <td>aciya</td>\n",
       "      <td>DEVARAKONDA,</td>\n",
       "      <td>TELANGANA</td>\n",
       "      <td>SKU:  AH-J3AO-R7DN</td>\n",
       "      <td>Pure 100% Leather Block Print Rectangular Jewe...</td>\n",
       "      <td>1</td>\n",
       "      <td>NaN</td>\n",
       "      <td>NaN</td>\n",
       "      <td>Cash On Delivery</td>\n",
       "      <td>Delivered to buyer</td>\n",
       "    </tr>\n",
       "    <tr>\n",
       "      <th>4</th>\n",
       "      <td>402-8910771-1215552</td>\n",
       "      <td>Tue, 28 Sept, 2021, 2:50 pm IST</td>\n",
       "      <td>Susmita</td>\n",
       "      <td>MUMBAI,</td>\n",
       "      <td>MAHARASHTRA</td>\n",
       "      <td>SKU:  KL-7WAA-Z82I</td>\n",
       "      <td>Pure Leather Sling Bag with Multiple Pockets a...</td>\n",
       "      <td>1</td>\n",
       "      <td>₹1,099.00</td>\n",
       "      <td>₹84.96</td>\n",
       "      <td>NaN</td>\n",
       "      <td>Delivered to buyer</td>\n",
       "    </tr>\n",
       "  </tbody>\n",
       "</table>\n",
       "</div>"
      ],
      "text/plain": [
       "              order_no                       order_date       buyer  \\\n",
       "0  405-9763961-5211537  Sun, 18 Jul, 2021, 10:38 pm IST         Mr.   \n",
       "1  404-3964908-7850720   Tue, 19 Oct, 2021, 6:05 pm IST       Minam   \n",
       "2  171-8103182-4289117  Sun, 28 Nov, 2021, 10:20 pm IST  yatipertin   \n",
       "3  405-3171677-9557154   Wed, 28 Jul, 2021, 4:06 am IST       aciya   \n",
       "4  402-8910771-1215552  Tue, 28 Sept, 2021, 2:50 pm IST     Susmita   \n",
       "\n",
       "      ship_city         ship_state                 sku  \\\n",
       "0   CHANDIGARH,         CHANDIGARH  SKU:  2X-3C0F-KNJE   \n",
       "1     PASIGHAT,  ARUNACHAL PRADESH  SKU:  DN-0WDX-VYOT   \n",
       "2     PASIGHAT,  ARUNACHAL PRADESH  SKU:  DN-0WDX-VYOT   \n",
       "3  DEVARAKONDA,          TELANGANA  SKU:  AH-J3AO-R7DN   \n",
       "4       MUMBAI,        MAHARASHTRA  SKU:  KL-7WAA-Z82I   \n",
       "\n",
       "                                         description  quantity item_total  \\\n",
       "0  100% Leather Elephant Shaped Piggy Coin Bank |...         1    ₹449.00   \n",
       "1  Women's Set of 5 Multicolor Pure Leather Singl...         1    ₹449.00   \n",
       "2  Women's Set of 5 Multicolor Pure Leather Singl...         1    ₹449.00   \n",
       "3  Pure 100% Leather Block Print Rectangular Jewe...         1        NaN   \n",
       "4  Pure Leather Sling Bag with Multiple Pockets a...         1  ₹1,099.00   \n",
       "\n",
       "  shipping_fee               cod        order_status  \n",
       "0          NaN               NaN  Delivered to buyer  \n",
       "1       ₹60.18               NaN  Delivered to buyer  \n",
       "2       ₹60.18               NaN  Delivered to buyer  \n",
       "3          NaN  Cash On Delivery  Delivered to buyer  \n",
       "4       ₹84.96               NaN  Delivered to buyer  "
      ]
     },
     "execution_count": 2,
     "metadata": {},
     "output_type": "execute_result"
    }
   ],
   "source": [
    "data = pd.read_excel(\"amazon_orders_data.xlsx\")\n",
    "data.head()"
   ]
  },
  {
   "cell_type": "code",
   "execution_count": 3,
   "id": "15d01f19",
   "metadata": {},
   "outputs": [
    {
     "data": {
      "text/plain": [
       "(171, 12)"
      ]
     },
     "execution_count": 3,
     "metadata": {},
     "output_type": "execute_result"
    }
   ],
   "source": [
    "data.shape"
   ]
  },
  {
   "cell_type": "code",
   "execution_count": 4,
   "id": "976f2054",
   "metadata": {},
   "outputs": [
    {
     "data": {
      "text/plain": [
       "<AxesSubplot:>"
      ]
     },
     "execution_count": 4,
     "metadata": {},
     "output_type": "execute_result"
    },
    {
     "data": {
      "image/png": "[encoded data removed]",
      "text/plain": [
       "<Figure size 936x720 with 2 Axes>"
      ]
     },
     "metadata": {
      "needs_background": "light"
     },
     "output_type": "display_data"
    }
   ],
   "source": [
    "plt.figure(figsize=(13, 10))\n",
    "sns.heatmap(data.isnull())"
   ]
  },
  {
   "cell_type": "code",
   "execution_count": 5,
   "id": "c66f71ff",
   "metadata": {},
   "outputs": [
    {
     "data": {
      "text/plain": [
       "order_no         0.000000\n",
       "order_date       0.000000\n",
       "buyer            0.000000\n",
       "ship_city        0.000000\n",
       "ship_state       0.000000\n",
       "sku              0.000000\n",
       "description      0.000000\n",
       "quantity         0.000000\n",
       "item_total      10.526316\n",
       "shipping_fee    15.204678\n",
       "cod             72.514620\n",
       "order_status     0.000000\n",
       "dtype: float64"
      ]
     },
     "execution_count": 5,
     "metadata": {},
     "output_type": "execute_result"
    }
   ],
   "source": [
    "data.isnull().sum() / data.shape[0] * 100"
   ]
  },
  {
   "cell_type": "code",
   "execution_count": 6,
   "id": "2a134d55",
   "metadata": {},
   "outputs": [
    {
     "data": {
      "text/html": [
       "<div>\n",
       "<style scoped>\n",
       "    .dataframe tbody tr th:only-of-type {\n",
       "        vertical-align: middle;\n",
       "    }\n",
       "\n",
       "    .dataframe tbody tr th {\n",
       "        vertical-align: top;\n",
       "    }\n",
       "\n",
       "    .dataframe thead th {\n",
       "        text-align: right;\n",
       "    }\n",
       "</style>\n",
       "<table border=\"1\" class=\"dataframe\">\n",
       "  <thead>\n",
       "    <tr style=\"text-align: right;\">\n",
       "      <th></th>\n",
       "      <th>order_no</th>\n",
       "      <th>order_date</th>\n",
       "      <th>buyer</th>\n",
       "      <th>ship_city</th>\n",
       "      <th>ship_state</th>\n",
       "      <th>sku</th>\n",
       "      <th>description</th>\n",
       "      <th>quantity</th>\n",
       "      <th>item_total</th>\n",
       "      <th>shipping_fee</th>\n",
       "      <th>cod</th>\n",
       "      <th>order_status</th>\n",
       "    </tr>\n",
       "  </thead>\n",
       "  <tbody>\n",
       "    <tr>\n",
       "      <th>3</th>\n",
       "      <td>405-3171677-9557154</td>\n",
       "      <td>Wed, 28 Jul, 2021, 4:06 am IST</td>\n",
       "      <td>aciya</td>\n",
       "      <td>DEVARAKONDA,</td>\n",
       "      <td>TELANGANA</td>\n",
       "      <td>SKU:  AH-J3AO-R7DN</td>\n",
       "      <td>Pure 100% Leather Block Print Rectangular Jewe...</td>\n",
       "      <td>1</td>\n",
       "      <td>NaN</td>\n",
       "      <td>NaN</td>\n",
       "      <td>Cash On Delivery</td>\n",
       "      <td>Delivered to buyer</td>\n",
       "    </tr>\n",
       "    <tr>\n",
       "      <th>6</th>\n",
       "      <td>404-5794317-7737924</td>\n",
       "      <td>Thu, 12 Aug, 2021, 8:03 pm IST</td>\n",
       "      <td>shailendra</td>\n",
       "      <td>ORAI,</td>\n",
       "      <td>UTTAR PRADESH</td>\n",
       "      <td>SKU:  TQ-OE6K-9DIK</td>\n",
       "      <td>Ultra Slim 100% Pure Leather Men's Wallet with...</td>\n",
       "      <td>1</td>\n",
       "      <td>NaN</td>\n",
       "      <td>NaN</td>\n",
       "      <td>Cash On Delivery</td>\n",
       "      <td>Returned to seller</td>\n",
       "    </tr>\n",
       "  </tbody>\n",
       "</table>\n",
       "</div>"
      ],
      "text/plain": [
       "              order_no                      order_date       buyer  \\\n",
       "3  405-3171677-9557154  Wed, 28 Jul, 2021, 4:06 am IST       aciya   \n",
       "6  404-5794317-7737924  Thu, 12 Aug, 2021, 8:03 pm IST  shailendra   \n",
       "\n",
       "      ship_city     ship_state                 sku  \\\n",
       "3  DEVARAKONDA,      TELANGANA  SKU:  AH-J3AO-R7DN   \n",
       "6         ORAI,  UTTAR PRADESH  SKU:  TQ-OE6K-9DIK   \n",
       "\n",
       "                                         description  quantity item_total  \\\n",
       "3  Pure 100% Leather Block Print Rectangular Jewe...         1        NaN   \n",
       "6  Ultra Slim 100% Pure Leather Men's Wallet with...         1        NaN   \n",
       "\n",
       "  shipping_fee               cod        order_status  \n",
       "3          NaN  Cash On Delivery  Delivered to buyer  \n",
       "6          NaN  Cash On Delivery  Returned to seller  "
      ]
     },
     "execution_count": 6,
     "metadata": {},
     "output_type": "execute_result"
    }
   ],
   "source": [
    "data[data['item_total'].isnull()][:2]"
   ]
  },
  {
   "cell_type": "code",
   "execution_count": 7,
   "id": "c4cae073",
   "metadata": {},
   "outputs": [
    {
     "data": {
      "text/html": [
       "<div>\n",
       "<style scoped>\n",
       "    .dataframe tbody tr th:only-of-type {\n",
       "        vertical-align: middle;\n",
       "    }\n",
       "\n",
       "    .dataframe tbody tr th {\n",
       "        vertical-align: top;\n",
       "    }\n",
       "\n",
       "    .dataframe thead th {\n",
       "        text-align: right;\n",
       "    }\n",
       "</style>\n",
       "<table border=\"1\" class=\"dataframe\">\n",
       "  <thead>\n",
       "    <tr style=\"text-align: right;\">\n",
       "      <th></th>\n",
       "      <th>order_no</th>\n",
       "      <th>order_date</th>\n",
       "      <th>buyer</th>\n",
       "      <th>ship_city</th>\n",
       "      <th>ship_state</th>\n",
       "      <th>sku</th>\n",
       "      <th>description</th>\n",
       "      <th>quantity</th>\n",
       "      <th>item_total</th>\n",
       "      <th>shipping_fee</th>\n",
       "      <th>cod</th>\n",
       "      <th>order_status</th>\n",
       "    </tr>\n",
       "  </thead>\n",
       "  <tbody>\n",
       "    <tr>\n",
       "      <th>3</th>\n",
       "      <td>405-3171677-9557154</td>\n",
       "      <td>Wed, 28 Jul, 2021, 4:06 am IST</td>\n",
       "      <td>aciya</td>\n",
       "      <td>DEVARAKONDA,</td>\n",
       "      <td>TELANGANA</td>\n",
       "      <td>SKU:  AH-J3AO-R7DN</td>\n",
       "      <td>Pure 100% Leather Block Print Rectangular Jewe...</td>\n",
       "      <td>1</td>\n",
       "      <td>NaN</td>\n",
       "      <td>NaN</td>\n",
       "      <td>Cash On Delivery</td>\n",
       "      <td>Delivered to buyer</td>\n",
       "    </tr>\n",
       "    <tr>\n",
       "      <th>26</th>\n",
       "      <td>405-0695973-7365161</td>\n",
       "      <td>Thu, 22 Jul, 2021, 9:32 am IST</td>\n",
       "      <td>Sailaja</td>\n",
       "      <td>VISAKHAPATNAM,</td>\n",
       "      <td>ANDHRA PRADESH</td>\n",
       "      <td>SKU:  AH-J3AO-R7DN</td>\n",
       "      <td>Pure 100% Leather Block Print Rectangular Jewe...</td>\n",
       "      <td>1</td>\n",
       "      <td>₹250.00</td>\n",
       "      <td>NaN</td>\n",
       "      <td>NaN</td>\n",
       "      <td>Delivered to buyer</td>\n",
       "    </tr>\n",
       "  </tbody>\n",
       "</table>\n",
       "</div>"
      ],
      "text/plain": [
       "               order_no                      order_date    buyer  \\\n",
       "3   405-3171677-9557154  Wed, 28 Jul, 2021, 4:06 am IST    aciya   \n",
       "26  405-0695973-7365161  Thu, 22 Jul, 2021, 9:32 am IST  Sailaja   \n",
       "\n",
       "         ship_city      ship_state                 sku  \\\n",
       "3     DEVARAKONDA,       TELANGANA  SKU:  AH-J3AO-R7DN   \n",
       "26  VISAKHAPATNAM,  ANDHRA PRADESH  SKU:  AH-J3AO-R7DN   \n",
       "\n",
       "                                          description  quantity item_total  \\\n",
       "3   Pure 100% Leather Block Print Rectangular Jewe...         1        NaN   \n",
       "26  Pure 100% Leather Block Print Rectangular Jewe...         1    ₹250.00   \n",
       "\n",
       "   shipping_fee               cod        order_status  \n",
       "3           NaN  Cash On Delivery  Delivered to buyer  \n",
       "26          NaN               NaN  Delivered to buyer  "
      ]
     },
     "execution_count": 7,
     "metadata": {},
     "output_type": "execute_result"
    }
   ],
   "source": [
    "data[data['sku'].str.contains(\"AH-J3AO-R7DN\")]\n",
    "# need to impute missing values for item total if there is another sku in dataset that has pricing "
   ]
  },
  {
   "cell_type": "code",
   "execution_count": 8,
   "id": "7ea56716",
   "metadata": {},
   "outputs": [
    {
     "data": {
      "text/html": [
       "<div>\n",
       "<style scoped>\n",
       "    .dataframe tbody tr th:only-of-type {\n",
       "        vertical-align: middle;\n",
       "    }\n",
       "\n",
       "    .dataframe tbody tr th {\n",
       "        vertical-align: top;\n",
       "    }\n",
       "\n",
       "    .dataframe thead th {\n",
       "        text-align: right;\n",
       "    }\n",
       "</style>\n",
       "<table border=\"1\" class=\"dataframe\">\n",
       "  <thead>\n",
       "    <tr style=\"text-align: right;\">\n",
       "      <th></th>\n",
       "      <th>order_no</th>\n",
       "      <th>order_date</th>\n",
       "      <th>buyer</th>\n",
       "      <th>ship_city</th>\n",
       "      <th>ship_state</th>\n",
       "      <th>sku</th>\n",
       "      <th>description</th>\n",
       "      <th>quantity</th>\n",
       "      <th>item_total</th>\n",
       "      <th>shipping_fee</th>\n",
       "      <th>cod</th>\n",
       "      <th>order_status</th>\n",
       "    </tr>\n",
       "  </thead>\n",
       "  <tbody>\n",
       "    <tr>\n",
       "      <th>0</th>\n",
       "      <td>405-9763961-5211537</td>\n",
       "      <td>Sun, 18 Jul, 2021, 10:38 pm IST</td>\n",
       "      <td>Mr.</td>\n",
       "      <td>CHANDIGARH,</td>\n",
       "      <td>CHANDIGARH</td>\n",
       "      <td>SKU:  2X-3C0F-KNJE</td>\n",
       "      <td>100% Leather Elephant Shaped Piggy Coin Bank |...</td>\n",
       "      <td>1</td>\n",
       "      <td>₹449.00</td>\n",
       "      <td>NaN</td>\n",
       "      <td>NaN</td>\n",
       "      <td>Delivered to buyer</td>\n",
       "    </tr>\n",
       "    <tr>\n",
       "      <th>1</th>\n",
       "      <td>404-3964908-7850720</td>\n",
       "      <td>Tue, 19 Oct, 2021, 6:05 pm IST</td>\n",
       "      <td>Minam</td>\n",
       "      <td>PASIGHAT,</td>\n",
       "      <td>ARUNACHAL PRADESH</td>\n",
       "      <td>SKU:  DN-0WDX-VYOT</td>\n",
       "      <td>Women's Set of 5 Multicolor Pure Leather Singl...</td>\n",
       "      <td>1</td>\n",
       "      <td>₹449.00</td>\n",
       "      <td>₹60.18</td>\n",
       "      <td>NaN</td>\n",
       "      <td>Delivered to buyer</td>\n",
       "    </tr>\n",
       "    <tr>\n",
       "      <th>2</th>\n",
       "      <td>171-8103182-4289117</td>\n",
       "      <td>Sun, 28 Nov, 2021, 10:20 pm IST</td>\n",
       "      <td>yatipertin</td>\n",
       "      <td>PASIGHAT,</td>\n",
       "      <td>ARUNACHAL PRADESH</td>\n",
       "      <td>SKU:  DN-0WDX-VYOT</td>\n",
       "      <td>Women's Set of 5 Multicolor Pure Leather Singl...</td>\n",
       "      <td>1</td>\n",
       "      <td>₹449.00</td>\n",
       "      <td>₹60.18</td>\n",
       "      <td>NaN</td>\n",
       "      <td>Delivered to buyer</td>\n",
       "    </tr>\n",
       "  </tbody>\n",
       "</table>\n",
       "</div>"
      ],
      "text/plain": [
       "              order_no                       order_date       buyer  \\\n",
       "0  405-9763961-5211537  Sun, 18 Jul, 2021, 10:38 pm IST         Mr.   \n",
       "1  404-3964908-7850720   Tue, 19 Oct, 2021, 6:05 pm IST       Minam   \n",
       "2  171-8103182-4289117  Sun, 28 Nov, 2021, 10:20 pm IST  yatipertin   \n",
       "\n",
       "     ship_city         ship_state                 sku  \\\n",
       "0  CHANDIGARH,         CHANDIGARH  SKU:  2X-3C0F-KNJE   \n",
       "1    PASIGHAT,  ARUNACHAL PRADESH  SKU:  DN-0WDX-VYOT   \n",
       "2    PASIGHAT,  ARUNACHAL PRADESH  SKU:  DN-0WDX-VYOT   \n",
       "\n",
       "                                         description  quantity item_total  \\\n",
       "0  100% Leather Elephant Shaped Piggy Coin Bank |...         1    ₹449.00   \n",
       "1  Women's Set of 5 Multicolor Pure Leather Singl...         1    ₹449.00   \n",
       "2  Women's Set of 5 Multicolor Pure Leather Singl...         1    ₹449.00   \n",
       "\n",
       "  shipping_fee  cod        order_status  \n",
       "0          NaN  NaN  Delivered to buyer  \n",
       "1       ₹60.18  NaN  Delivered to buyer  \n",
       "2       ₹60.18  NaN  Delivered to buyer  "
      ]
     },
     "execution_count": 8,
     "metadata": {},
     "output_type": "execute_result"
    }
   ],
   "source": [
    "data[data.cod.isnull()][:3]"
   ]
  },
  {
   "cell_type": "code",
   "execution_count": 37,
   "id": "9f905674",
   "metadata": {},
   "outputs": [
    {
     "data": {
      "text/plain": [
       "Cash On Delivery    47\n",
       "Name: cod, dtype: int64"
      ]
     },
     "execution_count": 37,
     "metadata": {},
     "output_type": "execute_result"
    }
   ],
   "source": [
    "data['cod'].value_counts()"
   ]
  },
  {
   "cell_type": "code",
   "execution_count": 38,
   "id": "bab12cc8",
   "metadata": {},
   "outputs": [],
   "source": [
    "data['cod'] = data['cod'].fillna(\"Online Payment\")"
   ]
  },
  {
   "cell_type": "code",
   "execution_count": 9,
   "id": "9b2f412a",
   "metadata": {},
   "outputs": [
    {
     "name": "stdout",
     "output_type": "stream",
     "text": [
      "<class 'pandas.core.frame.DataFrame'>\n",
      "RangeIndex: 171 entries, 0 to 170\n",
      "Data columns (total 12 columns):\n",
      " #   Column        Non-Null Count  Dtype \n",
      "---  ------        --------------  ----- \n",
      " 0   order_no      171 non-null    object\n",
      " 1   order_date    171 non-null    object\n",
      " 2   buyer         171 non-null    object\n",
      " 3   ship_city     171 non-null    object\n",
      " 4   ship_state    171 non-null    object\n",
      " 5   sku           171 non-null    object\n",
      " 6   description   171 non-null    object\n",
      " 7   quantity      171 non-null    int64 \n",
      " 8   item_total    153 non-null    object\n",
      " 9   shipping_fee  145 non-null    object\n",
      " 10  cod           47 non-null     object\n",
      " 11  order_status  171 non-null    object\n",
      "dtypes: int64(1), object(11)\n",
      "memory usage: 16.2+ KB\n"
     ]
    }
   ],
   "source": [
    "data.info()"
   ]
  },
  {
   "cell_type": "code",
   "execution_count": 10,
   "id": "1ad92ca0",
   "metadata": {},
   "outputs": [],
   "source": [
    "data[\"shipping_fee\"].fillna(data.shipping_fee.mode()[0], inplace=True)\n",
    "data[\"shipping_fee\"] = data[\"shipping_fee\"].apply(lambda x: x.replace(\"₹\", \"\"))"
   ]
  },
  {
   "cell_type": "code",
   "execution_count": 11,
   "id": "e5a64bfb",
   "metadata": {},
   "outputs": [],
   "source": [
    "data['item_total'].isnull().sum()\n",
    "data[\"item_total\"].fillna(data.item_total.mode()[0], inplace=True)\n",
    "data[\"item_total\"] = data[\"item_total\"].apply(lambda x: x.replace(\"₹\", \"\"))\n",
    "data[\"item_total\"] = data[\"item_total\"].apply(lambda x: x.replace(\",\", \"\"))"
   ]
  },
  {
   "cell_type": "code",
   "execution_count": 12,
   "id": "d972d71b",
   "metadata": {},
   "outputs": [],
   "source": [
    "data[[\"item_total\", \"shipping_fee\"]] = data[[\"item_total\", \"shipping_fee\"]].astype('float64')"
   ]
  },
  {
   "cell_type": "code",
   "execution_count": 39,
   "id": "7a70a21e",
   "metadata": {},
   "outputs": [
    {
     "data": {
      "text/plain": [
       "0.0"
      ]
     },
     "execution_count": 39,
     "metadata": {},
     "output_type": "execute_result"
    },
    {
     "data": {
      "image/png": "[encoded data removed]",
      "text/plain": [
       "<Figure size 360x360 with 2 Axes>"
      ]
     },
     "metadata": {
      "needs_background": "light"
     },
     "output_type": "display_data"
    }
   ],
   "source": [
    "plt.figure(figsize=(5, 5))\n",
    "sns.heatmap(data.isnull())\n",
    "data['cod'].isnull().sum() / data.shape[0] * 100 #nearly 3/4 of CODs are missing from the dataset; going to drop them"
   ]
  },
  {
   "cell_type": "code",
   "execution_count": 14,
   "id": "c05b02b2",
   "metadata": {},
   "outputs": [],
   "source": [
    "# data = data.drop(labels='cod', axis=1)"
   ]
  },
  {
   "cell_type": "code",
   "execution_count": 15,
   "id": "de3de4e9",
   "metadata": {},
   "outputs": [
    {
     "name": "stdout",
     "output_type": "stream",
     "text": [
      "<class 'pandas.core.frame.DataFrame'>\n",
      "RangeIndex: 171 entries, 0 to 170\n",
      "Data columns (total 12 columns):\n",
      " #   Column        Non-Null Count  Dtype  \n",
      "---  ------        --------------  -----  \n",
      " 0   order_no      171 non-null    object \n",
      " 1   order_date    171 non-null    object \n",
      " 2   buyer         171 non-null    object \n",
      " 3   ship_city     171 non-null    object \n",
      " 4   ship_state    171 non-null    object \n",
      " 5   sku           171 non-null    object \n",
      " 6   description   171 non-null    object \n",
      " 7   quantity      171 non-null    int64  \n",
      " 8   item_total    171 non-null    float64\n",
      " 9   shipping_fee  171 non-null    float64\n",
      " 10  cod           47 non-null     object \n",
      " 11  order_status  171 non-null    object \n",
      "dtypes: float64(2), int64(1), object(9)\n",
      "memory usage: 16.2+ KB\n"
     ]
    }
   ],
   "source": [
    "data.info()"
   ]
  },
  {
   "cell_type": "code",
   "execution_count": 16,
   "id": "5e8b6e53",
   "metadata": {},
   "outputs": [],
   "source": [
    "# def get_date_format(row): \n",
    "#     date_list = [] \n",
    "#     year = row.split(\",\", \"\")[2]\n",
    "#     date = row.split(\",\", \"\")[1]\n",
    "#     full_formatted_date = str(date) + str(year)\n",
    "#     date_list.append(full_formatted_date)\n",
    "#     return date_list"
   ]
  },
  {
   "cell_type": "code",
   "execution_count": 17,
   "id": "0b56550d",
   "metadata": {},
   "outputs": [],
   "source": [
    "# need function to pull correct date string for datetime formatting \n",
    "# data['order_date_formatted'] = data['order_date'].apply(lambda x: get_date_format(x))"
   ]
  },
  {
   "cell_type": "code",
   "execution_count": 18,
   "id": "68aa49c6",
   "metadata": {},
   "outputs": [
    {
     "name": "stderr",
     "output_type": "stream",
     "text": [
      "c:\\users\\ana jones\\pycharmprojects\\jupyter\\venv\\lib\\site-packages\\seaborn\\_decorators.py:36: FutureWarning: Pass the following variable as a keyword arg: x. From version 0.12, the only valid positional argument will be `data`, and passing other arguments without an explicit keyword will result in an error or misinterpretation.\n",
      "  warnings.warn(\n"
     ]
    },
    {
     "data": {
      "text/plain": [
       "<AxesSubplot:xlabel='order_status', ylabel='count'>"
      ]
     },
     "execution_count": 18,
     "metadata": {},
     "output_type": "execute_result"
    },
    {
     "data": {
      "image/png": "[encoded data removed]",
      "text/plain": [
       "<Figure size 432x288 with 1 Axes>"
      ]
     },
     "metadata": {
      "needs_background": "light"
     },
     "output_type": "display_data"
    }
   ],
   "source": [
    "sns.countplot(data.order_status)\n",
    "# disproportionate number of deliverys to returns; could bias algorithm if not accounted for \n",
    "# if returned to seller is a truly rare event, then can be left alone"
   ]
  },
  {
   "cell_type": "code",
   "execution_count": 19,
   "id": "1f8d5283",
   "metadata": {},
   "outputs": [
    {
     "data": {
      "text/plain": [
       "124"
      ]
     },
     "execution_count": 19,
     "metadata": {},
     "output_type": "execute_result"
    }
   ],
   "source": [
    "data.isnull().sum().sum()"
   ]
  },
  {
   "cell_type": "code",
   "execution_count": 20,
   "id": "c4541a35",
   "metadata": {},
   "outputs": [
    {
     "data": {
      "text/plain": [
       "0"
      ]
     },
     "execution_count": 20,
     "metadata": {},
     "output_type": "execute_result"
    }
   ],
   "source": [
    "data.duplicated().sum()"
   ]
  },
  {
   "cell_type": "code",
   "execution_count": 21,
   "id": "c24f3774",
   "metadata": {},
   "outputs": [
    {
     "data": {
      "text/html": [
       "<div>\n",
       "<style scoped>\n",
       "    .dataframe tbody tr th:only-of-type {\n",
       "        vertical-align: middle;\n",
       "    }\n",
       "\n",
       "    .dataframe tbody tr th {\n",
       "        vertical-align: top;\n",
       "    }\n",
       "\n",
       "    .dataframe thead th {\n",
       "        text-align: right;\n",
       "    }\n",
       "</style>\n",
       "<table border=\"1\" class=\"dataframe\">\n",
       "  <thead>\n",
       "    <tr style=\"text-align: right;\">\n",
       "      <th></th>\n",
       "      <th>order_no</th>\n",
       "      <th>order_date</th>\n",
       "      <th>buyer</th>\n",
       "      <th>ship_city</th>\n",
       "      <th>ship_state</th>\n",
       "      <th>sku</th>\n",
       "      <th>description</th>\n",
       "      <th>quantity</th>\n",
       "      <th>item_total</th>\n",
       "      <th>shipping_fee</th>\n",
       "      <th>cod</th>\n",
       "      <th>order_status</th>\n",
       "    </tr>\n",
       "  </thead>\n",
       "  <tbody>\n",
       "    <tr>\n",
       "      <th>0</th>\n",
       "      <td>405-9763961-5211537</td>\n",
       "      <td>Sun, 18 Jul, 2021, 10:38 pm IST</td>\n",
       "      <td>Mr.</td>\n",
       "      <td>CHANDIGARH,</td>\n",
       "      <td>CHANDIGARH</td>\n",
       "      <td>SKU:  2X-3C0F-KNJE</td>\n",
       "      <td>100% Leather Elephant Shaped Piggy Coin Bank |...</td>\n",
       "      <td>1</td>\n",
       "      <td>449.0</td>\n",
       "      <td>84.96</td>\n",
       "      <td>NaN</td>\n",
       "      <td>Delivered to buyer</td>\n",
       "    </tr>\n",
       "    <tr>\n",
       "      <th>1</th>\n",
       "      <td>404-3964908-7850720</td>\n",
       "      <td>Tue, 19 Oct, 2021, 6:05 pm IST</td>\n",
       "      <td>Minam</td>\n",
       "      <td>PASIGHAT,</td>\n",
       "      <td>ARUNACHAL PRADESH</td>\n",
       "      <td>SKU:  DN-0WDX-VYOT</td>\n",
       "      <td>Women's Set of 5 Multicolor Pure Leather Singl...</td>\n",
       "      <td>1</td>\n",
       "      <td>449.0</td>\n",
       "      <td>60.18</td>\n",
       "      <td>NaN</td>\n",
       "      <td>Delivered to buyer</td>\n",
       "    </tr>\n",
       "  </tbody>\n",
       "</table>\n",
       "</div>"
      ],
      "text/plain": [
       "              order_no                       order_date  buyer    ship_city  \\\n",
       "0  405-9763961-5211537  Sun, 18 Jul, 2021, 10:38 pm IST    Mr.  CHANDIGARH,   \n",
       "1  404-3964908-7850720   Tue, 19 Oct, 2021, 6:05 pm IST  Minam    PASIGHAT,   \n",
       "\n",
       "          ship_state                 sku  \\\n",
       "0         CHANDIGARH  SKU:  2X-3C0F-KNJE   \n",
       "1  ARUNACHAL PRADESH  SKU:  DN-0WDX-VYOT   \n",
       "\n",
       "                                         description  quantity  item_total  \\\n",
       "0  100% Leather Elephant Shaped Piggy Coin Bank |...         1       449.0   \n",
       "1  Women's Set of 5 Multicolor Pure Leather Singl...         1       449.0   \n",
       "\n",
       "   shipping_fee  cod        order_status  \n",
       "0         84.96  NaN  Delivered to buyer  \n",
       "1         60.18  NaN  Delivered to buyer  "
      ]
     },
     "execution_count": 21,
     "metadata": {},
     "output_type": "execute_result"
    }
   ],
   "source": [
    "data.head(2)"
   ]
  },
  {
   "cell_type": "code",
   "execution_count": 22,
   "id": "8c7df9eb",
   "metadata": {},
   "outputs": [
    {
     "name": "stdout",
     "output_type": "stream",
     "text": [
      "order_no 171 unique values\n",
      "order_date 171 unique values\n",
      "buyer 149 unique values\n",
      "ship_city 81 unique values\n",
      "ship_state 30 unique values\n",
      "sku 54 unique values\n",
      "description 61 unique values\n",
      "quantity 4 unique values\n",
      "item_total 18 unique values\n",
      "shipping_fee 13 unique values\n",
      "cod 1 unique values\n",
      "order_status 2 unique values\n"
     ]
    }
   ],
   "source": [
    "for col in data.columns: \n",
    "    print(col, data[col].nunique(), \"unique values\")"
   ]
  },
  {
   "cell_type": "code",
   "execution_count": 23,
   "id": "6ab8b280",
   "metadata": {},
   "outputs": [],
   "source": [
    "#some things are \"too unique\" to play any role in regression classification, so we can drop those \n",
    "data = data.drop(labels=[\"order_no\", \"buyer\"], axis=1)"
   ]
  },
  {
   "cell_type": "code",
   "execution_count": 24,
   "id": "563096b6",
   "metadata": {},
   "outputs": [
    {
     "data": {
      "text/plain": [
       "MUMBAI,           17\n",
       "BENGALURU,        15\n",
       "KOLKATA,          11\n",
       "HYDERABAD,         9\n",
       "CHENNAI,           7\n",
       "                  ..\n",
       "JALANDHAR,         1\n",
       "THISAYANVILAI,     1\n",
       "BIDHAN NAGAR,      1\n",
       "New Delhi,         1\n",
       "Durg,              1\n",
       "Name: ship_city, Length: 81, dtype: int64"
      ]
     },
     "execution_count": 24,
     "metadata": {},
     "output_type": "execute_result"
    }
   ],
   "source": [
    "data['ship_city'].value_counts()"
   ]
  },
  {
   "cell_type": "code",
   "execution_count": 25,
   "id": "04a841cd",
   "metadata": {},
   "outputs": [],
   "source": [
    "data['ship_state'] = data['ship_state'].apply(lambda x: x.replace(\",\", \"\"))\n",
    "data['ship_city'] = data['ship_city'].apply(lambda x: x.replace(\",\", \"\"))"
   ]
  },
  {
   "cell_type": "code",
   "execution_count": 26,
   "id": "5c969e4e",
   "metadata": {},
   "outputs": [],
   "source": [
    "data['order_datetime'] = data['order_date'].apply(lambda x: x[4:])"
   ]
  },
  {
   "cell_type": "code",
   "execution_count": 27,
   "id": "ba1f2af0",
   "metadata": {},
   "outputs": [],
   "source": [
    "data['order_dayname'] = data['order_date'].apply(lambda x: x[:3])"
   ]
  },
  {
   "cell_type": "code",
   "execution_count": 28,
   "id": "bbf06da3",
   "metadata": {},
   "outputs": [
    {
     "name": "stderr",
     "output_type": "stream",
     "text": [
      "c:\\users\\ana jones\\pycharmprojects\\jupyter\\venv\\lib\\site-packages\\dateutil\\parser\\_parser.py:1207: UnknownTimezoneWarning: tzname IST identified but not understood.  Pass `tzinfos` argument in order to correctly return a timezone-aware datetime.  In a future version, this will raise an exception.\n",
      "  warnings.warn(\"tzname {tzname} identified but not understood.  \"\n"
     ]
    }
   ],
   "source": [
    "data['order_date_formatted'] = pd.DatetimeIndex(data['order_date']).date\n",
    "data['order_date_formatted'] = pd.to_datetime(data['order_date_formatted']) \n",
    "data['order_month'] = data['order_date_formatted'].dt.month_name()\n",
    "data['order_time_formatted'] = pd.DatetimeIndex(data['order_date']).time\n",
    "data['order_time_formatted'] = pd.to_datetime(data['order_time_formatted'], format=\"%H:%M:%S\")\n",
    "data['order_time_formatted'] = data['order_time_formatted'].dt.strftime(\"%H:%M:%S\")\n",
    "\n",
    "# data['order_hour_24'] = data['order_time_formatted'].apply(lambda x: x.str.split(\":\")[0])"
   ]
  },
  {
   "cell_type": "code",
   "execution_count": 29,
   "id": "45f60390",
   "metadata": {},
   "outputs": [],
   "source": [
    "data['order_hour'] = data['order_time_formatted'].apply(lambda x: x.split(\":\")[0])\n",
    "data['order_minute'] = data['order_time_formatted'].apply(lambda x: x.split(\":\")[1])"
   ]
  },
  {
   "cell_type": "code",
   "execution_count": 170,
   "id": "8735a235",
   "metadata": {},
   "outputs": [
    {
     "data": {
      "image/png": "[encoded data removed]",
      "text/plain": [
       "<Figure size 864x288 with 1 Axes>"
      ]
     },
     "metadata": {},
     "output_type": "display_data"
    }
   ],
   "source": [
    "plt.figure(figsize=(12, 4))\n",
    "sns.set_style(\"darkgrid\")\n",
    "\n",
    "daily = data.groupby([\"order_date_formatted\"])['item_total'].sum().to_frame(\"Total Sales\").reset_index()\n",
    "sns.lineplot(data=daily, x=\"order_date_formatted\", y=\"Total Sales\")\n",
    "plt.xlabel(\"Order Date\");"
   ]
  },
  {
   "cell_type": "code",
   "execution_count": 30,
   "id": "59dbc640",
   "metadata": {},
   "outputs": [
    {
     "data": {
      "image/png": "[encoded data removed]",
      "text/plain": [
       "<Figure size 864x288 with 1 Axes>"
      ]
     },
     "metadata": {
      "needs_background": "light"
     },
     "output_type": "display_data"
    }
   ],
   "source": [
    "\n",
    "#\n",
    "data.order_hour.value_counts().sort_index(ascending=True).plot(kind=\"bar\", figsize=(12, 4))\n",
    "plt.xlabel(\"Hour of Day\")\n",
    "plt.ylabel(\"Order Count\");"
   ]
  },
  {
   "cell_type": "code",
   "execution_count": 31,
   "id": "fe9d79af",
   "metadata": {},
   "outputs": [
    {
     "data": {
      "image/png": "[encoded data removed]",
      "text/plain": [
       "<Figure size 864x288 with 1 Axes>"
      ]
     },
     "metadata": {
      "needs_background": "light"
     },
     "output_type": "display_data"
    }
   ],
   "source": [
    "data.groupby([\"order_hour\"])[\"item_total\"].sum().to_frame(\"Total Sales\").reset_index().plot(kind=\"bar\", \n",
    "                                                                                           figsize=(12, 4)),\n",
    "                                                                                           \n",
    "plt.xlabel(\"Hour of Day\")\n",
    "plt.ylabel(\"Total Sales\");"
   ]
  },
  {
   "cell_type": "code",
   "execution_count": 32,
   "id": "c5d38e2a",
   "metadata": {},
   "outputs": [
    {
     "data": {
      "text/html": [
       "<div>\n",
       "<style scoped>\n",
       "    .dataframe tbody tr th:only-of-type {\n",
       "        vertical-align: middle;\n",
       "    }\n",
       "\n",
       "    .dataframe tbody tr th {\n",
       "        vertical-align: top;\n",
       "    }\n",
       "\n",
       "    .dataframe thead th {\n",
       "        text-align: right;\n",
       "    }\n",
       "</style>\n",
       "<table border=\"1\" class=\"dataframe\">\n",
       "  <thead>\n",
       "    <tr style=\"text-align: right;\">\n",
       "      <th></th>\n",
       "      <th>ship_state</th>\n",
       "      <th>Total Sales</th>\n",
       "      <th>rank</th>\n",
       "    </tr>\n",
       "  </thead>\n",
       "  <tbody>\n",
       "    <tr>\n",
       "      <th>16</th>\n",
       "      <td>MAHARASHTRA</td>\n",
       "      <td>17665.0</td>\n",
       "      <td>29.0</td>\n",
       "    </tr>\n",
       "    <tr>\n",
       "      <th>28</th>\n",
       "      <td>WEST BENGAL</td>\n",
       "      <td>14184.0</td>\n",
       "      <td>28.0</td>\n",
       "    </tr>\n",
       "    <tr>\n",
       "      <th>23</th>\n",
       "      <td>TAMIL NADU</td>\n",
       "      <td>11634.0</td>\n",
       "      <td>27.0</td>\n",
       "    </tr>\n",
       "    <tr>\n",
       "      <th>13</th>\n",
       "      <td>KARNATAKA</td>\n",
       "      <td>7934.0</td>\n",
       "      <td>26.0</td>\n",
       "    </tr>\n",
       "    <tr>\n",
       "      <th>26</th>\n",
       "      <td>UTTAR PRADESH</td>\n",
       "      <td>6038.0</td>\n",
       "      <td>25.0</td>\n",
       "    </tr>\n",
       "  </tbody>\n",
       "</table>\n",
       "</div>"
      ],
      "text/plain": [
       "       ship_state  Total Sales  rank\n",
       "16    MAHARASHTRA      17665.0  29.0\n",
       "28    WEST BENGAL      14184.0  28.0\n",
       "23     TAMIL NADU      11634.0  27.0\n",
       "13      KARNATAKA       7934.0  26.0\n",
       "26  UTTAR PRADESH       6038.0  25.0"
      ]
     },
     "execution_count": 32,
     "metadata": {},
     "output_type": "execute_result"
    }
   ],
   "source": [
    "\n",
    "sales_by_state = data.groupby(['ship_state'])['item_total'].sum().to_frame(\"Total Sales\").reset_index()\n",
    "sales_by_state[\"rank\"] = sales_by_state['Total Sales'].rank()\n",
    "sales_by_state.sort_values(by='rank', ascending=False)[:5]"
   ]
  },
  {
   "cell_type": "code",
   "execution_count": 33,
   "id": "540978d0",
   "metadata": {},
   "outputs": [
    {
     "data": {
      "text/html": [
       "<div>\n",
       "<style scoped>\n",
       "    .dataframe tbody tr th:only-of-type {\n",
       "        vertical-align: middle;\n",
       "    }\n",
       "\n",
       "    .dataframe tbody tr th {\n",
       "        vertical-align: top;\n",
       "    }\n",
       "\n",
       "    .dataframe thead th {\n",
       "        text-align: right;\n",
       "    }\n",
       "</style>\n",
       "<table border=\"1\" class=\"dataframe\">\n",
       "  <thead>\n",
       "    <tr style=\"text-align: right;\">\n",
       "      <th></th>\n",
       "      <th>order_date</th>\n",
       "      <th>ship_city</th>\n",
       "      <th>ship_state</th>\n",
       "      <th>sku</th>\n",
       "      <th>description</th>\n",
       "      <th>quantity</th>\n",
       "      <th>item_total</th>\n",
       "      <th>shipping_fee</th>\n",
       "      <th>cod</th>\n",
       "      <th>order_status</th>\n",
       "      <th>order_datetime</th>\n",
       "      <th>order_dayname</th>\n",
       "      <th>order_date_formatted</th>\n",
       "      <th>order_month</th>\n",
       "      <th>order_time_formatted</th>\n",
       "      <th>order_hour</th>\n",
       "      <th>order_minute</th>\n",
       "    </tr>\n",
       "  </thead>\n",
       "  <tbody>\n",
       "    <tr>\n",
       "      <th>0</th>\n",
       "      <td>Sun, 18 Jul, 2021, 10:38 pm IST</td>\n",
       "      <td>CHANDIGARH</td>\n",
       "      <td>CHANDIGARH</td>\n",
       "      <td>SKU:  2X-3C0F-KNJE</td>\n",
       "      <td>100% Leather Elephant Shaped Piggy Coin Bank |...</td>\n",
       "      <td>1</td>\n",
       "      <td>449.0</td>\n",
       "      <td>84.96</td>\n",
       "      <td>NaN</td>\n",
       "      <td>Delivered to buyer</td>\n",
       "      <td>18 Jul, 2021, 10:38 pm IST</td>\n",
       "      <td>Sun</td>\n",
       "      <td>2021-07-18</td>\n",
       "      <td>July</td>\n",
       "      <td>22:38:00</td>\n",
       "      <td>22</td>\n",
       "      <td>38</td>\n",
       "    </tr>\n",
       "  </tbody>\n",
       "</table>\n",
       "</div>"
      ],
      "text/plain": [
       "                        order_date   ship_city  ship_state  \\\n",
       "0  Sun, 18 Jul, 2021, 10:38 pm IST  CHANDIGARH  CHANDIGARH   \n",
       "\n",
       "                  sku                                        description  \\\n",
       "0  SKU:  2X-3C0F-KNJE  100% Leather Elephant Shaped Piggy Coin Bank |...   \n",
       "\n",
       "   quantity  item_total  shipping_fee  cod        order_status  \\\n",
       "0         1       449.0         84.96  NaN  Delivered to buyer   \n",
       "\n",
       "                order_datetime order_dayname order_date_formatted order_month  \\\n",
       "0   18 Jul, 2021, 10:38 pm IST           Sun           2021-07-18        July   \n",
       "\n",
       "  order_time_formatted order_hour order_minute  \n",
       "0             22:38:00         22           38  "
      ]
     },
     "execution_count": 33,
     "metadata": {},
     "output_type": "execute_result"
    }
   ],
   "source": [
    "data.head(1)"
   ]
  },
  {
   "cell_type": "code",
   "execution_count": 34,
   "id": "b42d1939",
   "metadata": {},
   "outputs": [
    {
     "name": "stdout",
     "output_type": "stream",
     "text": [
      "Percent of total orders delivered: 93.57%\n",
      "\n",
      "\n",
      "Percent of total orders returned: 6.43%\n"
     ]
    }
   ],
   "source": [
    "print(\"Percent of total orders delivered: {:.2f}%\".format( \\\n",
    "      data[data[\"order_status\"]==\"Delivered to buyer\"].shape[0] / data.shape[0] * 100))\n",
    "print(\"\\n\")\n",
    "print(\"Percent of total orders returned: {:.2f}%\".format( \\\n",
    "      data[data[\"order_status\"]==\"Returned to seller\"].shape[0] / data.shape[0] * 100))"
   ]
  },
  {
   "cell_type": "code",
   "execution_count": 35,
   "id": "04b158c1",
   "metadata": {},
   "outputs": [],
   "source": [
    "# Is order success dependant on mode of payment?\n",
    "# Sales Trend (Sales Pattern over the period)\n",
    "# Which days of the week draw more sales?\n",
    "# People from which states are ordering the most\n",
    "# Which are the top sold products?\n",
    "# What percentage of orders have been returned?\n",
    "# Most popular keywords among the customers"
   ]
  },
  {
   "cell_type": "code",
   "execution_count": 40,
   "id": "fd556bc7",
   "metadata": {},
   "outputs": [
    {
     "data": {
      "text/plain": [
       "Online Payment      124\n",
       "Cash On Delivery     47\n",
       "Name: cod, dtype: int64"
      ]
     },
     "execution_count": 40,
     "metadata": {},
     "output_type": "execute_result"
    }
   ],
   "source": [
    "data['cod'].value_counts()"
   ]
  },
  {
   "cell_type": "code",
   "execution_count": 54,
   "id": "67b1427c",
   "metadata": {},
   "outputs": [
    {
     "data": {
      "text/html": [
       "<div>\n",
       "<style scoped>\n",
       "    .dataframe tbody tr th:only-of-type {\n",
       "        vertical-align: middle;\n",
       "    }\n",
       "\n",
       "    .dataframe tbody tr th {\n",
       "        vertical-align: top;\n",
       "    }\n",
       "\n",
       "    .dataframe thead th {\n",
       "        text-align: right;\n",
       "    }\n",
       "</style>\n",
       "<table border=\"1\" class=\"dataframe\">\n",
       "  <thead>\n",
       "    <tr style=\"text-align: right;\">\n",
       "      <th></th>\n",
       "      <th>cod</th>\n",
       "      <th>order_status</th>\n",
       "      <th>n_orders</th>\n",
       "    </tr>\n",
       "  </thead>\n",
       "  <tbody>\n",
       "    <tr>\n",
       "      <th>0</th>\n",
       "      <td>Cash On Delivery</td>\n",
       "      <td>Delivered to buyer</td>\n",
       "      <td>42</td>\n",
       "    </tr>\n",
       "    <tr>\n",
       "      <th>1</th>\n",
       "      <td>Cash On Delivery</td>\n",
       "      <td>Returned to seller</td>\n",
       "      <td>5</td>\n",
       "    </tr>\n",
       "    <tr>\n",
       "      <th>2</th>\n",
       "      <td>Online Payment</td>\n",
       "      <td>Delivered to buyer</td>\n",
       "      <td>118</td>\n",
       "    </tr>\n",
       "    <tr>\n",
       "      <th>3</th>\n",
       "      <td>Online Payment</td>\n",
       "      <td>Returned to seller</td>\n",
       "      <td>6</td>\n",
       "    </tr>\n",
       "  </tbody>\n",
       "</table>\n",
       "</div>"
      ],
      "text/plain": [
       "                cod        order_status  n_orders\n",
       "0  Cash On Delivery  Delivered to buyer        42\n",
       "1  Cash On Delivery  Returned to seller         5\n",
       "2    Online Payment  Delivered to buyer       118\n",
       "3    Online Payment  Returned to seller         6"
      ]
     },
     "execution_count": 54,
     "metadata": {},
     "output_type": "execute_result"
    }
   ],
   "source": [
    "payment_status"
   ]
  },
  {
   "cell_type": "code",
   "execution_count": 56,
   "id": "d2b2fbc3",
   "metadata": {},
   "outputs": [
    {
     "name": "stdout",
     "output_type": "stream",
     "text": [
      "10.638297872340425 4.838709677419355\n"
     ]
    }
   ],
   "source": [
    "payment_status = data.groupby(['cod', 'order_status']).size().to_frame('n_orders').reset_index()\n",
    "payment_status\n",
    "\n",
    "x = payment_status[\"n_orders\"][1] / (payment_status[\"n_orders\"][0] + payment_status[\"n_orders\"][1]) * 100\n",
    "y = payment_status[\"n_orders\"][3] / (payment_status[\"n_orders\"][2] + payment_status[\"n_orders\"][3]) * 100\n",
    "\n",
    "print(x, y)\n",
    "\n",
    "# lower percentage of Online Payment orders are cancelled vs. paid in cash at delivery "
   ]
  },
  {
   "cell_type": "code",
   "execution_count": 111,
   "id": "c8206c3d",
   "metadata": {},
   "outputs": [
    {
     "data": {
      "text/plain": [
       "<AxesSubplot:xlabel='count', ylabel='order_status'>"
      ]
     },
     "execution_count": 111,
     "metadata": {},
     "output_type": "execute_result"
    },
    {
     "data": {
      "image/png": "[encoded data removed]",
      "text/plain": [
       "<Figure size 864x288 with 1 Axes>"
      ]
     },
     "metadata": {
      "needs_background": "light"
     },
     "output_type": "display_data"
    }
   ],
   "source": [
    "plt.figure(figsize=(12, 4))\n",
    "sns.countplot( data = data , y = 'order_status' , hue = 'cod')"
   ]
  },
  {
   "cell_type": "code",
   "execution_count": 86,
   "id": "49510e70",
   "metadata": {},
   "outputs": [
    {
     "data": {
      "text/plain": [
       "Text(-0.5, 35, 'Sales peak mid-week and again on Sunday')"
      ]
     },
     "execution_count": 86,
     "metadata": {},
     "output_type": "execute_result"
    },
    {
     "data": {
      "image/png": "[encoded data removed]",
      "text/plain": [
       "<Figure size 864x288 with 1 Axes>"
      ]
     },
     "metadata": {
      "needs_background": "light"
     },
     "output_type": "display_data"
    }
   ],
   "source": [
    "DOW = data.order_dayname.value_counts().reset_index().rename(columns={\"index\":\"DOW\", \"order_dayname\": \"Order Count\"})\n",
    "DOW_order = [\"Mon\", \"Tue\", \"Wed\", \"Thu\", \"Fri\", \"Sat\", \"Sun\"]\n",
    "\n",
    "fig, ax = plt.subplots(figsize=(12, 4))\n",
    "\n",
    "sns.barplot(data=DOW, x=\"DOW\", y=\"Order Count\", order=DOW_order, color='tab:blue')\n",
    "\n",
    "plt.xlabel(\"Day of Week\", {\"fontsize\":11, \"font\":\"monospace\"})\n",
    "plt.ylabel(\"Order Count\", font=\"monospace\", fontsize=11)\n",
    "ax.text(-0.5, 35, \"Sales peak mid-week and again on Sunday\", {\"font\":\"monospace\", \"fontweight\":\"bold\", \"fontsize\":18})\n",
    " "
   ]
  },
  {
   "cell_type": "code",
   "execution_count": 102,
   "id": "12562431",
   "metadata": {},
   "outputs": [
    {
     "data": {
      "text/plain": [
       "Text(0.5, 1.0, 'Top 5 Best-Selling Products')"
      ]
     },
     "execution_count": 102,
     "metadata": {},
     "output_type": "execute_result"
    },
    {
     "data": {
      "image/png": "[encoded data removed]",
      "text/plain": [
       "<Figure size 432x288 with 1 Axes>"
      ]
     },
     "metadata": {
      "needs_background": "light"
     },
     "output_type": "display_data"
    }
   ],
   "source": [
    "data['sku'] = data['sku'].apply(lambda x: x.replace(\"SKU:\", \"\").strip())\n",
    "data['sku'].value_counts()[:5].plot(kind=\"bar\")\n",
    "plt.xticks(font=\"monospace\")\n",
    "plt.xlabel(\"SKU\", font=\"monospace\")\n",
    "plt.ylabel(\"Items Sold\", font=\"monospace\")\n",
    "plt.title(\"Top 5 Best-Selling Products\", ha=\"right\", font=\"monospace\")"
   ]
  },
  {
   "cell_type": "code",
   "execution_count": 159,
   "id": "ce4b553c",
   "metadata": {},
   "outputs": [
    {
     "data": {
      "text/html": [
       "<div>\n",
       "<style scoped>\n",
       "    .dataframe tbody tr th:only-of-type {\n",
       "        vertical-align: middle;\n",
       "    }\n",
       "\n",
       "    .dataframe tbody tr th {\n",
       "        vertical-align: top;\n",
       "    }\n",
       "\n",
       "    .dataframe thead th {\n",
       "        text-align: right;\n",
       "    }\n",
       "</style>\n",
       "<table border=\"1\" class=\"dataframe\">\n",
       "  <thead>\n",
       "    <tr style=\"text-align: right;\">\n",
       "      <th></th>\n",
       "      <th>sku</th>\n",
       "      <th>n_orders</th>\n",
       "    </tr>\n",
       "  </thead>\n",
       "  <tbody>\n",
       "    <tr>\n",
       "      <th>0</th>\n",
       "      <td>DN-0WDX-VYOT</td>\n",
       "      <td>3</td>\n",
       "    </tr>\n",
       "    <tr>\n",
       "      <th>1</th>\n",
       "      <td>3O-GBSM-TYZE</td>\n",
       "      <td>1</td>\n",
       "    </tr>\n",
       "    <tr>\n",
       "      <th>2</th>\n",
       "      <td>54-D265-B74K</td>\n",
       "      <td>1</td>\n",
       "    </tr>\n",
       "  </tbody>\n",
       "</table>\n",
       "</div>"
      ],
      "text/plain": [
       "            sku  n_orders\n",
       "0  DN-0WDX-VYOT         3\n",
       "1  3O-GBSM-TYZE         1\n",
       "2  54-D265-B74K         1"
      ]
     },
     "execution_count": 159,
     "metadata": {},
     "output_type": "execute_result"
    }
   ],
   "source": [
    "data[data[\"order_status\"]==\"Returned to seller\"].groupby(['sku']).size().to_frame(\"n_orders\").sort_values(by=\"n_orders\", ascending=False).reset_index()[:3]"
   ]
  },
  {
   "cell_type": "code",
   "execution_count": 143,
   "id": "f24aabb5",
   "metadata": {},
   "outputs": [
    {
     "data": {
      "text/plain": [
       "Text(0.5, 1.0, 'Delivered vs. Returned Orders by SKU')"
      ]
     },
     "execution_count": 143,
     "metadata": {},
     "output_type": "execute_result"
    },
    {
     "data": {
      "image/png": "[encoded data removed]",
      "text/plain": [
       "<Figure size 1080x1080 with 1 Axes>"
      ]
     },
     "metadata": {
      "needs_background": "light"
     },
     "output_type": "display_data"
    }
   ],
   "source": [
    "plt.figure(figsize=(15, 15))\n",
    "sns.countplot(data=data, y=data[\"sku\"], hue=\"order_status\")\n",
    "plt.ylabel(\"SKU\", font=\"monospace\", fontsize=12)\n",
    "plt.xlabel(\"Order Count\", font=\"monospace\", fontsize=12)\n",
    "plt.title(\"Delivered vs. Returned Orders by SKU\", font=\"monospace\", fontsize=18, ha=\"right\")\n",
    "\n",
    "# only one sku has been returned to seller more than once; let's look further at this SKU \n"
   ]
  },
  {
   "cell_type": "code",
   "execution_count": 162,
   "id": "71ef4e80",
   "metadata": {},
   "outputs": [
    {
     "data": {
      "text/plain": [
       "order_status\n",
       "Delivered to buyer    30\n",
       "Returned to seller     3\n",
       "dtype: int64"
      ]
     },
     "execution_count": 162,
     "metadata": {},
     "output_type": "execute_result"
    }
   ],
   "source": [
    "data[data[\"sku\"]==\"DN-0WDX-VYOT\"].groupby(['order_status']).size()"
   ]
  },
  {
   "cell_type": "code",
   "execution_count": 163,
   "id": "d969ea23",
   "metadata": {},
   "outputs": [
    {
     "data": {
      "text/plain": [
       "0.09090909090909091"
      ]
     },
     "execution_count": 163,
     "metadata": {},
     "output_type": "execute_result"
    }
   ],
   "source": [
    "# would it be worth flagging a sku if return percentage hit a certain point; or notifying seller "
   ]
  },
  {
   "cell_type": "markdown",
   "id": "548d65ba",
   "metadata": {},
   "source": [
    "##### LOGITSITC REGRESSION ANALYSIS"
   ]
  },
  {
   "cell_type": "code",
   "execution_count": 124,
   "id": "c4fababb",
   "metadata": {},
   "outputs": [],
   "source": [
    "from sklearn.linear_model import LogisticRegression\n",
    "from sklearn.model_selection import train_test_split \n",
    "from sklearn.metrics import confusion_matrix, plot_confusion_matrix"
   ]
  },
  {
   "cell_type": "code",
   "execution_count": 164,
   "id": "6471dccb",
   "metadata": {},
   "outputs": [],
   "source": [
    "# can we accurately predict if an order will be cancelled "
   ]
  },
  {
   "cell_type": "markdown",
   "id": "954d3d80",
   "metadata": {},
   "source": [
    "Feature Engineering"
   ]
  },
  {
   "cell_type": "code",
   "execution_count": 165,
   "id": "3dba6c23",
   "metadata": {},
   "outputs": [
    {
     "name": "stdout",
     "output_type": "stream",
     "text": [
      "order_date :  171\n",
      "ship_city :  80\n",
      "ship_state :  29\n",
      "sku :  54\n",
      "description :  61\n",
      "quantity :  4\n",
      "item_total :  18\n",
      "shipping_fee :  13\n",
      "***** cod :  2\n",
      "***** order_status :  2\n",
      "order_datetime :  171\n",
      "order_dayname :  7\n",
      "order_date_formatted :  117\n",
      "order_month :  9\n",
      "order_time_formatted :  154\n",
      "order_hour :  22\n",
      "order_minute :  58\n"
     ]
    }
   ],
   "source": [
    "reg = data.copy()\n",
    "for col in reg.columns: \n",
    "    if reg[col].nunique() == 2: \n",
    "        print(\"*****\", col, \": \", reg[col].nunique())\n",
    "    else:\n",
    "        print(col, \": \", reg[col].nunique())"
   ]
  },
  {
   "cell_type": "code",
   "execution_count": 118,
   "id": "58b33d1a",
   "metadata": {},
   "outputs": [],
   "source": [
    "# reg.drop(labels=[\"order_date\"], axis=1, inplace=True)"
   ]
  },
  {
   "cell_type": "code",
   "execution_count": 127,
   "id": "f35de411",
   "metadata": {},
   "outputs": [],
   "source": [
    "# imputing to binary variables \n",
    "reg['cod'] = np.where(reg['cod']==\"Online Payment\", 1, 0)\n",
    "reg['order_status'] = np.where(reg[\"order_status\"]==\"Delivered to buyer\", 1, 0)"
   ]
  },
  {
   "cell_type": "code",
   "execution_count": 129,
   "id": "11872bd9",
   "metadata": {},
   "outputs": [],
   "source": [
    "reg.drop(columns=[\"order_date\", \"order_datetime\"], inplace=True)"
   ]
  },
  {
   "cell_type": "code",
   "execution_count": 138,
   "id": "9433849e",
   "metadata": {},
   "outputs": [
    {
     "ename": "ValueError",
     "evalue": "Expected 2D array, got 1D array instead:\narray=['quantity' 'item_total' 'shipping_fee' 'order_hour' 'ship_state' 'sku'\n 'order_month'].\nReshape your data either using array.reshape(-1, 1) if your data has a single feature or array.reshape(1, -1) if it contains a single sample.",
     "output_type": "error",
     "traceback": [
      "\u001b[1;31m---------------------------------------------------------------------------\u001b[0m",
      "\u001b[1;31mValueError\u001b[0m                                Traceback (most recent call last)",
      "\u001b[1;32mC:\\Users\\ANAJON~1\\AppData\\Local\\Temp/ipykernel_23016/1911015922.py\u001b[0m in \u001b[0;36m<module>\u001b[1;34m\u001b[0m\n\u001b[0;32m      4\u001b[0m \u001b[1;33m\u001b[0m\u001b[0m\n\u001b[0;32m      5\u001b[0m \u001b[0mencoder\u001b[0m \u001b[1;33m=\u001b[0m \u001b[0mOrdinalEncoder\u001b[0m\u001b[1;33m(\u001b[0m\u001b[1;33m)\u001b[0m\u001b[1;33m\u001b[0m\u001b[1;33m\u001b[0m\u001b[0m\n\u001b[1;32m----> 6\u001b[1;33m \u001b[0mresult\u001b[0m \u001b[1;33m=\u001b[0m \u001b[0mencoder\u001b[0m\u001b[1;33m.\u001b[0m\u001b[0mfit_transform\u001b[0m\u001b[1;33m(\u001b[0m\u001b[0mfeatures\u001b[0m\u001b[1;33m)\u001b[0m\u001b[1;33m\u001b[0m\u001b[1;33m\u001b[0m\u001b[0m\n\u001b[0m",
      "\u001b[1;32mc:\\users\\ana jones\\pycharmprojects\\jupyter\\venv\\lib\\site-packages\\sklearn\\base.py\u001b[0m in \u001b[0;36mfit_transform\u001b[1;34m(self, X, y, **fit_params)\u001b[0m\n\u001b[0;32m    845\u001b[0m         \u001b[1;32mif\u001b[0m \u001b[0my\u001b[0m \u001b[1;32mis\u001b[0m \u001b[1;32mNone\u001b[0m\u001b[1;33m:\u001b[0m\u001b[1;33m\u001b[0m\u001b[1;33m\u001b[0m\u001b[0m\n\u001b[0;32m    846\u001b[0m             \u001b[1;31m# fit method of arity 1 (unsupervised transformation)\u001b[0m\u001b[1;33m\u001b[0m\u001b[1;33m\u001b[0m\u001b[1;33m\u001b[0m\u001b[0m\n\u001b[1;32m--> 847\u001b[1;33m             \u001b[1;32mreturn\u001b[0m \u001b[0mself\u001b[0m\u001b[1;33m.\u001b[0m\u001b[0mfit\u001b[0m\u001b[1;33m(\u001b[0m\u001b[0mX\u001b[0m\u001b[1;33m,\u001b[0m \u001b[1;33m**\u001b[0m\u001b[0mfit_params\u001b[0m\u001b[1;33m)\u001b[0m\u001b[1;33m.\u001b[0m\u001b[0mtransform\u001b[0m\u001b[1;33m(\u001b[0m\u001b[0mX\u001b[0m\u001b[1;33m)\u001b[0m\u001b[1;33m\u001b[0m\u001b[1;33m\u001b[0m\u001b[0m\n\u001b[0m\u001b[0;32m    848\u001b[0m         \u001b[1;32melse\u001b[0m\u001b[1;33m:\u001b[0m\u001b[1;33m\u001b[0m\u001b[1;33m\u001b[0m\u001b[0m\n\u001b[0;32m    849\u001b[0m             \u001b[1;31m# fit method of arity 2 (supervised transformation)\u001b[0m\u001b[1;33m\u001b[0m\u001b[1;33m\u001b[0m\u001b[1;33m\u001b[0m\u001b[0m\n",
      "\u001b[1;32mc:\\users\\ana jones\\pycharmprojects\\jupyter\\venv\\lib\\site-packages\\sklearn\\preprocessing\\_encoders.py\u001b[0m in \u001b[0;36mfit\u001b[1;34m(self, X, y)\u001b[0m\n\u001b[0;32m    884\u001b[0m \u001b[1;33m\u001b[0m\u001b[0m\n\u001b[0;32m    885\u001b[0m         \u001b[1;31m# `_fit` will only raise an error when `self.handle_unknown=\"error\"`\u001b[0m\u001b[1;33m\u001b[0m\u001b[1;33m\u001b[0m\u001b[1;33m\u001b[0m\u001b[0m\n\u001b[1;32m--> 886\u001b[1;33m         \u001b[0mself\u001b[0m\u001b[1;33m.\u001b[0m\u001b[0m_fit\u001b[0m\u001b[1;33m(\u001b[0m\u001b[0mX\u001b[0m\u001b[1;33m,\u001b[0m \u001b[0mhandle_unknown\u001b[0m\u001b[1;33m=\u001b[0m\u001b[0mself\u001b[0m\u001b[1;33m.\u001b[0m\u001b[0mhandle_unknown\u001b[0m\u001b[1;33m,\u001b[0m \u001b[0mforce_all_finite\u001b[0m\u001b[1;33m=\u001b[0m\u001b[1;34m\"allow-nan\"\u001b[0m\u001b[1;33m)\u001b[0m\u001b[1;33m\u001b[0m\u001b[1;33m\u001b[0m\u001b[0m\n\u001b[0m\u001b[0;32m    887\u001b[0m \u001b[1;33m\u001b[0m\u001b[0m\n\u001b[0;32m    888\u001b[0m         \u001b[1;32mif\u001b[0m \u001b[0mself\u001b[0m\u001b[1;33m.\u001b[0m\u001b[0mhandle_unknown\u001b[0m \u001b[1;33m==\u001b[0m \u001b[1;34m\"use_encoded_value\"\u001b[0m\u001b[1;33m:\u001b[0m\u001b[1;33m\u001b[0m\u001b[1;33m\u001b[0m\u001b[0m\n",
      "\u001b[1;32mc:\\users\\ana jones\\pycharmprojects\\jupyter\\venv\\lib\\site-packages\\sklearn\\preprocessing\\_encoders.py\u001b[0m in \u001b[0;36m_fit\u001b[1;34m(self, X, handle_unknown, force_all_finite)\u001b[0m\n\u001b[0;32m     75\u001b[0m         \u001b[0mself\u001b[0m\u001b[1;33m.\u001b[0m\u001b[0m_check_n_features\u001b[0m\u001b[1;33m(\u001b[0m\u001b[0mX\u001b[0m\u001b[1;33m,\u001b[0m \u001b[0mreset\u001b[0m\u001b[1;33m=\u001b[0m\u001b[1;32mTrue\u001b[0m\u001b[1;33m)\u001b[0m\u001b[1;33m\u001b[0m\u001b[1;33m\u001b[0m\u001b[0m\n\u001b[0;32m     76\u001b[0m         \u001b[0mself\u001b[0m\u001b[1;33m.\u001b[0m\u001b[0m_check_feature_names\u001b[0m\u001b[1;33m(\u001b[0m\u001b[0mX\u001b[0m\u001b[1;33m,\u001b[0m \u001b[0mreset\u001b[0m\u001b[1;33m=\u001b[0m\u001b[1;32mTrue\u001b[0m\u001b[1;33m)\u001b[0m\u001b[1;33m\u001b[0m\u001b[1;33m\u001b[0m\u001b[0m\n\u001b[1;32m---> 77\u001b[1;33m         X_list, n_samples, n_features = self._check_X(\n\u001b[0m\u001b[0;32m     78\u001b[0m             \u001b[0mX\u001b[0m\u001b[1;33m,\u001b[0m \u001b[0mforce_all_finite\u001b[0m\u001b[1;33m=\u001b[0m\u001b[0mforce_all_finite\u001b[0m\u001b[1;33m\u001b[0m\u001b[1;33m\u001b[0m\u001b[0m\n\u001b[0;32m     79\u001b[0m         )\n",
      "\u001b[1;32mc:\\users\\ana jones\\pycharmprojects\\jupyter\\venv\\lib\\site-packages\\sklearn\\preprocessing\\_encoders.py\u001b[0m in \u001b[0;36m_check_X\u001b[1;34m(self, X, force_all_finite)\u001b[0m\n\u001b[0;32m     42\u001b[0m         \u001b[1;32mif\u001b[0m \u001b[1;32mnot\u001b[0m \u001b[1;33m(\u001b[0m\u001b[0mhasattr\u001b[0m\u001b[1;33m(\u001b[0m\u001b[0mX\u001b[0m\u001b[1;33m,\u001b[0m \u001b[1;34m\"iloc\"\u001b[0m\u001b[1;33m)\u001b[0m \u001b[1;32mand\u001b[0m \u001b[0mgetattr\u001b[0m\u001b[1;33m(\u001b[0m\u001b[0mX\u001b[0m\u001b[1;33m,\u001b[0m \u001b[1;34m\"ndim\"\u001b[0m\u001b[1;33m,\u001b[0m \u001b[1;36m0\u001b[0m\u001b[1;33m)\u001b[0m \u001b[1;33m==\u001b[0m \u001b[1;36m2\u001b[0m\u001b[1;33m)\u001b[0m\u001b[1;33m:\u001b[0m\u001b[1;33m\u001b[0m\u001b[1;33m\u001b[0m\u001b[0m\n\u001b[0;32m     43\u001b[0m             \u001b[1;31m# if not a dataframe, do normal check_array validation\u001b[0m\u001b[1;33m\u001b[0m\u001b[1;33m\u001b[0m\u001b[1;33m\u001b[0m\u001b[0m\n\u001b[1;32m---> 44\u001b[1;33m             \u001b[0mX_temp\u001b[0m \u001b[1;33m=\u001b[0m \u001b[0mcheck_array\u001b[0m\u001b[1;33m(\u001b[0m\u001b[0mX\u001b[0m\u001b[1;33m,\u001b[0m \u001b[0mdtype\u001b[0m\u001b[1;33m=\u001b[0m\u001b[1;32mNone\u001b[0m\u001b[1;33m,\u001b[0m \u001b[0mforce_all_finite\u001b[0m\u001b[1;33m=\u001b[0m\u001b[0mforce_all_finite\u001b[0m\u001b[1;33m)\u001b[0m\u001b[1;33m\u001b[0m\u001b[1;33m\u001b[0m\u001b[0m\n\u001b[0m\u001b[0;32m     45\u001b[0m             \u001b[1;32mif\u001b[0m \u001b[1;32mnot\u001b[0m \u001b[0mhasattr\u001b[0m\u001b[1;33m(\u001b[0m\u001b[0mX\u001b[0m\u001b[1;33m,\u001b[0m \u001b[1;34m\"dtype\"\u001b[0m\u001b[1;33m)\u001b[0m \u001b[1;32mand\u001b[0m \u001b[0mnp\u001b[0m\u001b[1;33m.\u001b[0m\u001b[0missubdtype\u001b[0m\u001b[1;33m(\u001b[0m\u001b[0mX_temp\u001b[0m\u001b[1;33m.\u001b[0m\u001b[0mdtype\u001b[0m\u001b[1;33m,\u001b[0m \u001b[0mnp\u001b[0m\u001b[1;33m.\u001b[0m\u001b[0mstr_\u001b[0m\u001b[1;33m)\u001b[0m\u001b[1;33m:\u001b[0m\u001b[1;33m\u001b[0m\u001b[1;33m\u001b[0m\u001b[0m\n\u001b[0;32m     46\u001b[0m                 \u001b[0mX\u001b[0m \u001b[1;33m=\u001b[0m \u001b[0mcheck_array\u001b[0m\u001b[1;33m(\u001b[0m\u001b[0mX\u001b[0m\u001b[1;33m,\u001b[0m \u001b[0mdtype\u001b[0m\u001b[1;33m=\u001b[0m\u001b[0mobject\u001b[0m\u001b[1;33m,\u001b[0m \u001b[0mforce_all_finite\u001b[0m\u001b[1;33m=\u001b[0m\u001b[0mforce_all_finite\u001b[0m\u001b[1;33m)\u001b[0m\u001b[1;33m\u001b[0m\u001b[1;33m\u001b[0m\u001b[0m\n",
      "\u001b[1;32mc:\\users\\ana jones\\pycharmprojects\\jupyter\\venv\\lib\\site-packages\\sklearn\\utils\\validation.py\u001b[0m in \u001b[0;36mcheck_array\u001b[1;34m(array, accept_sparse, accept_large_sparse, dtype, order, copy, force_all_finite, ensure_2d, allow_nd, ensure_min_samples, ensure_min_features, estimator)\u001b[0m\n\u001b[0;32m    759\u001b[0m             \u001b[1;31m# If input is 1D raise error\u001b[0m\u001b[1;33m\u001b[0m\u001b[1;33m\u001b[0m\u001b[1;33m\u001b[0m\u001b[0m\n\u001b[0;32m    760\u001b[0m             \u001b[1;32mif\u001b[0m \u001b[0marray\u001b[0m\u001b[1;33m.\u001b[0m\u001b[0mndim\u001b[0m \u001b[1;33m==\u001b[0m \u001b[1;36m1\u001b[0m\u001b[1;33m:\u001b[0m\u001b[1;33m\u001b[0m\u001b[1;33m\u001b[0m\u001b[0m\n\u001b[1;32m--> 761\u001b[1;33m                 raise ValueError(\n\u001b[0m\u001b[0;32m    762\u001b[0m                     \u001b[1;34m\"Expected 2D array, got 1D array instead:\\narray={}.\\n\"\u001b[0m\u001b[1;33m\u001b[0m\u001b[1;33m\u001b[0m\u001b[0m\n\u001b[0;32m    763\u001b[0m                     \u001b[1;34m\"Reshape your data either using array.reshape(-1, 1) if \"\u001b[0m\u001b[1;33m\u001b[0m\u001b[1;33m\u001b[0m\u001b[0m\n",
      "\u001b[1;31mValueError\u001b[0m: Expected 2D array, got 1D array instead:\narray=['quantity' 'item_total' 'shipping_fee' 'order_hour' 'ship_state' 'sku'\n 'order_month'].\nReshape your data either using array.reshape(-1, 1) if your data has a single feature or array.reshape(1, -1) if it contains a single sample."
     ]
    }
   ],
   "source": [
    "from sklearn.preprocessing import OrdinalEncoder\n",
    "\n",
    "features = [\"quantity\", \"item_total\", \"shipping_fee\", \"order_hour\", \"ship_state\", \"sku\", \"order_month\"]\n",
    "\n",
    "encoder = OrdinalEncoder() \n",
    "result = encoder.fit_transform(features)\n"
   ]
  },
  {
   "cell_type": "code",
   "execution_count": 133,
   "id": "e1e5bd0d",
   "metadata": {},
   "outputs": [
    {
     "ename": "SyntaxError",
     "evalue": "invalid syntax (Temp/ipykernel_23016/498763474.py, line 3)",
     "output_type": "error",
     "traceback": [
      "\u001b[1;36m  File \u001b[1;32m\"C:\\Users\\ANAJON~1\\AppData\\Local\\Temp/ipykernel_23016/498763474.py\"\u001b[1;36m, line \u001b[1;32m3\u001b[0m\n\u001b[1;33m    Y = reg[\"order_status\"]\u001b[0m\n\u001b[1;37m      ^\u001b[0m\n\u001b[1;31mSyntaxError\u001b[0m\u001b[1;31m:\u001b[0m invalid syntax\n"
     ]
    }
   ],
   "source": [
    "features = [\"quantity\", \"item_total\", \"shipping_fee\", \"order_hour\", \"ship_state\", \"sku\", \"order_month\"\n",
    "\n",
    "Y = reg[\"order_status\"]"
   ]
  },
  {
   "cell_type": "code",
   "execution_count": null,
   "id": "daf4e60f",
   "metadata": {},
   "outputs": [],
   "source": [
    "features = ['ship_city']"
   ]
  },
  {
   "cell_type": "code",
   "execution_count": null,
   "id": "b962ec3c",
   "metadata": {},
   "outputs": [],
   "source": [
    "features_interest = ['ship_city', 'ship_state' , 'quantity', 'item_total', 'shipping_fee', 'cod',\n",
    "       'order_status']"
   ]
  }
 ],
 "metadata": {
  "kernelspec": {
   "display_name": "Python 3 (ipykernel)",
   "language": "python",
   "name": "python3"
  },
  "language_info": {
   "codemirror_mode": {
    "name": "ipython",
    "version": 3
   },
   "file_extension": ".py",
   "mimetype": "text/x-python",
   "name": "python",
   "nbconvert_exporter": "python",
   "pygments_lexer": "ipython3",
   "version": "3.9.5"
  }
 },
 "nbformat": 4,
 "nbformat_minor": 5
}
